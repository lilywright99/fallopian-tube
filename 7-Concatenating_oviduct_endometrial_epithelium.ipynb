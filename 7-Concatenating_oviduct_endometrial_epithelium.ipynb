{
 "cells": [
  {
   "cell_type": "code",
   "execution_count": null,
   "id": "978b6e1c-9149-47b4-88bf-58a10223417b",
   "metadata": {},
   "outputs": [],
   "source": [
    "import numpy as np\n",
    "import pandas as pd\n",
    "import scanpy as sc\n",
    "import scanpy.external as sce\n",
    "from matplotlib import pyplot as plt\n",
    "import scvelo as scv\n",
    "import anndata as ad\n",
    "import seaborn as sns\n",
    "from matplotlib import rcParams"
   ]
  },
  {
   "cell_type": "code",
   "execution_count": null,
   "id": "25d9a768-9567-4f2e-a3f1-abe9b1385696",
   "metadata": {},
   "outputs": [],
   "source": [
    "sc.settings.verbosity=3\n",
    "sc.logging.print_header()\n",
    "sc.set_figure_params(dpi=300, fontsize=10)\n",
    "FIGSIZE = (4, 3)\n",
    "rcParams[\"figure.figsize\"] = FIGSIZE"
   ]
  },
  {
   "cell_type": "code",
   "execution_count": null,
   "id": "91397562-c36b-489a-bd1a-4038b9ebfa77",
   "metadata": {},
   "outputs": [],
   "source": [
    "oviduct=sc.read_h5ad('/home/j87832lw/mounting/oviduct/data/oviductepitheliumforconcat.h5ad')\n",
    "oviduct.var_names_make_unique()\n",
    "oviduct = oviduct[~oviduct.obs['Patient'].isnull()]"
   ]
  },
  {
   "cell_type": "code",
   "execution_count": null,
   "id": "fc165934-b7b0-4fb9-8e17-b0d1065fc163",
   "metadata": {},
   "outputs": [],
   "source": [
    "endo  = sc.read_h5ad('/home/j87832lw/mounting/oviduct/data/endometrialepithelialclusteringfinalforconcat.h5ad')\n",
    "endo.var_names_make_unique()"
   ]
  },
  {
   "cell_type": "code",
   "execution_count": null,
   "id": "5f28c10e-94d6-41a2-abe5-a40fef663b31",
   "metadata": {},
   "outputs": [],
   "source": [
    "oviendo = ad.concat([oviduct, endo], axis=0, join='inner')\n",
    "oviendo\n",
    "oviendo.obs['Cell_Types']"
   ]
  },
  {
   "cell_type": "code",
   "execution_count": null,
   "id": "3958a195-d103-4a2a-abb2-390d8ac44f52",
   "metadata": {},
   "outputs": [],
   "source": [
    "epithelialcelltypes_dict= {'Ciliated (Endometrial)':['Ciliated (endometrial)'],\n",
    "                           'Ciliated LGR5+ (Endometrial)':['Ciliated LGR5+'],\n",
    "                           'Pre-Ciliated (Endometrial)':['Pre-Ciliated'],\n",
    "                            'Mature multiciliated (Fallopian Tube)':['Mature multiciliated'],\n",
    "                           'OVGP1+ ciliated (Fallopian Tube)':['OVGP1+ ciliated'],\n",
    "                           'Pre-ciliated (Fallopian Tube)': ['Pre-ciliated (Fallopian tube)'],\n",
    "                            'Mature secretory/Primary cilia (Fallopian Tube)':['Mature secretory (Primary cilia)'],\n",
    "                            'Mature secretory-2 (Fallopian Tube)':['Mature secretory-2'],\n",
    "                           'SOX9+ LGR5- (Endometrial)':['SOX9+ LGR5-'],\n",
    "                            'Proliferative SOX9+ (Endometrial)' :['Proliferative SOX9+'],\n",
    "                            'Glandular (Endometrial)':['Glandular'],\n",
    "                           'Glandular Secretory (Endometrial)':['Glandular Secretory'],\n",
    "                            'Mature Secretory-1 (Fallopian Tube)':['Mature secretory-1'],\n",
    "                           'Progenitor (Fallopian Tube)':['Progenitor'],\n",
    "                           'SOX9+ LGR5+ (Endometrial)':['SOX9+ LGR5+'],\n",
    "                           'Lumenal 1 (Endometrial)':['Lumenal 1'],\n",
    "                           'Lumenal 2 (Endometrial)':['Lumenal 2','Lumenal 3']}\n",
    "\n",
    "oviendo.obs['epithelialcelltypes_tissue'] = np.nan\n",
    "\n",
    "for i in epithelialcelltypes_dict.keys():\n",
    "    ind = pd.Series(oviendo.obs.epithelial_celltypes).isin(epithelialcelltypes_dict[i])\n",
    "    oviendo.obs.loc[ind,'epithelialcelltypes_tissue'] = i\n",
    "\n",
    "oviendo.obs['epithelialcelltypes_tissue']"
   ]
  },
  {
   "cell_type": "code",
   "execution_count": null,
   "id": "52a38511-d749-4e7f-9408-007fff0689a6",
   "metadata": {},
   "outputs": [],
   "source": [
    "tissue = {'Endometrium':['GA','Wang'],\n",
    "          'Fallopian Tube':['Dinh_2021','Hu_2020','Ulrich_2022']}\n",
    "\n",
    "oviendo.obs['Tissue_type'] = np.nan\n",
    "\n",
    "for i in tissue.keys():\n",
    "    ind = pd.Series(oviendo.obs.Author).isin(tissue[i])\n",
    "    oviendo.obs.loc[ind,'Tissue_type'] = i"
   ]
  },
  {
   "cell_type": "code",
   "execution_count": null,
   "id": "31822cc9-721b-4a64-afa2-d4a1a2fa0be1",
   "metadata": {},
   "outputs": [],
   "source": [
    "sc.pp.combat(oviendo, key='Tissue')\n",
    "sc.tl.pca(oviendo, svd_solver='arpack', n_comps=150)\n",
    "sc.pp.neighbors(oviendo, n_neighbors=200, n_pcs=25)\n",
    "sc.tl.leiden(oviendo,resolution=1.7)\n",
    "\n",
    "sc.tl.paga(oviendo)\n",
    "sc.pl.paga(oviendo)\n",
    "sc.tl.umap(oviendo, init_pos='paga')\n",
    "\n",
    "\n",
    "sc.pl.umap(oviendo, color=['Cell_Types','Author','leiden'])\n",
    "scv.pl.proportions(oviendo)\n",
    "scv.pp.moments(oviendo)\n",
    "scv.tl.velocity(oviendo, fit_offset2=True)\n",
    "scv.tl.velocity_graph(oviendo)\n",
    "scv.pl.velocity_embedding_stream(oviendo, basis='umap', color='Cell_Types',\n",
    "                                 legend_fontsize='6', legend_loc='right margin')"
   ]
  },
  {
   "cell_type": "code",
   "execution_count": null,
   "id": "f653c8f4-fb69-4cd8-a6ee-f80e68e57c44",
   "metadata": {},
   "outputs": [],
   "source": [
    "sc.pl.umap(oviendo, color=['Tissue_type'])\n",
    "sc.pl.umap(oviendo, color=['epithelialcelltypes_tissue'])"
   ]
  },
  {
   "cell_type": "code",
   "execution_count": null,
   "id": "8f094730-cf89-40e2-b803-18ea10f2be40",
   "metadata": {},
   "outputs": [],
   "source": [
    "marker_genes= ['TPPP3','FOXJ1','PIFO','CFAP157','C9orf24','SPAG6','OVGP1',\n",
    "               'CRISP3','PGR','CXCL2','NOTCH2','ATP2B4','C3','LGR5','BCAM',\n",
    "               'MSLN','VPS4A','SMO','FGFR1','PTCH1','MYC','ARMC4','DNAI1','LRRC6','PAEP']\n",
    "sc.tl.dendrogram(oviendo, groupby='epithelialcelltypes_tissue')\n",
    "\n",
    "sc.pl.dotplot(oviendo, marker_genes, groupby='epithelialcelltypes_tissue', \n",
    "              dendrogram=True, save = 'oviendoepithelialcelltypemarkersdotplot.png')"
   ]
  },
  {
   "cell_type": "code",
   "execution_count": null,
   "id": "8c8e6bec-4c9a-4ebd-bf3f-cf4e39fece9e",
   "metadata": {},
   "outputs": [],
   "source": [
    "results_file = ('/home/j87832lw/mounting/oviduct/data/oviendoumap.h5ad')\n",
    "oviendo.write(results_file)"
   ]
  },
  {
   "cell_type": "code",
   "execution_count": null,
   "id": "89b1a669-90cd-4d12-b482-4e91a64dd0db",
   "metadata": {},
   "outputs": [],
   "source": []
  }
 ],
 "metadata": {
  "kernelspec": {
   "display_name": "Python 3 (ipykernel)",
   "language": "python",
   "name": "python3"
  },
  "language_info": {
   "codemirror_mode": {
    "name": "ipython",
    "version": 3
   },
   "file_extension": ".py",
   "mimetype": "text/x-python",
   "name": "python",
   "nbconvert_exporter": "python",
   "pygments_lexer": "ipython3",
   "version": "3.12.4"
  }
 },
 "nbformat": 4,
 "nbformat_minor": 5
}
