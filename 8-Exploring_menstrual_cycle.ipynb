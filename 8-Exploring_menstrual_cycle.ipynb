{
 "cells": [
  {
   "cell_type": "code",
   "execution_count": null,
   "id": "e222cfd5-8fc8-46ec-960a-517944fc7730",
   "metadata": {},
   "outputs": [],
   "source": [
    "import numpy as np\n",
    "import pandas as pd\n",
    "import scanpy as sc\n",
    "import scanpy.external as sce\n",
    "from matplotlib import pyplot as plt\n",
    "import scvelo as scv\n",
    "import anndata as ad\n",
    "import seaborn as sns\n",
    "import matplotlib.pyplot as plt\n",
    "import matplotlib\n",
    "import scipy\n",
    "from scipy import io\n",
    "from matplotlib import rcParams"
   ]
  },
  {
   "cell_type": "code",
   "execution_count": null,
   "id": "2550850e-88d1-497d-a300-7a01dd0ecf59",
   "metadata": {},
   "outputs": [],
   "source": [
    "sc.settings.verbosity=3\n",
    "sc.logging.print_header()\n",
    "sc.set_figure_params(dpi=300, fontsize=10)\n",
    "FIGSIZE = (4, 3)\n",
    "rcParams[\"figure.figsize\"] = FIGSIZE"
   ]
  },
  {
   "cell_type": "code",
   "execution_count": null,
   "id": "922f89e5-e817-4c81-a001-03a10f6b936f",
   "metadata": {},
   "outputs": [],
   "source": [
    "oviductepithelial = sc.read_h5ad('/home/j87832lw/mounting/oviduct/data/oviductepitheliumforconcat.h5ad')\n",
    "oviductepithelial"
   ]
  },
  {
   "cell_type": "code",
   "execution_count": null,
   "id": "06790cca-74a5-4335-965b-c3542f170601",
   "metadata": {},
   "outputs": [],
   "source": [
    "menstrualtissuedict = {\n",
    " 'Secretory_FT': ['Secretory'],\n",
    "'Proliferative_FT':['Proliferative'],\n",
    " 'Post-menopausal_FT': ['Post-menopausal'], \n",
    " 'Peri-menopausal_FT': ['Peri-menopausal']}\n",
    "\n",
    "oviductepithelial.obs['menstrual_status_tissue'] = np.nan\n",
    "\n",
    "for i in menstrualtissuedict.keys():\n",
    "    ind = pd.Series(oviductepithelial.obs.menstrual_status).isin(menstrualtissuedict[i])\n",
    "    oviductepithelial.obs.loc[ind,'menstrual_status_tissue'] = i\n",
    "\n",
    "oviductepithelial.obs['menstrual_status_tissue']"
   ]
  },
  {
   "cell_type": "code",
   "execution_count": null,
   "id": "5e06ebc0-02fc-441e-9d97-b5057ab4148f",
   "metadata": {},
   "outputs": [],
   "source": [
    "sc.pl.umap(oviductepithelial, color=['epithelial_celltypes'])"
   ]
  },
  {
   "cell_type": "code",
   "execution_count": null,
   "id": "6622a40b-23c1-4a61-b873-9f53a7b376e1",
   "metadata": {},
   "outputs": [],
   "source": [
    "menstrual=oviductepithelial[oviductepithelial.obs['menstrual_status'].isin(['Proliferative','Secretory']),:].copy()\n",
    "grouped = menstrual.obs.groupby('menstrual_status')\n",
    "counts = grouped['epithelial_celltypes'].value_counts().unstack().fillna(0)\n",
    "proportions = counts.divide(counts.sum(axis=1), axis=0)\n",
    "\n",
    "counts"
   ]
  },
  {
   "cell_type": "code",
   "execution_count": null,
   "id": "1285ef4e-4ac2-4fe0-bf41-fc481a9f1815",
   "metadata": {},
   "outputs": [],
   "source": [
    "grouped = menstrual.obs.groupby('menstrual_status')\n",
    "counts = grouped['epithelial_celltypes'].value_counts().unstack().fillna(0)\n",
    "proportions = counts.divide(counts.sum(axis=1), axis=0)\n",
    "\n",
    "\n",
    "custom_palette = sns.color_palette('Set3',12)\n",
    "sns.set_palette('tab10',12)\n",
    "\n",
    "plt.figure(figsize=(6,6))\n",
    "proportions.plot(kind='barh', stacked=True, )\n",
    "plt.xlabel('Proportion')\n",
    "plt.ylabel('Menstrual Status')\n",
    "plt.title('Proportion of Cell Types Across Menstrual Status')\n",
    "plt.legend(loc='center left',bbox_to_anchor=(1.0,0.5))\n",
    "plt.tight_layout()\n",
    "sns.reset_defaults()\n",
    "plt.show()"
   ]
  },
  {
   "cell_type": "code",
   "execution_count": null,
   "id": "a3b200b3-0fc2-4b99-9681-c7fdec70662d",
   "metadata": {},
   "outputs": [],
   "source": [
    "secretory=oviductepithelial[oviductepithelial.obs['menstrual_status'].isin(['Secretory']),:].copy()\n",
    "proliferative=oviductepithelial[oviductepithelial.obs['menstrual_status'].isin(['Proliferative']),:].copy()"
   ]
  },
  {
   "cell_type": "code",
   "execution_count": null,
   "id": "a3f959c7-8070-4ef5-9a6d-6b4d32679088",
   "metadata": {},
   "outputs": [],
   "source": [
    "endo= sc.read_h5ad('/home/j87832lw/mounting/oviduct/data/endometrialepithelialclusteringfinalforconcat.h5ad')\n",
    "endo.obs"
   ]
  },
  {
   "cell_type": "code",
   "execution_count": null,
   "id": "0cdde766-f5a6-4e92-b869-96c2dadddcfa",
   "metadata": {},
   "outputs": [],
   "source": [
    "menstrualtissuedictendo = {\n",
    " 'Secretory_endo': ['Secretory'],\n",
    "'Proliferative_endo':['Proliferative']}\n",
    "\n",
    "endo.obs['menstrual_status_tissue'] = np.nan\n",
    "\n",
    "for i in menstrualtissuedictendo.keys():\n",
    "    ind = pd.Series(endo.obs.menstrual_status).isin(menstrualtissuedictendo[i])\n",
    "    endo.obs.loc[ind,'menstrual_status_tissue'] = i\n",
    "\n",
    "endo.obs['menstrual_status_tissue']"
   ]
  },
  {
   "cell_type": "code",
   "execution_count": null,
   "id": "6fa2c431-600f-4068-b188-2a245218219c",
   "metadata": {},
   "outputs": [],
   "source": [
    "grouped = endo.obs.groupby('menstrual_status')\n",
    "counts = grouped['epithelial_celltypes'].value_counts().unstack().fillna(0)\n",
    "proportions = counts.divide(counts.sum(axis=1), axis=0)\n",
    "\n",
    "counts"
   ]
  },
  {
   "cell_type": "code",
   "execution_count": null,
   "id": "31302ea6-46f3-4cb6-8fe1-45d0a229d017",
   "metadata": {},
   "outputs": [],
   "source": [
    "grouped = endo.obs.groupby('menstrual_status')\n",
    "counts = grouped['epithelial_celltypes'].value_counts().unstack().fillna(0)\n",
    "proportions = counts.divide(counts.sum(axis=1), axis=0)\n",
    "\n",
    "custom_palette = sns.color_palette('Set3',12)\n",
    "sns.set_palette('tab10',12)\n",
    "\n",
    "plt.figure(figsize=(6,10))\n",
    "proportions.plot(kind='barh', stacked=True)\n",
    "plt.xlabel('Proportion')\n",
    "plt.ylabel('Menstrual Status')\n",
    "plt.title('Proportion of Cell Types Across Menstrual Status')\n",
    "plt.legend(loc='center left',bbox_to_anchor=(1.0,0.5))\n",
    "plt.tight_layout()\n",
    "sns.reset_defaults()\n",
    "plt.show()"
   ]
  },
  {
   "cell_type": "code",
   "execution_count": null,
   "id": "9b2a013a-13a3-4b45-8d6f-c096bc24b0b7",
   "metadata": {},
   "outputs": [],
   "source": [
    "sc.pl.umap(endo, color='menstrual_status')"
   ]
  },
  {
   "cell_type": "code",
   "execution_count": null,
   "id": "a7cde877-59c5-4c1a-b1e1-08d16d279c9b",
   "metadata": {},
   "outputs": [],
   "source": [
    "endosecretory=endo[endo.obs['menstrual_status'].isin(['Secretory']),:].copy()"
   ]
  },
  {
   "cell_type": "code",
   "execution_count": null,
   "id": "70528c18-b7c0-4e3d-8bf8-c241e4a4ab3c",
   "metadata": {},
   "outputs": [],
   "source": [
    "oviendo = sc.read_h5ad('/home/j87832lw/mounting/oviduct/data/oviendoumapallphase.h5ad')"
   ]
  },
  {
   "cell_type": "code",
   "execution_count": null,
   "id": "4b56b9df-1033-469e-8781-08cb67cb5a2d",
   "metadata": {},
   "outputs": [],
   "source": [
    "oviendo.obs['menstrual_status_tissue']"
   ]
  },
  {
   "cell_type": "code",
   "execution_count": null,
   "id": "f6280920-01af-4c51-9cc8-67e1a7a9ea3c",
   "metadata": {},
   "outputs": [],
   "source": [
    "secretoryoviendo= oviendo[oviendo.obs['menstrual_status_tissue'].isin(['Secretory_FT','Secretory_endo']),:].copy()\n",
    "results_file = '/home/j87832lw/mounting/oviduct/data/secretoryendoonlyoviendoumap.h5ad'\n",
    "secretoryoviendo.write(results_file)"
   ]
  },
  {
   "cell_type": "code",
   "execution_count": null,
   "id": "2c1c0456-87f5-4b6e-92b2-7cb3f8adb21b",
   "metadata": {},
   "outputs": [],
   "source": [
    "secretoryoviendo = sc.read_h5ad('/home/j87832lw/mounting/oviduct/data/secretoryendoonlyoviendoumap.h5ad')\n",
    "sc.pl.umap(secretoryoviendo, color=['broad_celltypes'] )"
   ]
  },
  {
   "cell_type": "code",
   "execution_count": null,
   "id": "3fedd4c2-61a6-4c13-ae5a-15a1ae630f16",
   "metadata": {},
   "outputs": [],
   "source": [
    "sc.pp.log1p(secretoryoviendo)\n",
    "sc.tl.rank_genes_groups(secretoryoviendo,'broad_celltypes', method='wilcoxon')\n",
    "sc.tl.dendrogram(secretoryoviendo, groupby='broad_celltypes')\n",
    "sc.pl.rank_genes_groups_heatmap(secretoryoviendo, n_genes=25, swap_axes=True, show_gene_labels=False,\n",
    "                                vmin=-3, vmax=3 ,save ='secretoryphaseoviendoDEGS.png')"
   ]
  }
 ],
 "metadata": {
  "kernelspec": {
   "display_name": "Python 3 (ipykernel)",
   "language": "python",
   "name": "python3"
  },
  "language_info": {
   "codemirror_mode": {
    "name": "ipython",
    "version": 3
   },
   "file_extension": ".py",
   "mimetype": "text/x-python",
   "name": "python",
   "nbconvert_exporter": "python",
   "pygments_lexer": "ipython3",
   "version": "3.12.4"
  }
 },
 "nbformat": 4,
 "nbformat_minor": 5
}
