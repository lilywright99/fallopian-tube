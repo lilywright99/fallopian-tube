{
 "cells": [
  {
   "cell_type": "code",
   "execution_count": null,
   "id": "7af22ea1-805c-43cc-8ce1-6e72783ed793",
   "metadata": {},
   "outputs": [],
   "source": [
    "import numpy as np\n",
    "import pandas as pd\n",
    "import scanpy as sc\n",
    "import scanpy.external as sce\n",
    "from matplotlib import pyplot as plt\n",
    "import scvelo as scv\n",
    "import anndata as ad\n",
    "import seaborn as sns"
   ]
  },
  {
   "cell_type": "code",
   "execution_count": null,
   "id": "050d806b-8d9d-401a-9d41-ed1c1c179961",
   "metadata": {},
   "outputs": [],
   "source": [
    "sc.settings.verbosity=3\n",
    "sc.logging.print_header()"
   ]
  },
  {
   "cell_type": "code",
   "execution_count": null,
   "id": "2cb450f0-db00-401d-9679-534b31e08142",
   "metadata": {},
   "outputs": [],
   "source": [
    "garcia = sc.read_h5ad('/home/j87832lw/mounting/endometrium/garciacorrected.h5ad')\n",
    "garcia"
   ]
  },
  {
   "cell_type": "code",
   "execution_count": null,
   "id": "4e5ba147-9353-4317-89f5-a27d90abf171",
   "metadata": {},
   "outputs": [],
   "source": [
    "sc.pl.highest_expr_genes(garcia, n_top=20)\n",
    "garcia.var['mt']=garcia.var_names.str.startswith('MT-')\n",
    "sc.pp.calculate_qc_metrics(garcia, qc_vars=['mt'], percent_top=None, log1p=False, inplace=True)\n",
    "sc.pl.violin(garcia, ['n_genes_by_counts','total_counts','pct_counts_mt'],jitter=0.4, multi_panel=True)\n",
    "sc.pl.scatter(garcia, x='total_counts', y='pct_counts_mt')\n",
    "sc.pl.scatter(garcia, x='total_counts', y='n_genes_by_counts')"
   ]
  },
  {
   "cell_type": "code",
   "execution_count": null,
   "id": "2a4d78a2-98cc-421e-916e-601d5cbd95e0",
   "metadata": {},
   "outputs": [],
   "source": [
    "sc.pp.filter_cells(garcia, min_genes=200)\n",
    "sc.pp.filter_genes(garcia, min_cells=3)\n",
    "\n",
    "garcia=garcia[garcia.obs.n_genes_by_counts <7000,:]\n",
    "garcia=garcia[garcia.obs.total_counts <50000,:]\n",
    "garcia=garcia[garcia.obs.pct_counts_mt <30,:]"
   ]
  },
  {
   "cell_type": "code",
   "execution_count": null,
   "id": "d1cd95ce-878c-4baf-9c07-bd7f204ac48e",
   "metadata": {},
   "outputs": [],
   "source": [
    "sc.pp.normalize_total(garcia, target_sum=1e4) \n",
    "sc.pp.log1p(garcia)\n",
    "garcia"
   ]
  },
  {
   "cell_type": "code",
   "execution_count": null,
   "id": "c1615151-8a58-4966-93d3-abc18dfa962f",
   "metadata": {},
   "outputs": [],
   "source": [
    "sc.pp.highly_variable_genes(garcia, min_mean=0.0125, max_mean=3, min_disp=0.5, batch_key='Patient')\n",
    "sc.pl.highly_variable_genes(garcia)\n",
    "garcia.raw = garcia\n",
    "garcia = garcia[:, garcia.var.highly_variable]\n",
    "garcia"
   ]
  },
  {
   "cell_type": "code",
   "execution_count": null,
   "id": "b086178c-a9c0-47db-878b-baf379e14e02",
   "metadata": {},
   "outputs": [],
   "source": [
    "sc.pp.scale(garcia)\n",
    "sc.tl.pca(garcia, svd_solver='arpack', n_comps=150)\n",
    "sc.pl.pca_variance_ratio(garcia)"
   ]
  },
  {
   "cell_type": "code",
   "execution_count": null,
   "id": "f2d38574-f754-4db6-92a9-b055fa40e9a7",
   "metadata": {},
   "outputs": [],
   "source": [
    "sc.pp.neighbors(garcia, n_neighbors=300, n_pcs=15)\n",
    "sc.tl.leiden(garcia,resolution = 1)\n",
    "sc.tl.umap(garcia)"
   ]
  },
  {
   "cell_type": "code",
   "execution_count": null,
   "id": "7eac135e-d44a-42a3-ad2d-9d90eb482250",
   "metadata": {},
   "outputs": [],
   "source": [
    "sc.pl.umap(garcia, color=['Author','leiden','SOX9','LGR5','PAEP','SCGB2A2','EPCAM','CAPS','FOXJ1','PAX8','EPCAM',\n",
    "                          'LYZ','PTPRC','CCL14','DCN','JCHAIN','PAEP','SOX9','LGR5','SCGB1D2','PTGS1', \n",
    "                          'EPCAM','PIFO','FOXJ1','CCNO','SOX9','PAEP','THBS1','PLAU',\n",
    "                'SCGB1D2','GPX3','CXCL14','KRT17','KRT8','ESR1','PTGS1','CPM','PAX8','RUNX3'], save='garciamarkers.pdf')\n"
   ]
  },
  {
   "cell_type": "code",
   "execution_count": null,
   "id": "63a5cd69-0889-4b22-833c-449109a2ca90",
   "metadata": {},
   "outputs": [],
   "source": [
    "sc.tl.rank_genes_groups(garcia,'leiden', method='wilcoxon')\n",
    "topmarkers =garcia.uns['rank_genes_groups']\n",
    "groups = topmarkers['names'].dtype.names\n",
    "garciamarkers = pd.DataFrame({group +'_'+key[:1]:topmarkers[key][group]\n",
    "              for group in groups for key in ['names','pvals']})\n",
    "\n",
    "sc.tl.dendrogram(garcia, groupby='leiden')\n",
    "\n",
    "sc.pl.rank_genes_groups_heatmap(garcia, n_genes=25, swap_axes=True, show_gene_labels=False,\n",
    "                                vmin=-3, vmax=3 )"
   ]
  },
  {
   "cell_type": "code",
   "execution_count": null,
   "id": "c74d633c-617d-4fdb-bf4b-2106cddd1be0",
   "metadata": {},
   "outputs": [],
   "source": [
    "cell_dict= {'T cell': ['10'],\n",
    "'Myeloid':['25'],\n",
    "'Ciliated': ['16'], \n",
    "'Sox9+ Epithelial': ['2','14','19','24','29'],\n",
    "'Lumenal Epithelial': ['4','5','11','13','26'],\n",
    "'Glandular Epithelial': ['9','12','17'],\n",
    "'Smooth Muscle':['3','6','23'],\n",
    "'Non-decidualised Stroma':['1','28','22'],\n",
    "'Decidualised Stroma':['15','0','7','18','27'],\n",
    "'Endothelial':['8','20'],\n",
    "'Natural Killer Cell':['21']}\n",
    "\n",
    "garcia.obs['Cell_Types'] = np.nan\n",
    "\n",
    "for i in cell_dict.keys():\n",
    "    ind = pd.Series(garcia.obs.leiden).isin(cell_dict[i])\n",
    "    garcia.obs.loc[ind,'Cell_Types'] = i"
   ]
  },
  {
   "cell_type": "code",
   "execution_count": null,
   "id": "e7609549-d32c-4373-88df-b57848bdf294",
   "metadata": {},
   "outputs": [],
   "source": [
    "sc.pl.umap(garcia, color=['Cell_Types'], legend_loc='on data', save='garciaannotatedcellmap.png')"
   ]
  },
  {
   "cell_type": "code",
   "execution_count": null,
   "id": "ff07ca0c-19a5-4b6c-89b6-a5458776d17f",
   "metadata": {},
   "outputs": [],
   "source": [
    "garciaclustered = '/home/j87832lw/oviduct/oviduct.all/garciallclustered.h5ad' \n",
    "garcia.write(garciaclustered)"
   ]
  }
 ],
 "metadata": {
  "kernelspec": {
   "display_name": "Python 3 (ipykernel)",
   "language": "python",
   "name": "python3"
  },
  "language_info": {
   "codemirror_mode": {
    "name": "ipython",
    "version": 3
   },
   "file_extension": ".py",
   "mimetype": "text/x-python",
   "name": "python",
   "nbconvert_exporter": "python",
   "pygments_lexer": "ipython3",
   "version": "3.12.4"
  }
 },
 "nbformat": 4,
 "nbformat_minor": 5
}
