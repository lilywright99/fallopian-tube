{
 "cells": [
  {
   "cell_type": "code",
   "execution_count": null,
   "id": "15477a20-48f4-4e54-a3df-09b88ccb978a",
   "metadata": {},
   "outputs": [],
   "source": [
    "import numpy as np\n",
    "import pandas as pd\n",
    "import scanpy as sc\n",
    "import scanpy.external as sce\n",
    "from matplotlib import pyplot as plt\n",
    "import scvelo as scv\n",
    "import anndata as ad\n",
    "import seaborn as sns"
   ]
  },
  {
   "cell_type": "code",
   "execution_count": null,
   "id": "9e63d0d4-0796-4678-a497-8ba11e25b39f",
   "metadata": {},
   "outputs": [],
   "source": [
    "sc.settings.verbosity=3\n",
    "sc.logging.print_header()"
   ]
  },
  {
   "cell_type": "code",
   "execution_count": null,
   "id": "9f7fc512-820e-4cf3-8a3c-b4e7fd9843e8",
   "metadata": {},
   "outputs": [],
   "source": [
    "sc.settings.set_figure_params(dpi=80, figsize=(4,4),facecolor='white')\n",
    "plt.rcParams['figure.figsize']=(4,4)"
   ]
  },
  {
   "cell_type": "code",
   "execution_count": null,
   "id": "32adadf6-c10e-4024-9856-5b5ecaa2ac2d",
   "metadata": {},
   "outputs": [],
   "source": [
    "garcia = sc.read_loom('/home/j87832lw/mounting/endometrium/ga_wang_all.loom')\n",
    "garcia"
   ]
  },
  {
   "cell_type": "code",
   "execution_count": null,
   "id": "696a8f5f-d689-4b8b-8a24-750b8933caa8",
   "metadata": {},
   "outputs": [],
   "source": [
    "garcia.obs.rename(columns={'Binary Stage':'menstrual_status'}, inplace=True)\n",
    "garcia.obs['menstrual_status']"
   ]
  },
  {
   "cell_type": "code",
   "execution_count": null,
   "id": "02a9604f-c614-4bd0-a7d3-e6cfbb0091e2",
   "metadata": {},
   "outputs": [],
   "source": [
    "garcia.obs.rename(columns={'StudyName':'Author'}, inplace=True)\n",
    "garcia.obs['Author']"
   ]
  },
  {
   "cell_type": "code",
   "execution_count": null,
   "id": "242efd99-dfc4-4bfc-9c11-c5201cdd7b02",
   "metadata": {},
   "outputs": [],
   "source": [
    "Patient_dict = { 'patient 16':['A13'],\n",
    "            'patient 17':['A30'],\n",
    "            'patient 18':['E1'],\n",
    "            'patient 19':['E2'],\n",
    "            'patient 20':['E3'],\n",
    "            'patient 21':['SAMN15049042'],\n",
    "            'patient 22':['SAMN15049043'],\n",
    "            'patient 23':['SAMN15049044'],\n",
    "            'patient 24':['SAMN15049045'],\n",
    "            'patient 25':['SAMN15049046'],\n",
    "            'patient 26':['SAMN15049047'],\n",
    "            'patient 27':['SAMN15049048'],\n",
    "            'patient 28':['SAMN15049049'],\n",
    "            'patient 29':['SAMN15049050'],\n",
    "            'patient 30':['SAMN15049051']}\n",
    "\n",
    "garcia.obs['Patient'] = np.nan\n",
    "for i in Patient_dict.keys():\n",
    "    ind = pd.Series(garcia.obs.DonorID).isin(Patient_dict[i])\n",
    "    garcia.obs.loc[ind,'Patient'] = i\n",
    "\n",
    "garcia.obs['Patient']= garcia.obs['Patient'].astype('category')\n",
    "garcia.obs['Patient']"
   ]
  },
  {
   "cell_type": "code",
   "execution_count": null,
   "id": "7ac85b35-c12f-48c6-9177-3546225fe667",
   "metadata": {},
   "outputs": [],
   "source": [
    "Tissue_dict = {'Endometrium':['patient 16','patient 17','patient 18','patient 19','patient 20','patient 21','patient 22',\n",
    "     'patient 23','patient 24','patient 25','patient 26','patient 27','patient 28','patient 29','patient 30']}\n",
    "\n",
    "garcia.obs['Tissue'] = np.nan\n",
    "for i in Tissue_dict.keys():\n",
    "    ind = pd.Series(garcia.obs.Patient).isin(Tissue_dict[i])\n",
    "    garcia.obs.loc[ind,'Tissue'] = i\n",
    "\n",
    "garcia.obs['Tissue']= garcia.obs['Tissue'].astype('category')\n",
    "garcia.obs['Tissue']"
   ]
  },
  {
   "cell_type": "code",
   "execution_count": null,
   "id": "13c2e1b1-9b1c-41eb-b2c8-46aaf271f55a",
   "metadata": {},
   "outputs": [],
   "source": [
    "cycle_dict = {'unknown':['patient 16','patient 17'],\n",
    "              'day 25':['patient 18'],\n",
    "              'day 20':['patient 19','patient 23','patient 27'],\n",
    "              'day 8':['patient 20'],\n",
    "              'day 16':['patient 21'],\n",
    "              'day 26':['patient 22','patient 24'],\n",
    "              'day 29':['patient 25'],\n",
    "              'day 23':['patient 26'],\n",
    "              'day 22':['patient 28','patient 29'],\n",
    "              'day 17':['patient 30']}\n",
    "\n",
    "garcia.obs['cycle_day'] = np.nan\n",
    "for i in cycle_dict.keys():\n",
    "    ind = pd.Series(garcia.obs.Patient).isin(cycle_dict[i])\n",
    "    garcia.obs.loc[ind,'cycle_day'] = i\n",
    "\n",
    "garcia.obs['cycle_day']= garcia.obs['cycle_day'].astype('category')\n",
    "garcia.obs['cycle_day']"
   ]
  },
  {
   "cell_type": "code",
   "execution_count": null,
   "id": "cf7d5052-99fc-4779-85c3-968d021b57d2",
   "metadata": {},
   "outputs": [],
   "source": [
    "age_dict = {37:['patient 16'],\n",
    "            23:['patient 17'],\n",
    "            29:['patient 18'],\n",
    "            26:['patient 19','patient 20'],\n",
    "            0:['patient 21','patient 22','patient 23','patient 24','patient 25','patient 26','patient 27','patient 28','patient 29','patient 30']}\n",
    "\n",
    "garcia.obs['Age'] = np.nan\n",
    "for i in age_dict.keys():\n",
    "    ind = pd.Series(garcia.obs.Patient).isin(age_dict[i])\n",
    "    garcia.obs.loc[ind,'Age'] = i\n",
    "\n",
    "garcia.obs['Age']"
   ]
  },
  {
   "cell_type": "code",
   "execution_count": null,
   "id": "440fb395-23af-4dd3-8d6d-32c8ba1fae3c",
   "metadata": {},
   "outputs": [],
   "source": [
    "garcia.var_names_make_unique()\n",
    "garcia"
   ]
  },
  {
   "cell_type": "code",
   "execution_count": null,
   "id": "30fe259a-fb86-4285-a64b-a88894db4c10",
   "metadata": {},
   "outputs": [],
   "source": [
    "results_file = '/home/j87832lw/oviduct/endometrium/garciacorrected.h5ad' \n",
    "garcia.write(results_file)"
   ]
  }
 ],
 "metadata": {
  "kernelspec": {
   "display_name": "Python 3 (ipykernel)",
   "language": "python",
   "name": "python3"
  },
  "language_info": {
   "codemirror_mode": {
    "name": "ipython",
    "version": 3
   },
   "file_extension": ".py",
   "mimetype": "text/x-python",
   "name": "python",
   "nbconvert_exporter": "python",
   "pygments_lexer": "ipython3",
   "version": "3.12.4"
  }
 },
 "nbformat": 4,
 "nbformat_minor": 5
}
