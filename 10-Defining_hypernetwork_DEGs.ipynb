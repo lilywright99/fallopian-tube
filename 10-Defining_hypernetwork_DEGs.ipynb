{
 "cells": [
  {
   "cell_type": "code",
   "execution_count": null,
   "id": "820c406a-649e-4352-b457-2cad21e516a8",
   "metadata": {},
   "outputs": [],
   "source": [
    "import numpy as np\n",
    "import pandas as pd\n",
    "import scanpy as sc\n",
    "import scanpy.external as sce\n",
    "from matplotlib import pyplot as plt\n",
    "import scvelo as scv\n",
    "import anndata as ad\n",
    "import seaborn as sns\n",
    "import matplotlib.pyplot as plt\n",
    "import matplotlib\n",
    "from scipy import io"
   ]
  },
  {
   "cell_type": "code",
   "execution_count": null,
   "id": "059f2fde-a33c-4533-97d1-d9b4c4a99529",
   "metadata": {},
   "outputs": [],
   "source": [
    "oviendo = sc.read_h5ad('/home/j87832lw/mounting/oviduct/data/alldatasetclustering.h5ad')"
   ]
  },
  {
   "cell_type": "code",
   "execution_count": null,
   "id": "4dc31003-b1de-40f0-815f-0d195c22f833",
   "metadata": {},
   "outputs": [],
   "source": [
    "sc.pl.umap(oviendo, color = 'Cell_Types')"
   ]
  },
  {
   "cell_type": "code",
   "execution_count": null,
   "id": "26383be6-949b-462b-a12e-b2ccd7e36de8",
   "metadata": {},
   "outputs": [],
   "source": [
    "oviendo.obs['celltype_tissue'] = np.nan \n",
    "oviendo.obs['celltype_tissue'] = oviendo.obs['Cell_Types'].astype(str) + '-' + oviendo.obs['Tissue_type'].astype(str)\n",
    "counts = oviendo.obs['celltype_tissue'].value_counts()\n",
    "\n",
    "counts"
   ]
  },
  {
   "cell_type": "code",
   "execution_count": null,
   "id": "ba4a724a-b30b-44b5-8a53-5f58d732c6f6",
   "metadata": {},
   "outputs": [],
   "source": [
    "toremove=['SOX9+ Epithelial-Fallopian Tube','SOX9+, LGR5+-Fallopian Tube','Glandular Epithelial-Fallopian Tube','Glandular Secretory-Fallopian Tube','EPCAM+-Uterine','OVGP1+ Secretory-Uterine','EPCAM+-Fallopian Tube']\n",
    "oviendo = oviendo[~oviendo.obs['celltype_tissue'].isin(toremove)]"
   ]
  },
  {
   "cell_type": "code",
   "execution_count": null,
   "id": "f13fc32c-4d62-4cb0-aed5-90638b61d4cb",
   "metadata": {},
   "outputs": [],
   "source": [
    "oviendo = oviendo[oviendo.obs['menstrual_status'].isin(['Secretory']),:].copy()"
   ]
  },
  {
   "cell_type": "code",
   "execution_count": null,
   "id": "081c91a4-95fe-4edc-ad02-38c425caac60",
   "metadata": {},
   "outputs": [],
   "source": [
    "oviendo.obs['broadsecretorygroups']=np.nan \n",
    "\n",
    "broadgroupsdict = { 'Secretory Fallopian Tube' : ['OVGP1+ Secretory-Fallopian Tube'],\n",
    "                   'Secretory Endometrial' : ['Glandular Epithelial-Uterine','Glandular Secretory-Uterine','Lumenal Epithelial-Uterine','SOX9+ Epithelial-Uterine']}\n",
    "\n",
    "for i in broadgroupsdict.keys():\n",
    "    ind = pd.Series(oviendo.obs.celltype_tissue).isin(broadgroupsdict[i])\n",
    "    oviendo.obs.loc[ind,'broadsecretorygroups'] = i\n",
    "                   \n",
    "oviendo.obs['endometrialsecretorygroups']=np.nan \n",
    "\n",
    "endometrialgroupsdict = { 'Secretory Fallopian Tube' : ['OVGP1+ Secretory-Fallopian Tube'],\n",
    "                   'Glandular Endometrial' : ['Glandular Epithelial-Uterine','Glandular Secretory-Uterine','SOX9+ Epithelial-Uterine'],\n",
    "                    'Luminal Endometrial' : ['Lumenal Epithelial-Uterine'] }\n",
    "for i in endometrialgroupsdict.keys():\n",
    "    ind = pd.Series(oviendo.obs.celltype_tissue).isin(endometrialgroupsdict[i])\n",
    "    oviendo.obs.loc[ind,'endometrialsecretorygroups'] = i"
   ]
  },
  {
   "cell_type": "code",
   "execution_count": null,
   "id": "982e1729-7b3c-4de8-b698-026d47351725",
   "metadata": {},
   "outputs": [],
   "source": [
    "sc.pl.umap(oviendo, color=['broadsecretorygroups','endometrialsecretorygroups'])"
   ]
  },
  {
   "cell_type": "code",
   "execution_count": null,
   "id": "ef808c7c-fd96-4f51-b441-4bc69fc2c54f",
   "metadata": {},
   "outputs": [],
   "source": [
    "glandularendo = oviendo[oviendo.obs['endometrialsecretorygroups'].isin(['Glandular Endometrial']),:].copy()\n",
    "glandularendo = ad.AnnData.to_df(glandularendo)\n",
    "glandularendo.to_csv(r'/home/j87832lw/mounting/oviduct/data/glandularendojune.csv')"
   ]
  },
  {
   "cell_type": "code",
   "execution_count": null,
   "id": "764d3b0f-2295-40d8-9fc1-62d27fa514e6",
   "metadata": {},
   "outputs": [],
   "source": [
    "lumenalendo = oviendo[oviendo.obs['endometrialsecretorygroups'].isin(['Luminal Endometrial']),:].copy()\n",
    "lumenalendo = ad.AnnData.to_df(lumenalendo)\n",
    "lumenalendo.to_csv(r'/home/j87832lw/mounting/oviduct/data/lumenalendojune.csv')"
   ]
  },
  {
   "cell_type": "code",
   "execution_count": null,
   "id": "b71e3532-e22a-4ac4-9426-0b2fe34108e6",
   "metadata": {},
   "outputs": [],
   "source": [
    "secretoryFT = oviendo[oviendo.obs['endometrialsecretorygroups'].isin(['Secretory Fallopian Tube']),:].copy()\n",
    "secretoryFT = ad.AnnData.to_df(secretoryFT)\n",
    "secretoryFT.to_csv(r'/home/j87832lw/mounting/oviduct/data/secretoryFTjune.csv')"
   ]
  },
  {
   "cell_type": "code",
   "execution_count": null,
   "id": "1c8f6c61-30b9-449b-9a7e-f6e8d024b3aa",
   "metadata": {},
   "outputs": [],
   "source": [
    "sc.pp.log1p(oviendo)\n",
    "sc.tl.rank_genes_groups(oviendo, 'broadsecretorygroups', use_raw=False, groups=['Secretory Fallopian Tube'], reference='Secretory Endometrial', method='wilcoxon')\n",
    "sc.pl.rank_genes_groups(oviendo, n_genes=25, sharey=False)"
   ]
  },
  {
   "cell_type": "code",
   "execution_count": null,
   "id": "5fbab5b0-a118-4cb5-b22e-0706219c54e2",
   "metadata": {},
   "outputs": [],
   "source": [
    "gene_names = oviendo.uns['rank_genes_groups']['names'].tolist()\n",
    "\n",
    "broadDEGs = [gene for sublist in gene_names for gene in sublist]\n",
    "\n",
    "broadDEGs=broadDEGs[0:600]\n",
    "\n",
    "with open(r'/home/j87832lw/mounting/oviduct/oviduct.all/broadDEGsjun.txt', 'w') as fp:\n",
    "    for item in broadDEGs:\n",
    "        fp.write(\"%s\\n\" % item)\n",
    "    print('Done')"
   ]
  }
 ],
 "metadata": {
  "kernelspec": {
   "display_name": "Python 3 (ipykernel)",
   "language": "python",
   "name": "python3"
  },
  "language_info": {
   "codemirror_mode": {
    "name": "ipython",
    "version": 3
   },
   "file_extension": ".py",
   "mimetype": "text/x-python",
   "name": "python",
   "nbconvert_exporter": "python",
   "pygments_lexer": "ipython3",
   "version": "3.12.4"
  }
 },
 "nbformat": 4,
 "nbformat_minor": 5
}
