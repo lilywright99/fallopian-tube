{
 "cells": [
  {
   "cell_type": "code",
   "execution_count": null,
   "id": "27a76c76-d375-4aa9-bed6-0983ff6afd58",
   "metadata": {},
   "outputs": [],
   "source": [
    "import numpy as np\n",
    "import pandas as pd\n",
    "import scanpy as sc\n",
    "import scanpy.external as sce\n",
    "from matplotlib import pyplot as plt\n",
    "import scvelo as scv\n",
    "import anndata as ad\n",
    "import seaborn as sns"
   ]
  },
  {
   "cell_type": "code",
   "execution_count": null,
   "id": "dfa336d4-8152-4bdb-8a79-244fce33ba0d",
   "metadata": {},
   "outputs": [],
   "source": [
    "sc.settings.verbosity=3\n",
    "sc.logging.print_header()"
   ]
  },
  {
   "cell_type": "code",
   "execution_count": null,
   "id": "a0c8c2d0-dc9e-46d1-88f1-31f47a8ab723",
   "metadata": {},
   "outputs": [],
   "source": [
    "oviduct = sc.read_h5ad('/home/j87832lw/oviduct/oviduct.all/oviduct_concat.h5ad')\n",
    "oviduct.var_names_make_unique()\n",
    "oviduct = oviduct[~oviduct.obs['Patient'].isnull()]\n",
    "oviduct"
   ]
  },
  {
   "cell_type": "code",
   "execution_count": null,
   "id": "7eac570f-70df-46f4-ace6-b252b9b853e7",
   "metadata": {},
   "outputs": [],
   "source": [
    "endo  = sc.read_h5ad('/home/j87832lw/oviduct/endometrium/garciacorrected.h5ad')\n",
    "endo.var_names_make_unique()"
   ]
  },
  {
   "cell_type": "code",
   "execution_count": null,
   "id": "9dc14059-d7a3-49c8-a370-298aca45962f",
   "metadata": {},
   "outputs": [],
   "source": [
    "menopausal_dict = { 'Proliferative':['patient 1','patient 4','patient 6'],\n",
    "            'Secretory':['patient 3','patient 5','patient 7','patient 9','patient 12'],\n",
    "            'Peri-menopausal':['patient 4','patient 10','patient 14','patient 11'],\n",
    "            'Post-menopausal':['patient 8','patient 13','patient 15'],}\n",
    "\n",
    "oviduct.obs['menstrual_status'] = np.nan\n",
    "for i in menopausal_dict.keys():\n",
    "    ind = pd.Series(oviduct.obs.Patient).isin(menopausal_dict[i])\n",
    "    oviduct.obs.loc[ind,'menstrual_status'] = i\n",
    "\n",
    "oviduct.obs['menstrual_status']= oviduct.obs['menstrual_status'].astype('category')\n",
    "oviduct.obs['menstrual_status']"
   ]
  },
  {
   "cell_type": "code",
   "execution_count": null,
   "id": "2f9d944e-90f0-411a-ad95-2ef807d51789",
   "metadata": {},
   "outputs": [],
   "source": [
    "age_dict = { 47:['patient 1','patient 3'], 41:['patient 4'], 33:['patient 5'],\n",
    "            31:['patient 6'],\n",
    "            46:['patient 7','patient 9'],\n",
    "            62:['patient 8'],\n",
    "            52:['patient 10'],\n",
    "            50:['patient 11'],\n",
    "            45:['patient 12'],\n",
    "            64:['patient 13'],\n",
    "            53:['patient 14'],\n",
    "            55:['patient 15'],}\n",
    "\n",
    "oviduct.obs['Age'] = np.nan\n",
    "for i in age_dict.keys():\n",
    "    ind = pd.Series(oviduct.obs.Patient).isin(age_dict[i])\n",
    "    oviduct.obs.loc[ind,'Age'] = i\n",
    "\n",
    "oviduct.obs['Age']= oviduct.obs['Age'].astype('category')\n",
    "oviduct.obs['Age']"
   ]
  },
  {
   "cell_type": "code",
   "execution_count": null,
   "id": "bbd68962-36b6-4605-afb4-2ea2c7312582",
   "metadata": {},
   "outputs": [],
   "source": [
    "cycleday_dict = {'day 3':['patient 1'],\n",
    "            'day 17':['patient 3'],\n",
    "            'day 7':['patient 4'],\n",
    "            'day 31':['patient 5'],\n",
    "            'day 13':['patient 6'],\n",
    "            'day 23':['patient 7'],\n",
    "            'day 28':['patient 9'],\n",
    "            'day 37':['patient 10'], \n",
    "            'unknown':['patient 11','patient 12','patient 14'],\n",
    "            'post-menopausal':['patient 8','patient 13','patient 15']}\n",
    "\n",
    "oviduct.obs['cycle_day'] = np.nan\n",
    "for i in cycleday_dict.keys():\n",
    "    ind = pd.Series(oviduct.obs.Patient).isin(cycleday_dict[i])\n",
    "    oviduct.obs.loc[ind,'cycle_day'] = i\n",
    "\n",
    "oviduct.obs['cycle_day']= oviduct.obs['cycle_day'].astype('category')\n",
    "oviduct.obs['cycle_day']"
   ]
  },
  {
   "cell_type": "code",
   "execution_count": null,
   "id": "e2e90aba-9247-4648-a4d1-bea5a1688af6",
   "metadata": {},
   "outputs": [],
   "source": [
    "oviendo = ad.concat([oviduct, endo], axis=0, join='inner')"
   ]
  },
  {
   "cell_type": "code",
   "execution_count": null,
   "id": "99474e7c-f469-4466-b99d-9e34cb70cd30",
   "metadata": {},
   "outputs": [],
   "source": [
    "oviendo.var['mt']=oviendo.var_names.str.startswith('MT-')\n",
    "sc.pp.calculate_qc_metrics(oviendo, qc_vars=['mt'], percent_top=None, log1p=False, inplace=True)\n",
    "sc.pl.violin(oviendo, ['n_genes_by_counts','total_counts','pct_counts_mt'],jitter=0.4, multi_panel=True)\n",
    "sc.pl.scatter(oviendo, x='total_counts', y='pct_counts_mt')\n",
    "sc.pl.scatter(oviendo, x='total_counts', y='n_genes_by_counts')"
   ]
  },
  {
   "cell_type": "code",
   "execution_count": null,
   "id": "66fd7b50-d5b4-4afa-9df0-96ef036da010",
   "metadata": {},
   "outputs": [],
   "source": [
    "sc.pp.filter_cells(oviendo, min_genes=200)\n",
    "sc.pp.filter_genes(oviendo, min_cells=3)\n",
    "\n",
    "oviendo=oviendo[oviendo.obs.n_genes_by_counts <6000,:]\n",
    "oviendo=oviendo[oviendo.obs.total_counts <8500000,:]\n",
    "oviendo=oviendo[oviendo.obs.pct_counts_mt <30,:]"
   ]
  },
  {
   "cell_type": "code",
   "execution_count": null,
   "id": "68ab1e7b-ded7-44a9-9805-3cff0e8ba2b6",
   "metadata": {},
   "outputs": [],
   "source": [
    "sc.pp.normalize_total(oviendo, target_sum=1e4) \n",
    "sc.pp.log1p(oviendo)\n",
    "sc.pp.highly_variable_genes(oviendo, min_mean=0.0125, max_mean=3, min_disp=0.5, batch_key='Patient')\n",
    "sc.pl.highly_variable_genes(oviendo)\n",
    "oviendo.raw = oviendo\n",
    "oviendo = oviendo [:, oviendo.var.highly_variable]\n",
    "sc.pp.scale(oviendo) #max_value=10)"
   ]
  },
  {
   "cell_type": "code",
   "execution_count": null,
   "id": "e2bbba03-fd74-4b66-98c2-a6a06b903a6f",
   "metadata": {},
   "outputs": [],
   "source": [
    "sc.tl.pca(oviendo, svd_solver='arpack')\n",
    "sc.pl.pca_variance_ratio(oviendo)\n",
    "sc.pp.neighbors(oviendo,n_neighbors=100, n_pcs=25)\n",
    "sc.tl.leiden(oviendo,resolution=1.7)\n",
    "sc.tl.umap(oviendo)\n",
    "sc.pl.umap(oviendo, color=['Author','leiden','OVGP1','CAPS','FOXJ1','PAX8','EPCAM'])\n"
   ]
  },
  {
   "cell_type": "code",
   "execution_count": null,
   "id": "b3bbc39a-ba26-434f-bab0-ec3590b025c9",
   "metadata": {},
   "outputs": [],
   "source": [
    "cell_types = {'Ciliated':['10','26'],\n",
    " 'OVGP1+ Secretory': ['25'], \n",
    " 'Glandular Secretory': ['19','15'],\n",
    " 'SOX9+ Epithelial':['24','31'],\n",
    "'SOX9+, LGR5+':['30'],\n",
    "'Lumenal Epithelial':['8'],\n",
    "'Glandular Epithelial':['18','5'],\n",
    "'Smooth Muscle':['3','1','39'],\n",
    "'Endothelial':['37','36','7','45'],\n",
    "'Decidualised stroma':['22'],\n",
    "'Stroma':['0','22','13','6','32','29','11','9','35','4','38','33','20','42','44','40'],\n",
    "'Leukocytes': ['17','16','34','12','21','27','28','2'],\n",
    "'Myeloid':['23'],\n",
    "'Mast':['41'],\n",
    "'Plasma/B cell':['43'],\n",
    " 'EPCAM+':['14']}\n",
    "\n",
    "oviendo.obs['Cell_Types'] = np.nan\n",
    "\n",
    "for i in cell_types.keys():\n",
    "    ind = pd.Series(oviendo.obs.leiden).isin(cell_types[i])\n",
    "    oviendo.obs.loc[ind,'Cell_Types'] = i\n",
    "\n",
    "oviendo"
   ]
  },
  {
   "cell_type": "code",
   "execution_count": null,
   "id": "d29addc8-9260-4a5d-9eaa-a86651aee056",
   "metadata": {},
   "outputs": [],
   "source": [
    "tissue = {'Uterine':['GA','Wang'],\n",
    "          'Fallopian Tube':['Dinh_2021','Hu_2020','Ulrich_2022']}\n",
    "\n",
    "oviendo.obs['Tissue_type'] = np.nan\n",
    "\n",
    "for i in tissue.keys():\n",
    "    ind = pd.Series(oviendo.obs.Author).isin(tissue[i])\n",
    "    oviendo.obs.loc[ind,'Tissue_type'] = i\n",
    "\n",
    "sc.pl.umap(oviendo, color=['Tissue_type']"
   ]
  },
  {
   "cell_type": "code",
   "execution_count": null,
   "id": "0e0d1dfd-8336-4d86-b121-a7761a142edb",
   "metadata": {},
   "outputs": [],
   "source": [
    "results_file = '/home/j87832lw/oviduct/oviduct.all/alldatasetclustering.h5ad'\n",
    "oviendo.write(results_file)"
   ]
  },
  {
   "cell_type": "code",
   "execution_count": null,
   "id": "4af48a40-efad-4c34-baf9-4d6191c8f7ae",
   "metadata": {},
   "outputs": [],
   "source": [
    "tissuetype_dict= {'FT secretory':['OVGP1+ Secretory'],\n",
    "                    'Endometrial secretory':['SOX9+ Epithelial','Glandular Secretory','Glandular Epithelial']}\n",
    "                                             \n",
    "oviendo.obs['tissuetype'] = np.nan\n",
    "for i in tissuetype_dict.keys():\n",
    "    ind = pd.Series(oviendo.obs.Cell_Types).isin(tissuetype_dict[i])\n",
    "    oviendo.obs.loc[ind,'tissuetype'] = i   "
   ]
  }
 ],
 "metadata": {
  "kernelspec": {
   "display_name": "Python 3 (ipykernel)",
   "language": "python",
   "name": "python3"
  },
  "language_info": {
   "codemirror_mode": {
    "name": "ipython",
    "version": 3
   },
   "file_extension": ".py",
   "mimetype": "text/x-python",
   "name": "python",
   "nbconvert_exporter": "python",
   "pygments_lexer": "ipython3",
   "version": "3.12.4"
  }
 },
 "nbformat": 4,
 "nbformat_minor": 5
}
