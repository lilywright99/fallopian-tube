{
 "cells": [
  {
   "cell_type": "code",
   "execution_count": null,
   "id": "45bdb25a-7c32-4f50-a05e-b0d3dca270fa",
   "metadata": {},
   "outputs": [],
   "source": [
    "## Concatenate all fallopian tube datasets"
   ]
  },
  {
   "cell_type": "code",
   "execution_count": null,
   "id": "2ac253e8-c1fc-4a4c-915d-1302beda2d80",
   "metadata": {},
   "outputs": [],
   "source": [
    "import numpy as np\n",
    "import pandas as pd\n",
    "import scanpy as sc\n",
    "import scanpy.external as sce\n",
    "from matplotlib import pyplot as plt\n",
    "import scvelo as scv\n",
    "import anndata as ad\n",
    "import seaborn as sns"
   ]
  },
  {
   "cell_type": "code",
   "execution_count": null,
   "id": "cef87515-f96a-4c8b-aada-e5309fa0e8be",
   "metadata": {},
   "outputs": [],
   "source": [
    "sc.settings.verbosity=3\n",
    "sc.logging.print_header()"
   ]
  },
  {
   "cell_type": "code",
   "execution_count": null,
   "id": "222a0f80-274e-44c6-95e7-176cfcbb53ad",
   "metadata": {},
   "outputs": [],
   "source": [
    "dinh = sc.read_loom('/home/j87832lw/mounting/oviduct/data/Dinh.h5ad')\n",
    "dinh.var_names_make_unique()\n",
    "dinh.obs['Patient']= dinh.obs['Patient'].astype('category')\n",
    "dinh.obs['Patient']"
   ]
  },
  {
   "cell_type": "code",
   "execution_count": null,
   "id": "44558a48-363e-4a11-a8c6-403f04cef504",
   "metadata": {},
   "outputs": [],
   "source": [
    "ulrich = sc.read_h5ad('/home/j87832lw/mounting/oviduct/data/ulrich_all.h5ad')\n",
    "ulrich = ulrich[ulrich.obs['Source'] == 'Surgical',:].copy()\n",
    "ulrich.obs['Patient']= ulrich.obs['Patient'].astype('category')\n",
    "ulrich.var_names_make_unique()\n",
    "ulrich.obs['Patient'] = ulrich.obs['Patient'].cat.rename_categories({'FT3': 'patient 9'})\n",
    "ulrich.obs['Patient'] = ulrich.obs['Patient'].cat.rename_categories({'FT1': 'patient 10'})\n",
    "ulrich.obs['Patient']"
   ]
  },
  {
   "cell_type": "code",
   "execution_count": null,
   "id": "d791c1bc-7c1c-4e5d-bba9-38ea668a6433",
   "metadata": {},
   "outputs": [],
   "source": [
    "hu = sc.read_h5ad('/home/j87832lw/mounting/oviduct/data/hu_raw.h5ad') \n",
    "hu.var_names_make_unique()\n",
    "hu.obs['Patient']= hu.obs['Patient'].astype('category')\n",
    "hu.obs['Patient'] = hu.obs['Patient'].cat.rename_categories({34350.0: 'patient 11'})\n",
    "hu.obs['Patient'] = hu.obs['Patient'].cat.rename_categories({34659.0: 'patient 12'})\n",
    "hu.obs['Patient'] = hu.obs['Patient'].cat.rename_categories({33572.0: 'patient 13'})\n",
    "hu.obs['Patient'] = hu.obs['Patient'].cat.rename_categories({35773.0: 'patient 14'})\n",
    "hu.obs['Patient'] = hu.obs['Patient'].cat.rename_categories({33778.0: 'patient 15'})\n",
    "hu = hu[hu.obs['Patient'].isin(['patient 11','patient 12','patient 13','patient 15']),:].copy()\n",
    "hu.obs['Patient']"
   ]
  },
  {
   "cell_type": "code",
   "execution_count": null,
   "id": "f239f1e8-c91f-4cc9-bb74-0b30e02c79a7",
   "metadata": {},
   "outputs": [],
   "source": [
    "oviduct = ad.concat([ulrich, dinh, hu], axis=0, join='inner')\n",
    "oviduct.obs['Patient']= oviduct.obs['Patient'].astype('category')\n",
    "oviduct.obs['Patient']\n",
    "oviduct_concat = '/home/j87832lw/mounting/oviduct/oviduct.all/oviduct_concat.h5ad' \n",
    "oviduct.write(oviduct_concat)"
   ]
  },
  {
   "cell_type": "code",
   "execution_count": null,
   "id": "2af2f8ff-2c5b-4ceb-9fa2-56b7ba41a0a7",
   "metadata": {},
   "outputs": [],
   "source": [
    "oviduct = sc.read_h5ad('/home/j87832lw/mounting/oviduct/oviduct.all/oviduct_concat.h5ad')\n",
    "oviduct.var['mt']=oviduct.var_names.str.startswith('MT-')\n",
    "sc.pp.calculate_qc_metrics(oviduct, qc_vars=['mt'], percent_top=None, log1p=False, inplace=True)\n",
    "sc.pl.violin(oviduct, ['n_genes_by_counts','total_counts','pct_counts_mt'],jitter=0.4, multi_panel=True)"
   ]
  },
  {
   "cell_type": "code",
   "execution_count": null,
   "id": "4bd6a1e0-0d7a-4f76-b708-6471ec385176",
   "metadata": {},
   "outputs": [],
   "source": [
    "sc.pp.filter_cells(oviduct, min_genes=200)\n",
    "sc.pp.filter_genes(oviduct, min_cells=3)\n",
    "\n",
    "oviduct=oviduct[oviduct.obs.n_genes_by_counts <8000,:]\n",
    "oviduct=oviduct[oviduct.obs.total_counts <8500000,:]\n",
    "oviduct=oviduct[oviduct.obs.pct_counts_mt <30,:]"
   ]
  },
  {
   "cell_type": "code",
   "execution_count": null,
   "id": "b363afac-ea04-4429-9482-c8b4070ef7f1",
   "metadata": {},
   "outputs": [],
   "source": [
    "sc.pp.normalize_total(oviduct, target_sum=1e4) \n",
    "sc.pp.log1p(oviduct)\n",
    "sc.pp.highly_variable_genes(oviduct, min_mean=0.0125, max_mean=3, min_disp=0.5, batch_key='Patient')\n",
    "sc.pl.highly_variable_genes(oviduct)"
   ]
  },
  {
   "cell_type": "code",
   "execution_count": null,
   "id": "a55e596e-fcac-4fb7-b1c2-2b2da0fa49af",
   "metadata": {},
   "outputs": [],
   "source": [
    "oviduct.raw = oviduct\n",
    "oviduct = oviduct [:, oviduct.var.highly_variable]\n",
    "sc.pp.scale(oviduct)"
   ]
  },
  {
   "cell_type": "code",
   "execution_count": null,
   "id": "e96d7c74-492d-4e6c-b99e-4d2a159a30ba",
   "metadata": {},
   "outputs": [],
   "source": [
    "sc.tl.pca(oviduct, svd_solver='arpack')\n",
    "sc.pl.pca_variance_ratio(oviduct)\n",
    "\n",
    "sc.pp.neighbors(oviduct, n_pcs=8)\n",
    "sc.tl.leiden(oviduct,resolution=1.6)\n",
    "sc.tl.paga(oviduct)\n",
    "sc.pl.paga(oviduct)\n",
    "sc.tl.umap(oviduct, init_pos='paga')\n",
    "sc.pl.umap(oviduct, color=['Author','leiden','OVGP1','CAPS','FOXJ1','PAX8','EPCAM'])\n"
   ]
  },
  {
   "cell_type": "code",
   "execution_count": null,
   "id": "289ce638-6db7-4b3e-852b-663b40d7e5ee",
   "metadata": {},
   "outputs": [],
   "source": [
    "cell_dict = {'Unspecified epithelial':['13','38','15'],\n",
    " 'T cell': ['0','1','2','3','5','9','10','19','22','33','40'],\n",
    "'Myeloid':['25','27','30','37','41'],\n",
    " 'Ciliated': ['20','21','23','24'], \n",
    " 'Secretory': ['12','28','29'],\n",
    "'Smooth Muscle':['8','18','43'],\n",
    "'Fibroblast':['4','6','7','11','14','16','32'],\n",
    "'Endothelial':['17','31','34','35','39','42'],\n",
    "'Mast':['26'],\n",
    "'Plasma/B cell':['36']}\n",
    "oviduct.obs['Cell_Types'] = np.nan\n",
    "\n",
    "for i in cell_dict.keys():\n",
    "    ind = pd.Series(oviduct.obs.leiden).isin(cell_dict[i])\n",
    "    oviduct.obs.loc[ind,'Cell_Types'] = i"
   ]
  },
  {
   "cell_type": "code",
   "execution_count": null,
   "id": "6065d5bb-2b21-4878-b547-6db708bb063c",
   "metadata": {},
   "outputs": [],
   "source": [
    "sc.pl.umap(oviduct, color=['Cell_Types'])\n",
    "sc.pl.umap(oviduct, color=['OVGP1','FOXJ1','CCL14','DCN'])\n",
    "sc.pl.umap(oviduct, color=['JCHAIN','TRAC','PTPRC','TPSAB1','LYZ','FOXJ1','PIFO','EPCAM','OVGP1','PAX8','CCL14','DCN',\n",
    "               'ACTA2'])"
   ]
  },
  {
   "cell_type": "code",
   "execution_count": null,
   "id": "169e0ad0-40d8-4662-88a7-bcfb76c3bd12",
   "metadata": {},
   "outputs": [],
   "source": [
    "marker_genes= ['JCHAIN','TRAC','PTPRC','TPSAB1','LYZ','DCN',\n",
    "               'ACTA2','FOXJ1','PIFO','CCL14','OVGP1','EPCAM','PAX8',]\n",
    "sc.tl.dendrogram(oviduct, groupby='Cell_Types')\n",
    "dp = sc.pl.dotplot(oviduct, marker_genes, groupby='Cell_Types', dendrogram=True)"
   ]
  },
  {
   "cell_type": "code",
   "execution_count": null,
   "id": "bdfce2c6-6d36-4f0d-ae58-9d74a2c7f6c9",
   "metadata": {},
   "outputs": [],
   "source": [
    "results_file = ('/home/j87832lw/oviduct/oviduct.all/version2oviduct_concat.h5ad')\n",
    "oviduct.write(results_file)"
   ]
  }
 ],
 "metadata": {
  "kernelspec": {
   "display_name": "Python 3 (ipykernel)",
   "language": "python",
   "name": "python3"
  },
  "language_info": {
   "codemirror_mode": {
    "name": "ipython",
    "version": 3
   },
   "file_extension": ".py",
   "mimetype": "text/x-python",
   "name": "python",
   "nbconvert_exporter": "python",
   "pygments_lexer": "ipython3",
   "version": "3.12.4"
  }
 },
 "nbformat": 4,
 "nbformat_minor": 5
}
