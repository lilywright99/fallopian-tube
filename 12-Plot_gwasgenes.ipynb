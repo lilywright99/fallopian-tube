{
 "cells": [
  {
   "cell_type": "code",
   "execution_count": null,
   "id": "40ee0e59-a45d-412e-bc08-db4e300e2931",
   "metadata": {},
   "outputs": [],
   "source": [
    "import numpy as np\n",
    "import pandas as pd\n",
    "import scanpy as sc\n",
    "import scanpy.external as sce\n",
    "from matplotlib import pyplot as plt\n",
    "import scvelo as scv\n",
    "import anndata as ad\n",
    "import seaborn as sns\n",
    "import matplotlib.pyplot as plt\n",
    "import matplotlib"
   ]
  },
  {
   "cell_type": "code",
   "execution_count": null,
   "id": "757a84e1-0790-4e38-b188-5ed3b9506d5c",
   "metadata": {},
   "outputs": [],
   "source": [
    "sc.settings.verbosity=3\n",
    "sc.logging.print_header()"
   ]
  },
  {
   "cell_type": "code",
   "execution_count": null,
   "id": "74af0fcd-974a-4095-9461-6f714c1ad0c7",
   "metadata": {},
   "outputs": [],
   "source": [
    "oviduct = sc.read_h5ad('/home/j87832lw/mounting/oviduct/data/oviductepitheliumforconcat.h5ad')"
   ]
  },
  {
   "cell_type": "code",
   "execution_count": null,
   "id": "60d98671-3dff-49a4-98ad-72202315c0d8",
   "metadata": {},
   "outputs": [],
   "source": [
    "oviductsecretory = oviduct[oviduct.obs['menstrual_status'] == 'Secretory']\n",
    "\n",
    "gwasgenes = ['SLC7A2','MUC1','HLA-DRB1','CLDN1']\n",
    "\n",
    "sc.tl.dendrogram(oviductsecretory, groupby='epithelial_celltypes')\n",
    "sc.pl.matrixplot(oviductsecretory, gwasgenes, groupby='epithelial_celltypes', swap_axes=True, dendrogram=True, vcenter=0.7, save='gwasmatrixplot.png')"
   ]
  }
 ],
 "metadata": {
  "kernelspec": {
   "display_name": "Python 3 (ipykernel)",
   "language": "python",
   "name": "python3"
  },
  "language_info": {
   "codemirror_mode": {
    "name": "ipython",
    "version": 3
   },
   "file_extension": ".py",
   "mimetype": "text/x-python",
   "name": "python",
   "nbconvert_exporter": "python",
   "pygments_lexer": "ipython3",
   "version": "3.12.4"
  }
 },
 "nbformat": 4,
 "nbformat_minor": 5
}
