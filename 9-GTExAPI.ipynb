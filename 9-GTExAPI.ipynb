{
 "cells": [
  {
   "cell_type": "code",
   "execution_count": 1,
   "id": "0a6461cc-d646-4881-8772-780c81afec4a",
   "metadata": {
    "tags": []
   },
   "outputs": [],
   "source": [
    "import numpy as np\n",
    "import pandas as pd\n",
    "from matplotlib import pyplot as plt\n",
    "import seaborn as sns\n",
    "import matplotlib\n",
    "from scipy import io\n",
    "\n",
    "import requests\n",
    "import json \n"
   ]
  },
  {
   "cell_type": "code",
   "execution_count": null,
   "id": "4dbbc3cd-bcf8-40d5-a61d-a59e8653dd99",
   "metadata": {},
   "outputs": [],
   "source": [
    "#original file is over 10,000 snps, \n",
    "#need to add 'chr' and '_b38' to variant_id\n",
    "\n",
    "#can only pass 999 variant IDs through API at once, and then need to collect each page to collate as one dataframe \n",
    "#split variant IDs into separate lists of 1000, then loop to run the API for each list(0-9)\n",
    "\n",
    "#convert all the dictionaries to df\n",
    "#then collate all of the df\n"
   ]
  },
  {
   "cell_type": "code",
   "execution_count": 6,
   "id": "474102e2-682b-4eb7-9a2e-a078bdf03f8b",
   "metadata": {
    "tags": []
   },
   "outputs": [],
   "source": [
    "gwasv2 = pd.read_csv('/home/j87832lw/v2_GCST90272883.h.top10000.txt', sep='\\t', header=0)\n",
    "gwasv2_100=gwasv2.head(100)\n",
    "gwasv2_999=gwasv2.head(999)"
   ]
  },
  {
   "cell_type": "code",
   "execution_count": 3,
   "id": "c951f6d2-babc-46a2-aa2b-dde389fd1331",
   "metadata": {
    "tags": []
   },
   "outputs": [],
   "source": [
    "variant_ids = gwasv2['chrvariant_id_b38'].tolist()"
   ]
  },
  {
   "cell_type": "code",
   "execution_count": 4,
   "id": "1fd1e64d-afd2-4ad7-ba66-14ba735ad424",
   "metadata": {
    "tags": []
   },
   "outputs": [],
   "source": [
    "n=10\n",
    "sublists = np.array_split(variant_ids, n)\n",
    "sublists = [list(arr) for arr in sublists]  # convert numpy arrays to lists \n",
    "\n",
    "# Sublists from 0 - 9 values"
   ]
  },
  {
   "cell_type": "code",
   "execution_count": 5,
   "id": "d1ac80c5-2b64-4b9e-b1f3-bd6922219519",
   "metadata": {
    "tags": []
   },
   "outputs": [],
   "source": [
    "sublists[0]= gwasv2_999['chrvariant_id_b38'].tolist()"
   ]
  },
  {
   "cell_type": "markdown",
   "id": "44e0a1a6-621f-4db1-8fe4-ff918bb7c0b9",
   "metadata": {
    "jp-MarkdownHeadingCollapsed": true,
    "tags": []
   },
   "source": [
    "# calling API for each tissue\n",
    "\n",
    "rewrite this as a function, call each tissue and add to 'masterlist of all tissues, then wont need to combine all dfs at the end "
   ]
  },
  {
   "cell_type": "markdown",
   "id": "054beae1-21bb-4ed5-a6f4-53f732ef1eb0",
   "metadata": {
    "jp-MarkdownHeadingCollapsed": true,
    "tags": []
   },
   "source": [
    "## whole blood eqtls "
   ]
  },
  {
   "cell_type": "code",
   "execution_count": 9,
   "id": "5f848978-671e-4727-9a8d-6551baeebcf6",
   "metadata": {
    "tags": []
   },
   "outputs": [
    {
     "name": "stdout",
     "output_type": "stream",
     "text": [
      "            snpId        pos   snpIdUpper               variantId geneSymbol  \\\n",
      "0       rs4971066  155133406    RS4971066  chr1_155133406_T_G_b38  DCST1-AS1   \n",
      "1       rs4440846  155158322    RS4440846  chr1_155158322_C_T_b38  DCST1-AS1   \n",
      "2       rs9330264  155123274    RS9330264  chr1_155123274_T_C_b38     ADAM15   \n",
      "3       rs6676150  155151361    RS6676150  chr1_155151361_G_C_b38     ADAM15   \n",
      "4       rs7535292  155155273    RS7535292  chr1_155155273_T_C_b38     ADAM15   \n",
      "...           ...        ...          ...                     ...        ...   \n",
      "3138    rs7507261    9320829    RS7507261   chr19_9320829_G_C_b38     ZNF559   \n",
      "3139    rs7507261    9320829    RS7507261   chr19_9320829_G_C_b38     ZNF266   \n",
      "3140    rs7507261    9320829    RS7507261   chr19_9320829_G_C_b38     ZNF561   \n",
      "3141  rs146728316   47595301  RS146728316  chr19_47595301_C_T_b38       SAE1   \n",
      "3142    rs6032678   46148656    RS6032678  chr20_46148656_C_T_b38       CD40   \n",
      "\n",
      "             pValue geneSymbolUpper datasetId tissueSiteDetailId  \\\n",
      "0      5.759650e-05       DCST1-AS1   gtex_v8        Whole_Blood   \n",
      "1      1.022150e-04       DCST1-AS1   gtex_v8        Whole_Blood   \n",
      "2      2.614310e-06          ADAM15   gtex_v8        Whole_Blood   \n",
      "3      3.436060e-06          ADAM15   gtex_v8        Whole_Blood   \n",
      "4      3.810050e-06          ADAM15   gtex_v8        Whole_Blood   \n",
      "...             ...             ...       ...                ...   \n",
      "3138   6.552800e-07          ZNF559   gtex_v8        Whole_Blood   \n",
      "3139  1.279570e-109          ZNF266   gtex_v8        Whole_Blood   \n",
      "3140   7.355410e-05          ZNF561   gtex_v8        Whole_Blood   \n",
      "3141   2.097160e-05            SAE1   gtex_v8        Whole_Blood   \n",
      "3142   1.132520e-07            CD40   gtex_v8        Whole_Blood   \n",
      "\n",
      "          ontologyId chromosome           gencodeId       nes  \n",
      "0     UBERON:0013756       chr1   ENSG00000232093.1 -0.258581  \n",
      "1     UBERON:0013756       chr1   ENSG00000232093.1 -0.253698  \n",
      "2     UBERON:0013756       chr1  ENSG00000143537.13 -0.134893  \n",
      "3     UBERON:0013756       chr1  ENSG00000143537.13  0.127311  \n",
      "4     UBERON:0013756       chr1  ENSG00000143537.13 -0.129093  \n",
      "...              ...        ...                 ...       ...  \n",
      "3138  UBERON:0013756      chr19  ENSG00000188321.13 -0.145802  \n",
      "3139  UBERON:0013756      chr19  ENSG00000174652.17  0.658102  \n",
      "3140  UBERON:0013756      chr19  ENSG00000171469.10  0.087993  \n",
      "3141  UBERON:0013756      chr19  ENSG00000142230.11 -0.268884  \n",
      "3142  UBERON:0013756      chr20  ENSG00000101017.13  0.133755  \n",
      "\n",
      "[3143 rows x 13 columns]\n"
     ]
    }
   ],
   "source": [
    "\n",
    "#list to add data to \n",
    "all_data = []\n",
    "\n",
    "for i in range(0, 9):\n",
    "    params = {\n",
    "        'tissueSiteDetailId': 'Whole_Blood',\n",
    "        'variantId': sublists[i],\n",
    "        'format': 'json',\n",
    "        'datasetId': 'gtex_v8',\n",
    "        'page': 0 }\n",
    "\n",
    "    while True:\n",
    "        gene_eqtls = requests.get(url='https://gtexportal.org/api/v2/association/singleTissueEqtl', params=params)\n",
    "    \n",
    "        if gene_eqtls.status_code == 200:\n",
    "            data = gene_eqtls.json()\n",
    "            all_data.extend(data['data'])  \n",
    "        \n",
    "            #check number of pages\n",
    "            paging_info = data.get('paging_info')\n",
    "            number_of_pages = paging_info.get('numberOfPages') if paging_info else 0\n",
    "        \n",
    "            if number_of_pages > params['page']:\n",
    "                params['page'] += 1 \n",
    "                gene_eqtls = requests.get(url='https://gtexportal.org/api/v2/association/singleTissueEqtl', params=params)\n",
    "            else:\n",
    "                break  \n",
    "                \n",
    "        else:\n",
    "            break\n",
    "\n",
    "wholeblooddf = pd.DataFrame(all_data)\n",
    "\n",
    "print(wholeblooddf)\n",
    "wholeblooddf.to_csv(\"10000variantids_wholeblood.csv\")"
   ]
  },
  {
   "cell_type": "code",
   "execution_count": 11,
   "id": "91bf0982-079c-46f4-a3f3-973f3c9c911f",
   "metadata": {
    "tags": []
   },
   "outputs": [],
   "source": [
    "wholeblood_genenames = wholeblooddf.drop_duplicates(subset=['geneSymbol'])\n",
    "wholeblood_genenames = wholeblood_genenames['geneSymbol'].tolist()"
   ]
  },
  {
   "cell_type": "code",
   "execution_count": 12,
   "id": "d88cf2b2-026b-417c-b78c-0620267c73f1",
   "metadata": {
    "tags": []
   },
   "outputs": [
    {
     "data": {
      "text/plain": [
       "187"
      ]
     },
     "execution_count": 12,
     "metadata": {},
     "output_type": "execute_result"
    }
   ],
   "source": [
    "len(wholeblood_genenames)"
   ]
  },
  {
   "cell_type": "markdown",
   "id": "9a6d6a53-7a63-44e1-b4d6-861bfb179825",
   "metadata": {
    "jp-MarkdownHeadingCollapsed": true,
    "tags": []
   },
   "source": [
    "## vagina eqtls "
   ]
  },
  {
   "cell_type": "code",
   "execution_count": 13,
   "id": "c6fc5c9c-dc92-4f4b-9ff6-d88ca3bf2a8a",
   "metadata": {
    "tags": []
   },
   "outputs": [
    {
     "name": "stdout",
     "output_type": "stream",
     "text": [
      "           snpId        pos   snpIdUpper               variantId geneSymbol  \\\n",
      "0      rs9330264  155123274    RS9330264  chr1_155123274_T_C_b38      GBAP1   \n",
      "1      rs6676150  155151361    RS6676150  chr1_155151361_G_C_b38      GBAP1   \n",
      "2      rs4460629  155162859    RS4460629  chr1_155162859_T_C_b38      GBAP1   \n",
      "3     rs12752585  155162930   RS12752585  chr1_155162930_G_A_b38      GBAP1   \n",
      "4      rs4971085  155165746    RS4971085  chr1_155165746_T_C_b38      GBAP1   \n",
      "..           ...        ...          ...                     ...        ...   \n",
      "252  rs113338212   94866346  RS113338212   chr8_94866346_G_A_b38      INTS8   \n",
      "253   rs71522411  145021863   RS71522411  chr8_145021863_T_C_b38    C8orf33   \n",
      "254    rs7014728  145056420    RS7014728  chr8_145056420_G_T_b38    C8orf33   \n",
      "255   rs28424072   55781463   RS28424072  chr16_55781463_G_A_b38     CES1P1   \n",
      "256    rs7507261    9320829    RS7507261   chr19_9320829_G_C_b38     ZNF266   \n",
      "\n",
      "           pValue geneSymbolUpper datasetId tissueSiteDetailId  \\\n",
      "0    2.031860e-05           GBAP1   gtex_v8             Vagina   \n",
      "1    1.437030e-06           GBAP1   gtex_v8             Vagina   \n",
      "2    2.563080e-05           GBAP1   gtex_v8             Vagina   \n",
      "3    2.563080e-05           GBAP1   gtex_v8             Vagina   \n",
      "4    2.563080e-05           GBAP1   gtex_v8             Vagina   \n",
      "..            ...             ...       ...                ...   \n",
      "252  2.264360e-06           INTS8   gtex_v8             Vagina   \n",
      "253  5.129090e-06         C8ORF33   gtex_v8             Vagina   \n",
      "254  8.582370e-07         C8ORF33   gtex_v8             Vagina   \n",
      "255  1.743740e-07          CES1P1   gtex_v8             Vagina   \n",
      "256  1.036720e-25          ZNF266   gtex_v8             Vagina   \n",
      "\n",
      "         ontologyId chromosome           gencodeId       nes  \n",
      "0    UBERON:0000996       chr1  ENSG00000160766.14 -0.338485  \n",
      "1    UBERON:0000996       chr1  ENSG00000160766.14  0.370569  \n",
      "2    UBERON:0000996       chr1  ENSG00000160766.14 -0.322834  \n",
      "3    UBERON:0000996       chr1  ENSG00000160766.14 -0.322834  \n",
      "4    UBERON:0000996       chr1  ENSG00000160766.14 -0.322834  \n",
      "..              ...        ...                 ...       ...  \n",
      "252  UBERON:0000996       chr8  ENSG00000164941.13  0.745860  \n",
      "253  UBERON:0000996       chr8  ENSG00000182307.12  0.372037  \n",
      "254  UBERON:0000996       chr8  ENSG00000182307.12 -0.413673  \n",
      "255  UBERON:0000996      chr16  ENSG00000228695.10  1.008950  \n",
      "256  UBERON:0000996      chr19  ENSG00000174652.17  0.915561  \n",
      "\n",
      "[257 rows x 13 columns]\n"
     ]
    }
   ],
   "source": [
    "\n",
    "# list to storedata\n",
    "all_data = []\n",
    "\n",
    "for i in range(0, 9):\n",
    "    params = {\n",
    "        'tissueSiteDetailId': 'Vagina',\n",
    "        'variantId': sublists[i],\n",
    "        'format': 'json',\n",
    "        'datasetId': 'gtex_v8',\n",
    "        'page': 0 }\n",
    "\n",
    "    while True:\n",
    "        gene_eqtls = requests.get(url='https://gtexportal.org/api/v2/association/singleTissueEqtl', params=params)\n",
    "    \n",
    "        if gene_eqtls.status_code == 200:\n",
    "            data = gene_eqtls.json()\n",
    "            all_data.extend(data['data'])  \n",
    "        \n",
    "            # Check pages\n",
    "            paging_info = data.get('paging_info')\n",
    "            number_of_pages = paging_info.get('numberOfPages') if paging_info else 0\n",
    "        \n",
    "            if number_of_pages > params['page']:\n",
    "                params['page'] += 1 \n",
    "                gene_eqtls = requests.get(url='https://gtexportal.org/api/v2/association/singleTissueEqtl', params=params)\n",
    "            else:\n",
    "                break  \n",
    "                \n",
    "        else:\n",
    "            break\n",
    "\n",
    "vaginadf = pd.DataFrame(all_data)\n",
    "\n",
    "print(vaginadf)\n",
    "vaginadf.to_csv(\"10000variantids_vagina.csv\")"
   ]
  },
  {
   "cell_type": "code",
   "execution_count": 14,
   "id": "984019b8-996d-41eb-a813-8c3b2fc5aba4",
   "metadata": {
    "tags": []
   },
   "outputs": [],
   "source": [
    "vagina_genenames = vaginadf.drop_duplicates(subset=['geneSymbol'])\n",
    "vagina_genenames = vagina_genenames['geneSymbol'].tolist()"
   ]
  },
  {
   "cell_type": "code",
   "execution_count": 15,
   "id": "bfc53c66-f22e-4dd7-92a5-aed3e92264b8",
   "metadata": {
    "tags": []
   },
   "outputs": [
    {
     "data": {
      "text/plain": [
       "18"
      ]
     },
     "execution_count": 15,
     "metadata": {},
     "output_type": "execute_result"
    }
   ],
   "source": [
    "len(vagina_genenames)"
   ]
  },
  {
   "cell_type": "markdown",
   "id": "1cb6ede6-791e-46ec-a711-b2619346925b",
   "metadata": {
    "jp-MarkdownHeadingCollapsed": true,
    "tags": []
   },
   "source": [
    "## uterus eqtls"
   ]
  },
  {
   "cell_type": "code",
   "execution_count": 16,
   "id": "1fac9d47-62f1-4360-801a-77621761fc44",
   "metadata": {
    "tags": []
   },
   "outputs": [
    {
     "name": "stdout",
     "output_type": "stream",
     "text": [
      "         snpId        pos snpIdUpper               variantId  geneSymbol  \\\n",
      "0    rs2857211   32772665  RS2857211   chr6_32772665_A_G_b38     HLA-DOB   \n",
      "1    rs2621419   32773229  RS2621419   chr6_32773229_T_C_b38     HLA-DOB   \n",
      "2    rs2857210   32773965  RS2857210   chr6_32773965_A_G_b38     HLA-DOB   \n",
      "3    rs2621415   32774117  RS2621415   chr6_32774117_T_C_b38     HLA-DOB   \n",
      "4    rs2621414   32774282  RS2621414   chr6_32774282_T_C_b38     HLA-DOB   \n",
      "..         ...        ...        ...                     ...         ...   \n",
      "217  rs1265181   31188008  RS1265181   chr6_31188008_G_C_b38      CCHCR1   \n",
      "218  rs1265177   31193800  RS1265177   chr6_31193800_A_G_b38      CCHCR1   \n",
      "219  rs7014728  145056420  RS7014728  chr8_145056420_G_T_b38     C8orf33   \n",
      "220  rs1867910    3111717  RS1867910   chr11_3111717_A_G_b38  AC090804.1   \n",
      "221  rs7507261    9320829  RS7507261   chr19_9320829_G_C_b38      ZNF266   \n",
      "\n",
      "           pValue geneSymbolUpper datasetId tissueSiteDetailId  \\\n",
      "0    3.507290e-06         HLA-DOB   gtex_v8             Uterus   \n",
      "1    5.767440e-09         HLA-DOB   gtex_v8             Uterus   \n",
      "2    5.767440e-09         HLA-DOB   gtex_v8             Uterus   \n",
      "3    5.767440e-09         HLA-DOB   gtex_v8             Uterus   \n",
      "4    5.767440e-09         HLA-DOB   gtex_v8             Uterus   \n",
      "..            ...             ...       ...                ...   \n",
      "217  2.879550e-08          CCHCR1   gtex_v8             Uterus   \n",
      "218  2.879550e-08          CCHCR1   gtex_v8             Uterus   \n",
      "219  2.231330e-05         C8ORF33   gtex_v8             Uterus   \n",
      "220  8.036020e-06      AC090804.1   gtex_v8             Uterus   \n",
      "221  3.152890e-19          ZNF266   gtex_v8             Uterus   \n",
      "\n",
      "         ontologyId chromosome           gencodeId       nes  \n",
      "0    UBERON:0000995       chr6   ENSG00000241106.6 -0.573766  \n",
      "1    UBERON:0000995       chr6   ENSG00000241106.6 -0.719861  \n",
      "2    UBERON:0000995       chr6   ENSG00000241106.6 -0.719861  \n",
      "3    UBERON:0000995       chr6   ENSG00000241106.6 -0.719861  \n",
      "4    UBERON:0000995       chr6   ENSG00000241106.6 -0.719861  \n",
      "..              ...        ...                 ...       ...  \n",
      "217  UBERON:0000995       chr6  ENSG00000204536.13  0.375678  \n",
      "218  UBERON:0000995       chr6  ENSG00000204536.13  0.375678  \n",
      "219  UBERON:0000995       chr8  ENSG00000182307.12 -0.336007  \n",
      "220  UBERON:0000995      chr11   ENSG00000230593.3 -0.761242  \n",
      "221  UBERON:0000995      chr19  ENSG00000174652.17  0.754668  \n",
      "\n",
      "[222 rows x 13 columns]\n"
     ]
    }
   ],
   "source": [
    "\n",
    "# list to storedata\n",
    "all_data = []\n",
    "\n",
    "for i in range(0, 9):\n",
    "    params = {\n",
    "        'tissueSiteDetailId': 'Uterus',\n",
    "        'variantId': sublists[i],\n",
    "        'format': 'json',\n",
    "        'datasetId': 'gtex_v8',\n",
    "        'page': 0 }\n",
    "\n",
    "    while True:\n",
    "        gene_eqtls = requests.get(url='https://gtexportal.org/api/v2/association/singleTissueEqtl', params=params)\n",
    "    \n",
    "        if gene_eqtls.status_code == 200:\n",
    "            data = gene_eqtls.json()\n",
    "            all_data.extend(data['data'])  \n",
    "        \n",
    "            # Check pages\n",
    "            paging_info = data.get('paging_info')\n",
    "            number_of_pages = paging_info.get('numberOfPages') if paging_info else 0\n",
    "        \n",
    "            if number_of_pages > params['page']:\n",
    "                params['page'] += 1 \n",
    "                gene_eqtls = requests.get(url='https://gtexportal.org/api/v2/association/singleTissueEqtl', params=params)\n",
    "            else:\n",
    "                break  \n",
    "                \n",
    "        else:\n",
    "            break\n",
    "\n",
    "uterusdf = pd.DataFrame(all_data)\n",
    "\n",
    "print(uterusdf)\n",
    "uterusdf.to_csv(\"10000variantids_uterus.csv\")"
   ]
  },
  {
   "cell_type": "code",
   "execution_count": 17,
   "id": "f2d6f324-7fa5-4322-9ab0-b02632499ad5",
   "metadata": {
    "tags": []
   },
   "outputs": [],
   "source": [
    "uterus_genenames = uterusdf.drop_duplicates(subset=['geneSymbol'])\n",
    "uterus_genenames = uterus_genenames['geneSymbol'].tolist()"
   ]
  },
  {
   "cell_type": "code",
   "execution_count": 18,
   "id": "fa59351c-6965-446a-8ff2-0acd7c97ff43",
   "metadata": {
    "tags": []
   },
   "outputs": [
    {
     "data": {
      "text/plain": [
       "21"
      ]
     },
     "execution_count": 18,
     "metadata": {},
     "output_type": "execute_result"
    }
   ],
   "source": [
    "len(uterus_genenames)"
   ]
  },
  {
   "cell_type": "markdown",
   "id": "efa2c1ee-2ab6-4692-80c5-bbbfb3549e80",
   "metadata": {
    "jp-MarkdownHeadingCollapsed": true,
    "tags": []
   },
   "source": [
    "## ovary eqtls "
   ]
  },
  {
   "cell_type": "code",
   "execution_count": 19,
   "id": "047509e0-2e9d-49d5-884f-4e7ef98976c8",
   "metadata": {
    "tags": []
   },
   "outputs": [
    {
     "name": "stdout",
     "output_type": "stream",
     "text": [
      "          snpId        pos  snpIdUpper               variantId    geneSymbol  \\\n",
      "0     rs6676150  155151361   RS6676150  chr1_155151361_G_C_b38         THBS3   \n",
      "1     rs7535292  155155273   RS7535292  chr1_155155273_T_C_b38         THBS3   \n",
      "2     rs4971077  155156241   RS4971077  chr1_155156241_T_C_b38         THBS3   \n",
      "3     rs4971079  155157915   RS4971079  chr1_155157915_G_A_b38         THBS3   \n",
      "4     rs4460629  155162859   RS4460629  chr1_155162859_T_C_b38         THBS3   \n",
      "..          ...        ...         ...                     ...           ...   \n",
      "407   rs1265181   31188008   RS1265181   chr6_31188008_G_C_b38         HLA-L   \n",
      "408   rs1265177   31193800   RS1265177   chr6_31193800_A_G_b38         HLA-L   \n",
      "409  rs28687916   31865958  RS28687916  chr14_31865958_T_C_b38  RP11-176H8.1   \n",
      "410  rs28424072   55781463  RS28424072  chr16_55781463_G_A_b38        CES1P1   \n",
      "411   rs7507261    9320829   RS7507261   chr19_9320829_G_C_b38        ZNF266   \n",
      "\n",
      "           pValue geneSymbolUpper datasetId tissueSiteDetailId  \\\n",
      "0    7.067480e-08           THBS3   gtex_v8              Ovary   \n",
      "1    1.693490e-06           THBS3   gtex_v8              Ovary   \n",
      "2    1.693490e-06           THBS3   gtex_v8              Ovary   \n",
      "3    1.693490e-06           THBS3   gtex_v8              Ovary   \n",
      "4    3.610780e-05           THBS3   gtex_v8              Ovary   \n",
      "..            ...             ...       ...                ...   \n",
      "407  8.214170e-06           HLA-L   gtex_v8              Ovary   \n",
      "408  8.214170e-06           HLA-L   gtex_v8              Ovary   \n",
      "409  5.444160e-06    RP11-176H8.1   gtex_v8              Ovary   \n",
      "410  1.196430e-06          CES1P1   gtex_v8              Ovary   \n",
      "411  2.890760e-28          ZNF266   gtex_v8              Ovary   \n",
      "\n",
      "         ontologyId chromosome           gencodeId       nes  \n",
      "0    UBERON:0000992       chr1  ENSG00000169231.13 -0.400039  \n",
      "1    UBERON:0000992       chr1  ENSG00000169231.13  0.354666  \n",
      "2    UBERON:0000992       chr1  ENSG00000169231.13  0.354666  \n",
      "3    UBERON:0000992       chr1  ENSG00000169231.13  0.354666  \n",
      "4    UBERON:0000992       chr1  ENSG00000169231.13  0.302822  \n",
      "..              ...        ...                 ...       ...  \n",
      "407  UBERON:0000992       chr6   ENSG00000243753.5  0.473652  \n",
      "408  UBERON:0000992       chr6   ENSG00000243753.5  0.473652  \n",
      "409  UBERON:0000992      chr14   ENSG00000203546.7  0.539600  \n",
      "410  UBERON:0000992      chr16  ENSG00000228695.10  0.896429  \n",
      "411  UBERON:0000992      chr19  ENSG00000174652.17  0.834530  \n",
      "\n",
      "[412 rows x 13 columns]\n"
     ]
    }
   ],
   "source": [
    "\n",
    "# list to storedata\n",
    "all_data = []\n",
    "\n",
    "for i in range(0, 9):\n",
    "    params = {\n",
    "        'tissueSiteDetailId': 'Ovary',\n",
    "        'variantId': sublists[i],\n",
    "        'format': 'json',\n",
    "        'datasetId': 'gtex_v8',\n",
    "        'page': 0 }\n",
    "\n",
    "    while True:\n",
    "        gene_eqtls = requests.get(url='https://gtexportal.org/api/v2/association/singleTissueEqtl', params=params)\n",
    "    \n",
    "        if gene_eqtls.status_code == 200:\n",
    "            data = gene_eqtls.json()\n",
    "            all_data.extend(data['data'])  \n",
    "        \n",
    "            # Check pages\n",
    "            paging_info = data.get('paging_info')\n",
    "            number_of_pages = paging_info.get('numberOfPages') if paging_info else 0\n",
    "        \n",
    "            if number_of_pages > params['page']:\n",
    "                params['page'] += 1 \n",
    "                gene_eqtls = requests.get(url='https://gtexportal.org/api/v2/association/singleTissueEqtl', params=params)\n",
    "            else:\n",
    "                break  \n",
    "                \n",
    "        else:\n",
    "            break\n",
    "\n",
    "ovarydf = pd.DataFrame(all_data)\n",
    "\n",
    "print(ovarydf)\n",
    "ovarydf.to_csv(\"10000variantids_ovary.csv\")"
   ]
  },
  {
   "cell_type": "code",
   "execution_count": 20,
   "id": "2e515dae-8174-4bfb-8118-3aebb135cdd8",
   "metadata": {
    "tags": []
   },
   "outputs": [],
   "source": [
    "ovary_genenames = ovarydf.drop_duplicates(subset=['geneSymbol'])\n",
    "ovary_genenames = ovary_genenames['geneSymbol'].tolist()"
   ]
  },
  {
   "cell_type": "code",
   "execution_count": 21,
   "id": "b6727717-fcbb-4ed2-8b1c-1b14d12902b0",
   "metadata": {
    "tags": []
   },
   "outputs": [
    {
     "data": {
      "text/plain": [
       "26"
      ]
     },
     "execution_count": 21,
     "metadata": {},
     "output_type": "execute_result"
    }
   ],
   "source": [
    "len(ovary_genenames)"
   ]
  },
  {
   "cell_type": "markdown",
   "id": "72d2bf18-e517-4349-a81e-6359b5be07cb",
   "metadata": {
    "jp-MarkdownHeadingCollapsed": true,
    "tags": []
   },
   "source": [
    "## pituitary eqtls "
   ]
  },
  {
   "cell_type": "code",
   "execution_count": 22,
   "id": "7290f3ba-fe10-47d5-b62e-f83b3d32222e",
   "metadata": {
    "tags": []
   },
   "outputs": [
    {
     "name": "stdout",
     "output_type": "stream",
     "text": [
      "          snpId        pos  snpIdUpper                variantId  \\\n",
      "0     rs7535292  155155273   RS7535292   chr1_155155273_T_C_b38   \n",
      "1     rs4971077  155156241   RS4971077   chr1_155156241_T_C_b38   \n",
      "2     rs2974935  155212052   RS2974935   chr1_155212052_G_T_b38   \n",
      "3    rs28445596  155216938  RS28445596   chr1_155216938_C_T_b38   \n",
      "4     rs2990220  155220463   RS2990220   chr1_155220463_T_A_b38   \n",
      "..          ...        ...         ...                      ...   \n",
      "913  rs12817066  121904721  RS12817066  chr12_121904721_G_A_b38   \n",
      "914  rs28424072   55781463  RS28424072   chr16_55781463_G_A_b38   \n",
      "915  rs28424072   55781463  RS28424072   chr16_55781463_G_A_b38   \n",
      "916   rs7507261    9320829   RS7507261    chr19_9320829_G_C_b38   \n",
      "917   rs7507261    9320829   RS7507261    chr19_9320829_G_C_b38   \n",
      "\n",
      "        geneSymbol        pValue geneSymbolUpper datasetId tissueSiteDetailId  \\\n",
      "0           ADAM15  4.673510e-05          ADAM15   gtex_v8          Pituitary   \n",
      "1           ADAM15  4.673510e-05          ADAM15   gtex_v8          Pituitary   \n",
      "2           ADAM15  5.992120e-05          ADAM15   gtex_v8          Pituitary   \n",
      "3           ADAM15  6.887700e-05          ADAM15   gtex_v8          Pituitary   \n",
      "4           ADAM15  6.887700e-05          ADAM15   gtex_v8          Pituitary   \n",
      "..             ...           ...             ...       ...                ...   \n",
      "913  RP11-347I19.7  1.668120e-06   RP11-347I19.7   gtex_v8          Pituitary   \n",
      "914         CES1P1  1.155290e-08          CES1P1   gtex_v8          Pituitary   \n",
      "915           CES1  1.185420e-05            CES1   gtex_v8          Pituitary   \n",
      "916   CTC-325H20.7  3.227580e-06    CTC-325H20.7   gtex_v8          Pituitary   \n",
      "917         ZNF266  2.672210e-37          ZNF266   gtex_v8          Pituitary   \n",
      "\n",
      "         ontologyId chromosome           gencodeId       nes  \n",
      "0    UBERON:0000007       chr1  ENSG00000143537.13 -0.187079  \n",
      "1    UBERON:0000007       chr1  ENSG00000143537.13 -0.187079  \n",
      "2    UBERON:0000007       chr1  ENSG00000143537.13 -0.162553  \n",
      "3    UBERON:0000007       chr1  ENSG00000143537.13  0.159990  \n",
      "4    UBERON:0000007       chr1  ENSG00000143537.13 -0.159990  \n",
      "..              ...        ...                 ...       ...  \n",
      "913  UBERON:0000007      chr12   ENSG00000274292.1 -0.319397  \n",
      "914  UBERON:0000007      chr16  ENSG00000228695.10  0.768559  \n",
      "915  UBERON:0000007      chr16  ENSG00000198848.12  0.528286  \n",
      "916  UBERON:0000007      chr19   ENSG00000270614.1 -0.365649  \n",
      "917  UBERON:0000007      chr19  ENSG00000174652.17  0.848233  \n",
      "\n",
      "[918 rows x 13 columns]\n"
     ]
    }
   ],
   "source": [
    "\n",
    "# list to storedata\n",
    "all_data = []\n",
    "\n",
    "for i in range(0, 9):\n",
    "    params = {\n",
    "        'tissueSiteDetailId': 'Pituitary',\n",
    "        'variantId': sublists[i],\n",
    "        'format': 'json',\n",
    "        'datasetId': 'gtex_v8',\n",
    "        'page': 0 }\n",
    "\n",
    "    while True:\n",
    "        gene_eqtls = requests.get(url='https://gtexportal.org/api/v2/association/singleTissueEqtl', params=params)\n",
    "    \n",
    "        if gene_eqtls.status_code == 200:\n",
    "            data = gene_eqtls.json()\n",
    "            all_data.extend(data['data'])  \n",
    "        \n",
    "            # Check pages\n",
    "            paging_info = data.get('paging_info')\n",
    "            number_of_pages = paging_info.get('numberOfPages') if paging_info else 0\n",
    "        \n",
    "            if number_of_pages > params['page']:\n",
    "                params['page'] += 1 \n",
    "                gene_eqtls = requests.get(url='https://gtexportal.org/api/v2/association/singleTissueEqtl', params=params)\n",
    "            else:\n",
    "                break  \n",
    "                \n",
    "        else:\n",
    "            break\n",
    "\n",
    "pituitarydf = pd.DataFrame(all_data)\n",
    "\n",
    "print(pituitarydf)\n",
    "pituitarydf.to_csv(\"10000variantids_pituitary.csv\")"
   ]
  },
  {
   "cell_type": "code",
   "execution_count": 23,
   "id": "d6ac403e-9802-4d03-bdda-61cf84b8f1ff",
   "metadata": {
    "tags": []
   },
   "outputs": [],
   "source": [
    "pituitary_genenames = pituitarydf.drop_duplicates(subset=['geneSymbol'])\n",
    "pituitary_genenames = pituitary_genenames['geneSymbol'].tolist()"
   ]
  },
  {
   "cell_type": "code",
   "execution_count": 24,
   "id": "b7336e80-4513-4ab0-814d-b5f8f96a0914",
   "metadata": {
    "tags": []
   },
   "outputs": [
    {
     "data": {
      "text/plain": [
       "74"
      ]
     },
     "execution_count": 24,
     "metadata": {},
     "output_type": "execute_result"
    }
   ],
   "source": [
    "len(pituitary_genenames)"
   ]
  },
  {
   "cell_type": "markdown",
   "id": "15092802-c877-499f-8a5b-8cfb78b01288",
   "metadata": {
    "jp-MarkdownHeadingCollapsed": true,
    "tags": []
   },
   "source": [
    "## adipose subcutaenous eqtls "
   ]
  },
  {
   "cell_type": "code",
   "execution_count": 25,
   "id": "c3c5ad54-bc64-42ee-a5cd-da073b783699",
   "metadata": {
    "tags": []
   },
   "outputs": [
    {
     "name": "stdout",
     "output_type": "stream",
     "text": [
      "            snpId       pos   snpIdUpper               variantId  \\\n",
      "0     rs113521086  75898558  RS113521086   chr1_75898558_G_T_b38   \n",
      "1       rs1845277  75906861    RS1845277   chr1_75906861_T_C_b38   \n",
      "2       rs1021464  75909730    RS1021464   chr1_75909730_G_A_b38   \n",
      "3     rs113521086  75898558  RS113521086   chr1_75898558_G_T_b38   \n",
      "4       rs1845277  75906861    RS1845277   chr1_75906861_T_C_b38   \n",
      "...           ...       ...          ...                     ...   \n",
      "2739  rs146728316  47595301  RS146728316  chr19_47595301_C_T_b38   \n",
      "2740    rs1978606  47595821    RS1978606  chr19_47595821_A_C_b38   \n",
      "2741    rs6032678  46148656    RS6032678  chr20_46148656_C_T_b38   \n",
      "2742    rs6032678  46148656    RS6032678  chr20_46148656_C_T_b38   \n",
      "2743    rs6032678  46148656    RS6032678  chr20_46148656_C_T_b38   \n",
      "\n",
      "        geneSymbol        pValue geneSymbolUpper datasetId  \\\n",
      "0            ACADM  3.733590e-05           ACADM   gtex_v8   \n",
      "1            ACADM  2.977000e-05           ACADM   gtex_v8   \n",
      "2            ACADM  2.977000e-05           ACADM   gtex_v8   \n",
      "3           DLSTP1  4.577100e-06          DLSTP1   gtex_v8   \n",
      "4           DLSTP1  3.352580e-06          DLSTP1   gtex_v8   \n",
      "...            ...           ...             ...       ...   \n",
      "2739  RP11-43N16.4  8.436860e-09    RP11-43N16.4   gtex_v8   \n",
      "2740  RP11-43N16.4  1.088280e-06    RP11-43N16.4   gtex_v8   \n",
      "2741        NEURL2  1.137360e-05          NEURL2   gtex_v8   \n",
      "2742          PLTP  1.222950e-06            PLTP   gtex_v8   \n",
      "2743          CD40  9.981150e-09            CD40   gtex_v8   \n",
      "\n",
      "        tissueSiteDetailId      ontologyId chromosome           gencodeId  \\\n",
      "0     Adipose_Subcutaneous  UBERON:0002190       chr1  ENSG00000117054.13   \n",
      "1     Adipose_Subcutaneous  UBERON:0002190       chr1  ENSG00000117054.13   \n",
      "2     Adipose_Subcutaneous  UBERON:0002190       chr1  ENSG00000117054.13   \n",
      "3     Adipose_Subcutaneous  UBERON:0002190       chr1   ENSG00000181227.3   \n",
      "4     Adipose_Subcutaneous  UBERON:0002190       chr1   ENSG00000181227.3   \n",
      "...                    ...             ...        ...                 ...   \n",
      "2739  Adipose_Subcutaneous  UBERON:0002190      chr19   ENSG00000279861.1   \n",
      "2740  Adipose_Subcutaneous  UBERON:0002190      chr19   ENSG00000279861.1   \n",
      "2741  Adipose_Subcutaneous  UBERON:0002190      chr20   ENSG00000124257.6   \n",
      "2742  Adipose_Subcutaneous  UBERON:0002190      chr20  ENSG00000100979.14   \n",
      "2743  Adipose_Subcutaneous  UBERON:0002190      chr20  ENSG00000101017.13   \n",
      "\n",
      "           nes  \n",
      "0    -0.154168  \n",
      "1    -0.156485  \n",
      "2    -0.156485  \n",
      "3    -0.285841  \n",
      "4    -0.290555  \n",
      "...        ...  \n",
      "2739  0.765416  \n",
      "2740  0.464585  \n",
      "2741 -0.170336  \n",
      "2742 -0.130903  \n",
      "2743  0.201428  \n",
      "\n",
      "[2744 rows x 13 columns]\n"
     ]
    }
   ],
   "source": [
    "\n",
    "# list to storedata\n",
    "all_data = []\n",
    "\n",
    "for i in range(0, 9):\n",
    "    params = {\n",
    "        'tissueSiteDetailId': 'Adipose_Subcutaneous',\n",
    "        'variantId': sublists[i],\n",
    "        'format': 'json',\n",
    "        'datasetId': 'gtex_v8',\n",
    "        'page': 0 }\n",
    "\n",
    "    while True:\n",
    "        gene_eqtls = requests.get(url='https://gtexportal.org/api/v2/association/singleTissueEqtl', params=params)\n",
    "    \n",
    "        if gene_eqtls.status_code == 200:\n",
    "            data = gene_eqtls.json()\n",
    "            all_data.extend(data['data'])  \n",
    "        \n",
    "            # Check pages\n",
    "            paging_info = data.get('paging_info')\n",
    "            number_of_pages = paging_info.get('numberOfPages') if paging_info else 0\n",
    "        \n",
    "            if number_of_pages > params['page']:\n",
    "                params['page'] += 1 \n",
    "                gene_eqtls = requests.get(url='https://gtexportal.org/api/v2/association/singleTissueEqtl', params=params)\n",
    "            else:\n",
    "                break  \n",
    "                \n",
    "        else:\n",
    "            break\n",
    "\n",
    "adiposesubcdf = pd.DataFrame(all_data)\n",
    "\n",
    "print(adiposesubcdf)\n",
    "adiposesubcdf.to_csv(\"10000variantids_adiposesubc.csv\")"
   ]
  },
  {
   "cell_type": "code",
   "execution_count": 26,
   "id": "df874fad-fc36-4884-975d-5c3b2897e281",
   "metadata": {
    "tags": []
   },
   "outputs": [],
   "source": [
    "adiposesubc_genenames = adiposesubcdf.drop_duplicates(subset=['geneSymbol'])\n",
    "adiposesubc_genenames = adiposesubc_genenames['geneSymbol'].tolist()"
   ]
  },
  {
   "cell_type": "code",
   "execution_count": 27,
   "id": "21974fbb-12b6-4844-8679-6f4f3e32ae73",
   "metadata": {
    "tags": []
   },
   "outputs": [
    {
     "data": {
      "text/plain": [
       "188"
      ]
     },
     "execution_count": 27,
     "metadata": {},
     "output_type": "execute_result"
    }
   ],
   "source": [
    "len(adiposesubc_genenames)"
   ]
  },
  {
   "cell_type": "markdown",
   "id": "ea5245fa-3a56-43bc-a739-509f3a1a3f5d",
   "metadata": {
    "jp-MarkdownHeadingCollapsed": true,
    "tags": []
   },
   "source": [
    "## Adipose_Visceral_Omentum eqtls "
   ]
  },
  {
   "cell_type": "code",
   "execution_count": 28,
   "id": "dfaa5cd9-3a29-4b4b-bd32-50e1a4b91fd7",
   "metadata": {
    "tags": []
   },
   "outputs": [
    {
     "name": "stdout",
     "output_type": "stream",
     "text": [
      "            snpId       pos   snpIdUpper              variantId geneSymbol  \\\n",
      "0       rs1146626  75782330    RS1146626  chr1_75782330_G_A_b38      ACADM   \n",
      "1     rs113521086  75898558  RS113521086  chr1_75898558_G_T_b38      ACADM   \n",
      "2       rs1845277  75906861    RS1845277  chr1_75906861_T_C_b38      ACADM   \n",
      "3       rs1021464  75909730    RS1021464  chr1_75909730_G_A_b38      ACADM   \n",
      "4       rs1146626  75782330    RS1146626  chr1_75782330_G_A_b38       MSH4   \n",
      "...           ...       ...          ...                    ...        ...   \n",
      "1317    rs2106842   7259132    RS2106842  chr17_7259132_G_A_b38    CTDNEP1   \n",
      "1318     rs222851   7235919     RS222851  chr17_7235919_G_A_b38       ELP5   \n",
      "1319    rs2106842   7259132    RS2106842  chr17_7259132_G_A_b38       ELP5   \n",
      "1320     rs222851   7235919     RS222851  chr17_7235919_G_A_b38      CLDN7   \n",
      "1321    rs2106842   7259132    RS2106842  chr17_7259132_G_A_b38      CLDN7   \n",
      "\n",
      "            pValue geneSymbolUpper datasetId        tissueSiteDetailId  \\\n",
      "0     3.523780e-07           ACADM   gtex_v8  Adipose_Visceral_Omentum   \n",
      "1     6.724650e-05           ACADM   gtex_v8  Adipose_Visceral_Omentum   \n",
      "2     4.003940e-05           ACADM   gtex_v8  Adipose_Visceral_Omentum   \n",
      "3     5.157770e-05           ACADM   gtex_v8  Adipose_Visceral_Omentum   \n",
      "4     1.119170e-12            MSH4   gtex_v8  Adipose_Visceral_Omentum   \n",
      "...            ...             ...       ...                       ...   \n",
      "1317  9.231340e-14         CTDNEP1   gtex_v8  Adipose_Visceral_Omentum   \n",
      "1318  3.045070e-07            ELP5   gtex_v8  Adipose_Visceral_Omentum   \n",
      "1319  1.133460e-07            ELP5   gtex_v8  Adipose_Visceral_Omentum   \n",
      "1320  6.008110e-30           CLDN7   gtex_v8  Adipose_Visceral_Omentum   \n",
      "1321  5.041080e-26           CLDN7   gtex_v8  Adipose_Visceral_Omentum   \n",
      "\n",
      "          ontologyId chromosome           gencodeId       nes  \n",
      "0     UBERON:0010414       chr1  ENSG00000117054.13  0.228032  \n",
      "1     UBERON:0010414       chr1  ENSG00000117054.13 -0.158320  \n",
      "2     UBERON:0010414       chr1  ENSG00000117054.13 -0.164327  \n",
      "3     UBERON:0010414       chr1  ENSG00000117054.13 -0.161370  \n",
      "4     UBERON:0010414       chr1   ENSG00000057468.6  0.629871  \n",
      "...              ...        ...                 ...       ...  \n",
      "1317  UBERON:0010414      chr17  ENSG00000175826.11  0.177899  \n",
      "1318  UBERON:0010414      chr17  ENSG00000170291.14  0.127151  \n",
      "1319  UBERON:0010414      chr17  ENSG00000170291.14 -0.129644  \n",
      "1320  UBERON:0010414      chr17  ENSG00000181885.18  0.457714  \n",
      "1321  UBERON:0010414      chr17  ENSG00000181885.18 -0.423146  \n",
      "\n",
      "[1322 rows x 13 columns]\n"
     ]
    }
   ],
   "source": [
    "\n",
    "# list to storedata\n",
    "all_data = []\n",
    "\n",
    "for i in range(0, 9):\n",
    "    params = {\n",
    "        'tissueSiteDetailId': 'Adipose_Visceral_Omentum',\n",
    "        'variantId': sublists[i],\n",
    "        'format': 'json',\n",
    "        'datasetId': 'gtex_v8',\n",
    "        'page': 0 }\n",
    "\n",
    "    while True:\n",
    "        gene_eqtls = requests.get(url='https://gtexportal.org/api/v2/association/singleTissueEqtl', params=params)\n",
    "    \n",
    "        if gene_eqtls.status_code == 200:\n",
    "            data = gene_eqtls.json()\n",
    "            all_data.extend(data['data'])  \n",
    "        \n",
    "            # Check pages\n",
    "            paging_info = data.get('paging_info')\n",
    "            number_of_pages = paging_info.get('numberOfPages') if paging_info else 0\n",
    "        \n",
    "            if number_of_pages > params['page']:\n",
    "                params['page'] += 1 \n",
    "                gene_eqtls = requests.get(url='https://gtexportal.org/api/v2/association/singleTissueEqtl', params=params)\n",
    "            else:\n",
    "                break  \n",
    "                \n",
    "        else:\n",
    "            break\n",
    "\n",
    "adiposeviscdf = pd.DataFrame(all_data)\n",
    "\n",
    "print(adiposeviscdf)\n",
    "adiposeviscdf.to_csv(\"10000variantids_adiposevisc.csv\")"
   ]
  },
  {
   "cell_type": "code",
   "execution_count": 29,
   "id": "5f98b38f-c802-44a5-a27f-406bc5d41a84",
   "metadata": {
    "tags": []
   },
   "outputs": [],
   "source": [
    "adiposeviscdf_genenames = adiposeviscdf.drop_duplicates(subset=['geneSymbol'])\n",
    "adiposeviscdf_genenames = adiposeviscdf_genenames['geneSymbol'].tolist()"
   ]
  },
  {
   "cell_type": "code",
   "execution_count": 30,
   "id": "b7d8e77d-0766-4889-8730-1912cd9db963",
   "metadata": {
    "tags": []
   },
   "outputs": [
    {
     "data": {
      "text/plain": [
       "96"
      ]
     },
     "execution_count": 30,
     "metadata": {},
     "output_type": "execute_result"
    }
   ],
   "source": [
    "len(adiposeviscdf_genenames)"
   ]
  },
  {
   "cell_type": "markdown",
   "id": "cd9beddf-f064-442f-88f1-73b8548b632e",
   "metadata": {
    "jp-MarkdownHeadingCollapsed": true,
    "tags": []
   },
   "source": [
    "## adrenal eqtls "
   ]
  },
  {
   "cell_type": "code",
   "execution_count": 31,
   "id": "7fab7c0e-6193-413e-881d-b1cc89582148",
   "metadata": {
    "tags": []
   },
   "outputs": [
    {
     "name": "stdout",
     "output_type": "stream",
     "text": [
      "          snpId        pos  snpIdUpper               variantId geneSymbol  \\\n",
      "0     rs9330264  155123274   RS9330264  chr1_155123274_T_C_b38      THBS3   \n",
      "1     rs6676150  155151361   RS6676150  chr1_155151361_G_C_b38      THBS3   \n",
      "2     rs7535292  155155273   RS7535292  chr1_155155273_T_C_b38      THBS3   \n",
      "3     rs4971077  155156241   RS4971077  chr1_155156241_T_C_b38      THBS3   \n",
      "4     rs4971079  155157915   RS4971079  chr1_155157915_G_A_b38      THBS3   \n",
      "..          ...        ...         ...                     ...        ...   \n",
      "848    rs301010   95476378    RS301010  chr12_95476378_A_G_b38      USP44   \n",
      "849  rs28424072   55781463  RS28424072  chr16_55781463_G_A_b38     CES1P1   \n",
      "850  rs28424072   55781463  RS28424072  chr16_55781463_G_A_b38       CES1   \n",
      "851   rs7507261    9320829   RS7507261   chr19_9320829_G_C_b38     ZNF177   \n",
      "852   rs7507261    9320829   RS7507261   chr19_9320829_G_C_b38     ZNF266   \n",
      "\n",
      "           pValue geneSymbolUpper datasetId tissueSiteDetailId  \\\n",
      "0    1.784530e-10           THBS3   gtex_v8      Adrenal_Gland   \n",
      "1    8.402250e-11           THBS3   gtex_v8      Adrenal_Gland   \n",
      "2    1.448550e-07           THBS3   gtex_v8      Adrenal_Gland   \n",
      "3    1.448550e-07           THBS3   gtex_v8      Adrenal_Gland   \n",
      "4    4.139070e-08           THBS3   gtex_v8      Adrenal_Gland   \n",
      "..            ...             ...       ...                ...   \n",
      "848  1.124390e-06           USP44   gtex_v8      Adrenal_Gland   \n",
      "849  1.047620e-12          CES1P1   gtex_v8      Adrenal_Gland   \n",
      "850  9.526210e-08            CES1   gtex_v8      Adrenal_Gland   \n",
      "851  1.600780e-05          ZNF177   gtex_v8      Adrenal_Gland   \n",
      "852  2.602620e-53          ZNF266   gtex_v8      Adrenal_Gland   \n",
      "\n",
      "         ontologyId chromosome           gencodeId       nes  \n",
      "0    UBERON:0002369       chr1  ENSG00000169231.13  0.295806  \n",
      "1    UBERON:0002369       chr1  ENSG00000169231.13 -0.274335  \n",
      "2    UBERON:0002369       chr1  ENSG00000169231.13  0.221778  \n",
      "3    UBERON:0002369       chr1  ENSG00000169231.13  0.221778  \n",
      "4    UBERON:0002369       chr1  ENSG00000169231.13  0.231958  \n",
      "..              ...        ...                 ...       ...  \n",
      "848  UBERON:0002369      chr12  ENSG00000136014.11 -0.484653  \n",
      "849  UBERON:0002369      chr16  ENSG00000228695.10  1.111720  \n",
      "850  UBERON:0002369      chr16  ENSG00000198848.12  0.686231  \n",
      "851  UBERON:0002369      chr19  ENSG00000188629.11 -0.319870  \n",
      "852  UBERON:0002369      chr19  ENSG00000174652.17  0.882980  \n",
      "\n",
      "[853 rows x 13 columns]\n"
     ]
    }
   ],
   "source": [
    "\n",
    "# list to storedata\n",
    "all_data = []\n",
    "\n",
    "for i in range(0, 9):\n",
    "    params = {\n",
    "        'tissueSiteDetailId': 'Adrenal_Gland',\n",
    "        'variantId': sublists[i],\n",
    "        'format': 'json',\n",
    "        'datasetId': 'gtex_v8',\n",
    "        'page': 0 }\n",
    "\n",
    "    while True:\n",
    "        gene_eqtls = requests.get(url='https://gtexportal.org/api/v2/association/singleTissueEqtl', params=params)\n",
    "    \n",
    "        if gene_eqtls.status_code == 200:\n",
    "            data = gene_eqtls.json()\n",
    "            all_data.extend(data['data'])  \n",
    "        \n",
    "            # Check pages\n",
    "            paging_info = data.get('paging_info')\n",
    "            number_of_pages = paging_info.get('numberOfPages') if paging_info else 0\n",
    "        \n",
    "            if number_of_pages > params['page']:\n",
    "                params['page'] += 1 \n",
    "                gene_eqtls = requests.get(url='https://gtexportal.org/api/v2/association/singleTissueEqtl', params=params)\n",
    "            else:\n",
    "                break  \n",
    "                \n",
    "        else:\n",
    "            break\n",
    "\n",
    "adrenalglanddf = pd.DataFrame(all_data)\n",
    "\n",
    "print(adrenalglanddf)\n",
    "adrenalglanddf.to_csv(\"10000variantids_adiposesubc.csv\")"
   ]
  },
  {
   "cell_type": "code",
   "execution_count": 32,
   "id": "8006e51e-5a88-4673-be27-fdf42df242af",
   "metadata": {
    "tags": []
   },
   "outputs": [],
   "source": [
    "adrenalgland_genenames = adrenalglanddf.drop_duplicates(subset=['geneSymbol'])\n",
    "adrenalgland_genenames = adrenalgland_genenames['geneSymbol'].tolist()"
   ]
  },
  {
   "cell_type": "code",
   "execution_count": 33,
   "id": "989cdfea-a70b-4d92-99fb-55f31fa9c863",
   "metadata": {
    "tags": []
   },
   "outputs": [
    {
     "data": {
      "text/plain": [
       "71"
      ]
     },
     "execution_count": 33,
     "metadata": {},
     "output_type": "execute_result"
    }
   ],
   "source": [
    "len(adrenalgland_genenames)"
   ]
  },
  {
   "cell_type": "markdown",
   "id": "3a090fd2-d60d-4eb9-9b1e-29cada293297",
   "metadata": {
    "jp-MarkdownHeadingCollapsed": true,
    "tags": []
   },
   "source": [
    "## thyroid eqtls "
   ]
  },
  {
   "cell_type": "code",
   "execution_count": 34,
   "id": "b78cdfaa-5a6a-435d-955b-9e4da317098f",
   "metadata": {
    "tags": []
   },
   "outputs": [
    {
     "name": "stdout",
     "output_type": "stream",
     "text": [
      "            snpId        pos   snpIdUpper               variantId  \\\n",
      "0       rs4246529  155142784    RS4246529  chr1_155142784_T_C_b38   \n",
      "1      rs10157801  155147536   RS10157801  chr1_155147536_A_G_b38   \n",
      "2       rs7535292  155155273    RS7535292  chr1_155155273_T_C_b38   \n",
      "3       rs4971077  155156241    RS4971077  chr1_155156241_T_C_b38   \n",
      "4       rs4971078  155156547    RS4971078  chr1_155156547_A_G_b38   \n",
      "...           ...        ...          ...                     ...   \n",
      "3233    rs7507261    9320829    RS7507261   chr19_9320829_G_C_b38   \n",
      "3234    rs7507261    9320829    RS7507261   chr19_9320829_G_C_b38   \n",
      "3235    rs7507261    9320829    RS7507261   chr19_9320829_G_C_b38   \n",
      "3236  rs146728316   47595301  RS146728316  chr19_47595301_C_T_b38   \n",
      "3237    rs1978606   47595821    RS1978606  chr19_47595821_A_C_b38   \n",
      "\n",
      "         geneSymbol        pValue geneSymbolUpper datasetId  \\\n",
      "0             EFNA1  1.896670e-04           EFNA1   gtex_v8   \n",
      "1             EFNA1  2.196680e-04           EFNA1   gtex_v8   \n",
      "2             EFNA1  1.408170e-05           EFNA1   gtex_v8   \n",
      "3             EFNA1  1.408170e-05           EFNA1   gtex_v8   \n",
      "4             EFNA1  1.722900e-04           EFNA1   gtex_v8   \n",
      "...             ...           ...             ...       ...   \n",
      "3233   CTC-543D15.8  1.291260e-07    CTC-543D15.8   gtex_v8   \n",
      "3234         ZNF561  9.236680e-11          ZNF561   gtex_v8   \n",
      "3235  CTD-3116E22.8  7.919410e-05   CTD-3116E22.8   gtex_v8   \n",
      "3236   RP11-43N16.4  5.858240e-13    RP11-43N16.4   gtex_v8   \n",
      "3237   RP11-43N16.4  2.721890e-08    RP11-43N16.4   gtex_v8   \n",
      "\n",
      "     tissueSiteDetailId      ontologyId chromosome           gencodeId  \\\n",
      "0               Thyroid  UBERON:0002046       chr1  ENSG00000169242.11   \n",
      "1               Thyroid  UBERON:0002046       chr1  ENSG00000169242.11   \n",
      "2               Thyroid  UBERON:0002046       chr1  ENSG00000169242.11   \n",
      "3               Thyroid  UBERON:0002046       chr1  ENSG00000169242.11   \n",
      "4               Thyroid  UBERON:0002046       chr1  ENSG00000169242.11   \n",
      "...                 ...             ...        ...                 ...   \n",
      "3233            Thyroid  UBERON:0002046      chr19   ENSG00000278611.1   \n",
      "3234            Thyroid  UBERON:0002046      chr19  ENSG00000171469.10   \n",
      "3235            Thyroid  UBERON:0002046      chr19   ENSG00000277587.1   \n",
      "3236            Thyroid  UBERON:0002046      chr19   ENSG00000279861.1   \n",
      "3237            Thyroid  UBERON:0002046      chr19   ENSG00000279861.1   \n",
      "\n",
      "           nes  \n",
      "0    -0.079292  \n",
      "1    -0.078596  \n",
      "2    -0.095356  \n",
      "3    -0.095356  \n",
      "4    -0.079429  \n",
      "...        ...  \n",
      "3233 -0.181343  \n",
      "3234  0.198434  \n",
      "3235  0.182341  \n",
      "3236  0.677833  \n",
      "3237  0.379779  \n",
      "\n",
      "[3238 rows x 13 columns]\n"
     ]
    }
   ],
   "source": [
    "\n",
    "# list to storedata\n",
    "all_data = []\n",
    "\n",
    "for i in range(0, 9):\n",
    "    params = {\n",
    "        'tissueSiteDetailId': 'Thyroid',\n",
    "        'variantId': sublists[i],\n",
    "        'format': 'json',\n",
    "        'datasetId': 'gtex_v8',\n",
    "        'page': 0 }\n",
    "\n",
    "    while True:\n",
    "        gene_eqtls = requests.get(url='https://gtexportal.org/api/v2/association/singleTissueEqtl', params=params)\n",
    "    \n",
    "        if gene_eqtls.status_code == 200:\n",
    "            data = gene_eqtls.json()\n",
    "            all_data.extend(data['data'])  \n",
    "        \n",
    "            # Check pages\n",
    "            paging_info = data.get('paging_info')\n",
    "            number_of_pages = paging_info.get('numberOfPages') if paging_info else 0\n",
    "        \n",
    "            if number_of_pages > params['page']:\n",
    "                params['page'] += 1 \n",
    "                gene_eqtls = requests.get(url='https://gtexportal.org/api/v2/association/singleTissueEqtl', params=params)\n",
    "            else:\n",
    "                break  \n",
    "                \n",
    "        else:\n",
    "            break\n",
    "\n",
    "thyroiddf = pd.DataFrame(all_data)\n",
    "\n",
    "print(thyroiddf)\n",
    "thyroiddf.to_csv(\"10000variantids_adiposesubc.csv\")"
   ]
  },
  {
   "cell_type": "code",
   "execution_count": 35,
   "id": "ed14e8b9-ce0f-4cfe-92ce-5a3e4198d63d",
   "metadata": {
    "tags": []
   },
   "outputs": [],
   "source": [
    "thyroid_genenames = thyroiddf.drop_duplicates(subset=['geneSymbol'])\n",
    "thyroid_genenames = thyroid_genenames['geneSymbol'].tolist()"
   ]
  },
  {
   "cell_type": "code",
   "execution_count": 36,
   "id": "11e5c9c8-5d90-4e9d-8ef3-0adb5f28e969",
   "metadata": {
    "tags": []
   },
   "outputs": [
    {
     "data": {
      "text/plain": [
       "237"
      ]
     },
     "execution_count": 36,
     "metadata": {},
     "output_type": "execute_result"
    }
   ],
   "source": [
    "len(thyroid_genenames)"
   ]
  },
  {
   "cell_type": "markdown",
   "id": "af61cd44-8c1b-4cdf-a8c6-c72b53531bc4",
   "metadata": {
    "jp-MarkdownHeadingCollapsed": true,
    "tags": []
   },
   "source": [
    "## Stomach eqtls "
   ]
  },
  {
   "cell_type": "code",
   "execution_count": 37,
   "id": "8e0a04b6-55ad-4843-b8e3-6382f96ce2ef",
   "metadata": {
    "tags": []
   },
   "outputs": [
    {
     "name": "stdout",
     "output_type": "stream",
     "text": [
      "           snpId        pos  snpIdUpper               variantId geneSymbol  \\\n",
      "0      rs9330264  155123274   RS9330264  chr1_155123274_T_C_b38      THBS3   \n",
      "1      rs6676150  155151361   RS6676150  chr1_155151361_G_C_b38      THBS3   \n",
      "2      rs7535292  155155273   RS7535292  chr1_155155273_T_C_b38      THBS3   \n",
      "3      rs4971077  155156241   RS4971077  chr1_155156241_T_C_b38      THBS3   \n",
      "4      rs4971079  155157915   RS4971079  chr1_155157915_G_A_b38      THBS3   \n",
      "...          ...        ...         ...                     ...        ...   \n",
      "1173    rs180032   20776190    RS180032  chr16_20776190_C_A_b38      ACSM1   \n",
      "1174  rs28424072   55781463  RS28424072  chr16_55781463_G_A_b38     CES1P1   \n",
      "1175  rs28424072   55781463  RS28424072  chr16_55781463_G_A_b38       CES1   \n",
      "1176   rs7507261    9320829   RS7507261   chr19_9320829_G_C_b38     ZNF266   \n",
      "1177   rs7507261    9320829   RS7507261   chr19_9320829_G_C_b38     ZNF561   \n",
      "\n",
      "            pValue geneSymbolUpper datasetId tissueSiteDetailId  \\\n",
      "0     1.110530e-12           THBS3   gtex_v8            Stomach   \n",
      "1     6.165850e-17           THBS3   gtex_v8            Stomach   \n",
      "2     4.000540e-09           THBS3   gtex_v8            Stomach   \n",
      "3     4.000540e-09           THBS3   gtex_v8            Stomach   \n",
      "4     4.248120e-09           THBS3   gtex_v8            Stomach   \n",
      "...            ...             ...       ...                ...   \n",
      "1173  5.047300e-07           ACSM1   gtex_v8            Stomach   \n",
      "1174  5.798270e-13          CES1P1   gtex_v8            Stomach   \n",
      "1175  2.019050e-06            CES1   gtex_v8            Stomach   \n",
      "1176  9.163920e-60          ZNF266   gtex_v8            Stomach   \n",
      "1177  6.745270e-06          ZNF561   gtex_v8            Stomach   \n",
      "\n",
      "          ontologyId chromosome           gencodeId       nes  \n",
      "0     UBERON:0000945       chr1  ENSG00000169231.13  0.245122  \n",
      "1     UBERON:0000945       chr1  ENSG00000169231.13 -0.270747  \n",
      "2     UBERON:0000945       chr1  ENSG00000169231.13  0.196653  \n",
      "3     UBERON:0000945       chr1  ENSG00000169231.13  0.196653  \n",
      "4     UBERON:0000945       chr1  ENSG00000169231.13  0.197358  \n",
      "...              ...        ...                 ...       ...  \n",
      "1173  UBERON:0000945      chr16   ENSG00000166743.9  0.576668  \n",
      "1174  UBERON:0000945      chr16  ENSG00000228695.10  0.950313  \n",
      "1175  UBERON:0000945      chr16  ENSG00000198848.12  0.383783  \n",
      "1176  UBERON:0000945      chr19  ENSG00000174652.17  0.907206  \n",
      "1177  UBERON:0000945      chr19  ENSG00000171469.10  0.211651  \n",
      "\n",
      "[1178 rows x 13 columns]\n"
     ]
    }
   ],
   "source": [
    "\n",
    "# list to storedata\n",
    "all_data = []\n",
    "\n",
    "for i in range(0, 9):\n",
    "    params = {\n",
    "        'tissueSiteDetailId': 'Stomach',\n",
    "        'variantId': sublists[i],\n",
    "        'format': 'json',\n",
    "        'datasetId': 'gtex_v8',\n",
    "        'page': 0 }\n",
    "\n",
    "    while True:\n",
    "        gene_eqtls = requests.get(url='https://gtexportal.org/api/v2/association/singleTissueEqtl', params=params)\n",
    "    \n",
    "        if gene_eqtls.status_code == 200:\n",
    "            data = gene_eqtls.json()\n",
    "            all_data.extend(data['data'])  \n",
    "        \n",
    "            # Check pages\n",
    "            paging_info = data.get('paging_info')\n",
    "            number_of_pages = paging_info.get('numberOfPages') if paging_info else 0\n",
    "        \n",
    "            if number_of_pages > params['page']:\n",
    "                params['page'] += 1 \n",
    "                gene_eqtls = requests.get(url='https://gtexportal.org/api/v2/association/singleTissueEqtl', params=params)\n",
    "            else:\n",
    "                break  \n",
    "                \n",
    "        else:\n",
    "            break\n",
    "\n",
    "stomachdf = pd.DataFrame(all_data)\n",
    "\n",
    "print(stomachdf)\n",
    "stomachdf.to_csv(\"10000variantids_adiposesubc.csv\")"
   ]
  },
  {
   "cell_type": "code",
   "execution_count": 38,
   "id": "520be8c1-72d2-4e5d-acdf-ef6ae1c6d71d",
   "metadata": {
    "tags": []
   },
   "outputs": [],
   "source": [
    "stomach_genenames = stomachdf.drop_duplicates(subset=['geneSymbol'])\n",
    "stomach_genenames = stomach_genenames['geneSymbol'].tolist()"
   ]
  },
  {
   "cell_type": "code",
   "execution_count": 39,
   "id": "ae786b3c-db73-4327-b349-57a28b00f236",
   "metadata": {
    "tags": []
   },
   "outputs": [
    {
     "data": {
      "text/plain": [
       "90"
      ]
     },
     "execution_count": 39,
     "metadata": {},
     "output_type": "execute_result"
    }
   ],
   "source": [
    "len(stomach_genenames)"
   ]
  },
  {
   "cell_type": "markdown",
   "id": "d74dcae2-b964-4cea-ac7b-336665c6f297",
   "metadata": {
    "jp-MarkdownHeadingCollapsed": true,
    "tags": []
   },
   "source": [
    "## Spleen eqtls "
   ]
  },
  {
   "cell_type": "code",
   "execution_count": 40,
   "id": "40ba2c77-d052-4ff5-a681-ddd552c38460",
   "metadata": {
    "tags": []
   },
   "outputs": [
    {
     "name": "stdout",
     "output_type": "stream",
     "text": [
      "          snpId        pos  snpIdUpper                variantId geneSymbol  \\\n",
      "0     rs1057941  155216951   RS1057941   chr1_155216951_G_A_b38       MUC1   \n",
      "1    rs12145362  155121537  RS12145362   chr1_155121537_C_A_b38      THBS3   \n",
      "2    rs11807418  155122129  RS11807418   chr1_155122129_A_T_b38      THBS3   \n",
      "3    rs11264327  155122631  RS11264327   chr1_155122631_G_A_b38      THBS3   \n",
      "4     rs9330264  155123274   RS9330264   chr1_155123274_T_C_b38      THBS3   \n",
      "..          ...        ...         ...                      ...        ...   \n",
      "992  rs12050367  106583565  RS12050367  chr14_106583565_T_C_b38   IGHV3-53   \n",
      "993  rs12050367  106583565  RS12050367  chr14_106583565_T_C_b38   IGHV4-61   \n",
      "994  rs28424072   55781463  RS28424072   chr16_55781463_G_A_b38     CES1P1   \n",
      "995  rs28424072   55781463  RS28424072   chr16_55781463_G_A_b38       CES1   \n",
      "996   rs7507261    9320829   RS7507261    chr19_9320829_G_C_b38     ZNF266   \n",
      "\n",
      "           pValue geneSymbolUpper datasetId tissueSiteDetailId  \\\n",
      "0    4.700320e-05            MUC1   gtex_v8             Spleen   \n",
      "1    2.187230e-05           THBS3   gtex_v8             Spleen   \n",
      "2    2.187230e-05           THBS3   gtex_v8             Spleen   \n",
      "3    2.187230e-05           THBS3   gtex_v8             Spleen   \n",
      "4    2.021200e-14           THBS3   gtex_v8             Spleen   \n",
      "..            ...             ...       ...                ...   \n",
      "992  2.510170e-10        IGHV3-53   gtex_v8             Spleen   \n",
      "993  5.287450e-06        IGHV4-61   gtex_v8             Spleen   \n",
      "994  1.707780e-08          CES1P1   gtex_v8             Spleen   \n",
      "995  1.303760e-05            CES1   gtex_v8             Spleen   \n",
      "996  3.583450e-45          ZNF266   gtex_v8             Spleen   \n",
      "\n",
      "         ontologyId chromosome           gencodeId       nes  \n",
      "0    UBERON:0002106       chr1  ENSG00000185499.16  0.245818  \n",
      "1    UBERON:0002106       chr1  ENSG00000169231.13  0.231875  \n",
      "2    UBERON:0002106       chr1  ENSG00000169231.13  0.231875  \n",
      "3    UBERON:0002106       chr1  ENSG00000169231.13  0.231875  \n",
      "4    UBERON:0002106       chr1  ENSG00000169231.13  0.412210  \n",
      "..              ...        ...                 ...       ...  \n",
      "992  UBERON:0002106      chr14   ENSG00000211967.3 -0.440147  \n",
      "993  UBERON:0002106      chr14   ENSG00000211970.3 -0.387107  \n",
      "994  UBERON:0002106      chr16  ENSG00000228695.10  1.009940  \n",
      "995  UBERON:0002106      chr16  ENSG00000198848.12  0.711139  \n",
      "996  UBERON:0002106      chr19  ENSG00000174652.17  0.897518  \n",
      "\n",
      "[997 rows x 13 columns]\n"
     ]
    }
   ],
   "source": [
    "\n",
    "# list to storedata\n",
    "all_data = []\n",
    "\n",
    "for i in range(0, 9):\n",
    "    params = {\n",
    "        'tissueSiteDetailId': 'Spleen',\n",
    "        'variantId': sublists[i],\n",
    "        'format': 'json',\n",
    "        'datasetId': 'gtex_v8',\n",
    "        'page': 0 }\n",
    "\n",
    "    while True:\n",
    "        gene_eqtls = requests.get(url='https://gtexportal.org/api/v2/association/singleTissueEqtl', params=params)\n",
    "    \n",
    "        if gene_eqtls.status_code == 200:\n",
    "            data = gene_eqtls.json()\n",
    "            all_data.extend(data['data'])  \n",
    "        \n",
    "            # Check pages\n",
    "            paging_info = data.get('paging_info')\n",
    "            number_of_pages = paging_info.get('numberOfPages') if paging_info else 0\n",
    "        \n",
    "            if number_of_pages > params['page']:\n",
    "                params['page'] += 1 \n",
    "                gene_eqtls = requests.get(url='https://gtexportal.org/api/v2/association/singleTissueEqtl', params=params)\n",
    "            else:\n",
    "                break  \n",
    "                \n",
    "        else:\n",
    "            break\n",
    "\n",
    "spleendf = pd.DataFrame(all_data)\n",
    "\n",
    "print(spleendf)\n",
    "spleendf.to_csv(\"10000variantids_adiposesubc.csv\")"
   ]
  },
  {
   "cell_type": "code",
   "execution_count": 41,
   "id": "08b46edc-3e2e-4b12-8807-6a4fd9586a3a",
   "metadata": {
    "tags": []
   },
   "outputs": [],
   "source": [
    "spleen_genenames = spleendf.drop_duplicates(subset=['geneSymbol'])\n",
    "spleen_genenames = spleen_genenames['geneSymbol'].tolist()"
   ]
  },
  {
   "cell_type": "code",
   "execution_count": 42,
   "id": "1eb8c180-d789-489f-b8c7-eb3786211fcf",
   "metadata": {
    "tags": []
   },
   "outputs": [
    {
     "data": {
      "text/plain": [
       "81"
      ]
     },
     "execution_count": 42,
     "metadata": {},
     "output_type": "execute_result"
    }
   ],
   "source": [
    "len(spleen_genenames)"
   ]
  },
  {
   "cell_type": "markdown",
   "id": "fef35c97-bb23-4ff2-931d-fab4d24575cb",
   "metadata": {
    "jp-MarkdownHeadingCollapsed": true,
    "tags": []
   },
   "source": [
    "## small intestine eqtls "
   ]
  },
  {
   "cell_type": "code",
   "execution_count": 43,
   "id": "9c97e8d0-d115-4df6-b440-324918fdcec1",
   "metadata": {
    "tags": []
   },
   "outputs": [
    {
     "name": "stdout",
     "output_type": "stream",
     "text": [
      "          snpId        pos  snpIdUpper                variantId geneSymbol  \\\n",
      "0    rs34815285  155121795  RS34815285   chr1_155121795_T_C_b38      THBS3   \n",
      "1    rs11264328  155122648  RS11264328   chr1_155122648_G_A_b38      THBS3   \n",
      "2    rs11264329  155122682  RS11264329   chr1_155122682_A_G_b38      THBS3   \n",
      "3    rs12040970  155122824  RS12040970   chr1_155122824_T_C_b38      THBS3   \n",
      "4     rs9330263  155123125   RS9330263   chr1_155123125_A_G_b38      THBS3   \n",
      "..          ...        ...         ...                      ...        ...   \n",
      "317  rs61999181  106453519  RS61999181  chr14_106453519_A_G_b38   IGHV3-43   \n",
      "318  rs61999182  106453544  RS61999182  chr14_106453544_C_A_b38   IGHV3-43   \n",
      "319  rs61999233  106458376  RS61999233  chr14_106458376_T_C_b38   IGHV3-43   \n",
      "320  rs17112734  106460095  RS17112734  chr14_106460095_A_G_b38   IGHV3-43   \n",
      "321  rs75760814  106462619  RS75760814  chr14_106462619_G_C_b38   IGHV3-43   \n",
      "\n",
      "       pValue geneSymbolUpper datasetId              tissueSiteDetailId  \\\n",
      "0    0.000003           THBS3   gtex_v8  Small_Intestine_Terminal_Ileum   \n",
      "1    0.000008           THBS3   gtex_v8  Small_Intestine_Terminal_Ileum   \n",
      "2    0.000003           THBS3   gtex_v8  Small_Intestine_Terminal_Ileum   \n",
      "3    0.000003           THBS3   gtex_v8  Small_Intestine_Terminal_Ileum   \n",
      "4    0.000003           THBS3   gtex_v8  Small_Intestine_Terminal_Ileum   \n",
      "..        ...             ...       ...                             ...   \n",
      "317  0.000013        IGHV3-43   gtex_v8  Small_Intestine_Terminal_Ileum   \n",
      "318  0.000013        IGHV3-43   gtex_v8  Small_Intestine_Terminal_Ileum   \n",
      "319  0.000013        IGHV3-43   gtex_v8  Small_Intestine_Terminal_Ileum   \n",
      "320  0.000013        IGHV3-43   gtex_v8  Small_Intestine_Terminal_Ileum   \n",
      "321  0.000013        IGHV3-43   gtex_v8  Small_Intestine_Terminal_Ileum   \n",
      "\n",
      "         ontologyId chromosome           gencodeId       nes  \n",
      "0    UBERON:0001211       chr1  ENSG00000169231.13  0.265667  \n",
      "1    UBERON:0001211       chr1  ENSG00000169231.13  0.256446  \n",
      "2    UBERON:0001211       chr1  ENSG00000169231.13  0.265667  \n",
      "3    UBERON:0001211       chr1  ENSG00000169231.13  0.265667  \n",
      "4    UBERON:0001211       chr1  ENSG00000169231.13  0.265667  \n",
      "..              ...        ...                 ...       ...  \n",
      "317  UBERON:0001211      chr14   ENSG00000232216.1  0.452938  \n",
      "318  UBERON:0001211      chr14   ENSG00000232216.1  0.452938  \n",
      "319  UBERON:0001211      chr14   ENSG00000232216.1  0.452938  \n",
      "320  UBERON:0001211      chr14   ENSG00000232216.1  0.452938  \n",
      "321  UBERON:0001211      chr14   ENSG00000232216.1  0.452938  \n",
      "\n",
      "[322 rows x 13 columns]\n"
     ]
    }
   ],
   "source": [
    "\n",
    "# list to storedata\n",
    "all_data = []\n",
    "\n",
    "for i in range(0, 9):\n",
    "    params = {\n",
    "        'tissueSiteDetailId': 'Small_Intestine_Terminal_Ileum',\n",
    "        'variantId': sublists[i],\n",
    "        'format': 'json',\n",
    "        'datasetId': 'gtex_v8',\n",
    "        'page': 0 }\n",
    "\n",
    "    while True:\n",
    "        gene_eqtls = requests.get(url='https://gtexportal.org/api/v2/association/singleTissueEqtl', params=params)\n",
    "    \n",
    "        if gene_eqtls.status_code == 200:\n",
    "            data = gene_eqtls.json()\n",
    "            all_data.extend(data['data'])  \n",
    "        \n",
    "            # Check pages\n",
    "            paging_info = data.get('paging_info')\n",
    "            number_of_pages = paging_info.get('numberOfPages') if paging_info else 0\n",
    "        \n",
    "            if number_of_pages > params['page']:\n",
    "                params['page'] += 1 \n",
    "                gene_eqtls = requests.get(url='https://gtexportal.org/api/v2/association/singleTissueEqtl', params=params)\n",
    "            else:\n",
    "                break  \n",
    "                \n",
    "        else:\n",
    "            break\n",
    "\n",
    "smallintestinedf = pd.DataFrame(all_data)\n",
    "\n",
    "print(smallintestinedf)\n",
    "smallintestinedf.to_csv(\"10000variantids_smallintestine.csv\")"
   ]
  },
  {
   "cell_type": "code",
   "execution_count": 44,
   "id": "a7741557-a2d1-41e4-8a59-860476c9ec9e",
   "metadata": {
    "tags": []
   },
   "outputs": [],
   "source": [
    "smallintestine_genenames = smallintestinedf.drop_duplicates(subset=['geneSymbol'])\n",
    "smallintestine_genenames = smallintestine_genenames['geneSymbol'].tolist()"
   ]
  },
  {
   "cell_type": "code",
   "execution_count": 45,
   "id": "f16428aa-c7cc-40fe-a6c0-51512859f8c0",
   "metadata": {
    "tags": []
   },
   "outputs": [
    {
     "data": {
      "text/plain": [
       "26"
      ]
     },
     "execution_count": 45,
     "metadata": {},
     "output_type": "execute_result"
    }
   ],
   "source": [
    "len(smallintestine_genenames)"
   ]
  },
  {
   "cell_type": "markdown",
   "id": "6127bb87-6a3b-4578-a23c-65dd450c1470",
   "metadata": {
    "jp-MarkdownHeadingCollapsed": true,
    "tags": []
   },
   "source": [
    "## Pancreas eqtls "
   ]
  },
  {
   "cell_type": "code",
   "execution_count": 46,
   "id": "2212335e-4caf-48a7-9238-3f053de371bd",
   "metadata": {
    "tags": []
   },
   "outputs": [
    {
     "name": "stdout",
     "output_type": "stream",
     "text": [
      "           snpId        pos  snpIdUpper               variantId geneSymbol  \\\n",
      "0      rs7366138  155115874   RS7366138  chr1_155115874_G_A_b38       MUC1   \n",
      "1     rs12145362  155121537  RS12145362  chr1_155121537_C_A_b38       MUC1   \n",
      "2     rs11807418  155122129  RS11807418  chr1_155122129_A_T_b38       MUC1   \n",
      "3     rs11264327  155122631  RS11264327  chr1_155122631_G_A_b38       MUC1   \n",
      "4      rs9330264  155123274   RS9330264  chr1_155123274_T_C_b38       MUC1   \n",
      "...          ...        ...         ...                     ...        ...   \n",
      "1499    rs180032   20776190    RS180032  chr16_20776190_C_A_b38      ACSM1   \n",
      "1500  rs28424072   55781463  RS28424072  chr16_55781463_G_A_b38       CES1   \n",
      "1501   rs7507261    9320829   RS7507261   chr19_9320829_G_C_b38     ZNF559   \n",
      "1502   rs7507261    9320829   RS7507261   chr19_9320829_G_C_b38     ZNF266   \n",
      "1503   rs7507261    9320829   RS7507261   chr19_9320829_G_C_b38     ZNF561   \n",
      "\n",
      "            pValue geneSymbolUpper datasetId tissueSiteDetailId  \\\n",
      "0     6.694060e-06            MUC1   gtex_v8           Pancreas   \n",
      "1     1.287770e-05            MUC1   gtex_v8           Pancreas   \n",
      "2     1.287770e-05            MUC1   gtex_v8           Pancreas   \n",
      "3     1.287770e-05            MUC1   gtex_v8           Pancreas   \n",
      "4     6.266340e-06            MUC1   gtex_v8           Pancreas   \n",
      "...            ...             ...       ...                ...   \n",
      "1499  5.498190e-07           ACSM1   gtex_v8           Pancreas   \n",
      "1500  3.026480e-05            CES1   gtex_v8           Pancreas   \n",
      "1501  2.018890e-05          ZNF559   gtex_v8           Pancreas   \n",
      "1502  1.299980e-56          ZNF266   gtex_v8           Pancreas   \n",
      "1503  6.515600e-06          ZNF561   gtex_v8           Pancreas   \n",
      "\n",
      "          ontologyId chromosome           gencodeId       nes  \n",
      "0     UBERON:0001150       chr1  ENSG00000185499.16  0.201555  \n",
      "1     UBERON:0001150       chr1  ENSG00000185499.16  0.197112  \n",
      "2     UBERON:0001150       chr1  ENSG00000185499.16  0.197112  \n",
      "3     UBERON:0001150       chr1  ENSG00000185499.16  0.197112  \n",
      "4     UBERON:0001150       chr1  ENSG00000185499.16  0.212114  \n",
      "...              ...        ...                 ...       ...  \n",
      "1499  UBERON:0001150      chr16   ENSG00000166743.9  0.711125  \n",
      "1500  UBERON:0001150      chr16  ENSG00000198848.12  0.504269  \n",
      "1501  UBERON:0001150      chr19  ENSG00000188321.13 -0.263473  \n",
      "1502  UBERON:0001150      chr19  ENSG00000174652.17  0.915311  \n",
      "1503  UBERON:0001150      chr19  ENSG00000171469.10  0.215811  \n",
      "\n",
      "[1504 rows x 13 columns]\n"
     ]
    }
   ],
   "source": [
    "\n",
    "# list to storedata\n",
    "all_data = []\n",
    "\n",
    "for i in range(0, 9):\n",
    "    params = {\n",
    "        'tissueSiteDetailId': 'Pancreas',\n",
    "        'variantId': sublists[i],\n",
    "        'format': 'json',\n",
    "        'datasetId': 'gtex_v8',\n",
    "        'page': 0 }\n",
    "\n",
    "    while True:\n",
    "        gene_eqtls = requests.get(url='https://gtexportal.org/api/v2/association/singleTissueEqtl', params=params)\n",
    "    \n",
    "        if gene_eqtls.status_code == 200:\n",
    "            data = gene_eqtls.json()\n",
    "            all_data.extend(data['data'])  \n",
    "        \n",
    "            # Check pages\n",
    "            paging_info = data.get('paging_info')\n",
    "            number_of_pages = paging_info.get('numberOfPages') if paging_info else 0\n",
    "        \n",
    "            if number_of_pages > params['page']:\n",
    "                params['page'] += 1 \n",
    "                gene_eqtls = requests.get(url='https://gtexportal.org/api/v2/association/singleTissueEqtl', params=params)\n",
    "            else:\n",
    "                break  \n",
    "                \n",
    "        else:\n",
    "            break\n",
    "\n",
    "pancreasdf = pd.DataFrame(all_data)\n",
    "\n",
    "print(pancreasdf)\n",
    "pancreasdf.to_csv(\"10000variantids_pancreas.csv\")"
   ]
  },
  {
   "cell_type": "code",
   "execution_count": 47,
   "id": "205b1336-2c2f-46ac-b9c1-8b9bd7d93281",
   "metadata": {
    "tags": []
   },
   "outputs": [],
   "source": [
    "pancreas_genenames = pancreasdf.drop_duplicates(subset=['geneSymbol'])\n",
    "pancreas_genenames = pancreas_genenames['geneSymbol'].tolist()"
   ]
  },
  {
   "cell_type": "code",
   "execution_count": 48,
   "id": "7da9b471-c298-4f36-8ae2-6ec72a8baaf2",
   "metadata": {
    "tags": []
   },
   "outputs": [
    {
     "data": {
      "text/plain": [
       "85"
      ]
     },
     "execution_count": 48,
     "metadata": {},
     "output_type": "execute_result"
    }
   ],
   "source": [
    "len(pancreas_genenames)"
   ]
  },
  {
   "cell_type": "markdown",
   "id": "74724d77-0141-48be-b91f-8dc3f70df0df",
   "metadata": {
    "jp-MarkdownHeadingCollapsed": true,
    "tags": []
   },
   "source": [
    "## Muscle skeletal eqtls "
   ]
  },
  {
   "cell_type": "code",
   "execution_count": 49,
   "id": "a61b35d2-bcf2-4cc7-8cff-d142995bfb28",
   "metadata": {
    "tags": []
   },
   "outputs": [
    {
     "name": "stdout",
     "output_type": "stream",
     "text": [
      "           snpId        pos  snpIdUpper               variantId  \\\n",
      "0      rs7366138  155115874   RS7366138  chr1_155115874_G_A_b38   \n",
      "1     rs12145362  155121537  RS12145362  chr1_155121537_C_A_b38   \n",
      "2     rs11807418  155122129  RS11807418  chr1_155122129_A_T_b38   \n",
      "3     rs11264327  155122631  RS11264327  chr1_155122631_G_A_b38   \n",
      "4      rs9330264  155123274   RS9330264  chr1_155123274_T_C_b38   \n",
      "...          ...        ...         ...                     ...   \n",
      "2069   rs7507261    9320829   RS7507261   chr19_9320829_G_C_b38   \n",
      "2070   rs7507261    9320829   RS7507261   chr19_9320829_G_C_b38   \n",
      "2071   rs7507261    9320829   RS7507261   chr19_9320829_G_C_b38   \n",
      "2072   rs7507261    9320829   RS7507261   chr19_9320829_G_C_b38   \n",
      "2073   rs6032678   46148656   RS6032678  chr20_46148656_C_T_b38   \n",
      "\n",
      "         geneSymbol         pValue geneSymbolUpper datasetId  \\\n",
      "0     RP11-263K19.4   1.242880e-05   RP11-263K19.4   gtex_v8   \n",
      "1     RP11-263K19.4   5.101850e-05   RP11-263K19.4   gtex_v8   \n",
      "2     RP11-263K19.4   5.101850e-05   RP11-263K19.4   gtex_v8   \n",
      "3     RP11-263K19.4   6.188240e-05   RP11-263K19.4   gtex_v8   \n",
      "4     RP11-263K19.4   5.289560e-06   RP11-263K19.4   gtex_v8   \n",
      "...             ...            ...             ...       ...   \n",
      "2069         ZNF317   5.333230e-05          ZNF317   gtex_v8   \n",
      "2070         ZNF559   4.160560e-10          ZNF559   gtex_v8   \n",
      "2071         ZNF266  8.939480e-119          ZNF266   gtex_v8   \n",
      "2072   CTC-543D15.8   2.222840e-06    CTC-543D15.8   gtex_v8   \n",
      "2073           PLTP   2.298830e-05            PLTP   gtex_v8   \n",
      "\n",
      "     tissueSiteDetailId      ontologyId chromosome           gencodeId  \\\n",
      "0       Muscle_Skeletal  UBERON:0011907       chr1   ENSG00000231064.7   \n",
      "1       Muscle_Skeletal  UBERON:0011907       chr1   ENSG00000231064.7   \n",
      "2       Muscle_Skeletal  UBERON:0011907       chr1   ENSG00000231064.7   \n",
      "3       Muscle_Skeletal  UBERON:0011907       chr1   ENSG00000231064.7   \n",
      "4       Muscle_Skeletal  UBERON:0011907       chr1   ENSG00000231064.7   \n",
      "...                 ...             ...        ...                 ...   \n",
      "2069    Muscle_Skeletal  UBERON:0011907      chr19  ENSG00000130803.14   \n",
      "2070    Muscle_Skeletal  UBERON:0011907      chr19  ENSG00000188321.13   \n",
      "2071    Muscle_Skeletal  UBERON:0011907      chr19  ENSG00000174652.17   \n",
      "2072    Muscle_Skeletal  UBERON:0011907      chr19   ENSG00000278611.1   \n",
      "2073    Muscle_Skeletal  UBERON:0011907      chr20  ENSG00000100979.14   \n",
      "\n",
      "           nes  \n",
      "0     0.156288  \n",
      "1     0.145737  \n",
      "2     0.145737  \n",
      "3     0.144353  \n",
      "4     0.171693  \n",
      "...        ...  \n",
      "2069  0.080665  \n",
      "2070 -0.185742  \n",
      "2071  0.760264  \n",
      "2072 -0.174900  \n",
      "2073 -0.102468  \n",
      "\n",
      "[2074 rows x 13 columns]\n"
     ]
    }
   ],
   "source": [
    "\n",
    "# list to storedata\n",
    "all_data = []\n",
    "\n",
    "for i in range(0, 9):\n",
    "    params = {\n",
    "        'tissueSiteDetailId': 'Muscle_Skeletal',\n",
    "        'variantId': sublists[i],\n",
    "        'format': 'json',\n",
    "        'datasetId': 'gtex_v8',\n",
    "        'page': 0 }\n",
    "\n",
    "    while True:\n",
    "        gene_eqtls = requests.get(url='https://gtexportal.org/api/v2/association/singleTissueEqtl', params=params)\n",
    "    \n",
    "        if gene_eqtls.status_code == 200:\n",
    "            data = gene_eqtls.json()\n",
    "            all_data.extend(data['data'])  \n",
    "        \n",
    "            # Check pages\n",
    "            paging_info = data.get('paging_info')\n",
    "            number_of_pages = paging_info.get('numberOfPages') if paging_info else 0\n",
    "        \n",
    "            if number_of_pages > params['page']:\n",
    "                params['page'] += 1 \n",
    "                gene_eqtls = requests.get(url='https://gtexportal.org/api/v2/association/singleTissueEqtl', params=params)\n",
    "            else:\n",
    "                break  \n",
    "                \n",
    "        else:\n",
    "            break\n",
    "\n",
    "muscledf = pd.DataFrame(all_data)\n",
    "\n",
    "print(muscledf)\n",
    "muscledf.to_csv(\"10000variantids_adiposesubc.csv\")"
   ]
  },
  {
   "cell_type": "code",
   "execution_count": 50,
   "id": "ebb35589-253d-4938-99c7-803da04b9f16",
   "metadata": {
    "tags": []
   },
   "outputs": [],
   "source": [
    "muscle_genenames = muscledf.drop_duplicates(subset=['geneSymbol'])\n",
    "muscle_genenames = muscle_genenames['geneSymbol'].tolist()"
   ]
  },
  {
   "cell_type": "code",
   "execution_count": 51,
   "id": "02e4ca53-e8d4-4a28-a1c7-ebccbc88493d",
   "metadata": {
    "tags": []
   },
   "outputs": [
    {
     "data": {
      "text/plain": [
       "148"
      ]
     },
     "execution_count": 51,
     "metadata": {},
     "output_type": "execute_result"
    }
   ],
   "source": [
    "len(muscle_genenames)"
   ]
  },
  {
   "cell_type": "markdown",
   "id": "682ed4a5-1c65-46fd-a922-eec7b0788d20",
   "metadata": {
    "jp-MarkdownHeadingCollapsed": true,
    "tags": []
   },
   "source": [
    "## salivary gland eqtls "
   ]
  },
  {
   "cell_type": "code",
   "execution_count": 52,
   "id": "93e136c1-2c56-41fa-bfe8-884ac44f7ccb",
   "metadata": {
    "tags": []
   },
   "outputs": [
    {
     "name": "stdout",
     "output_type": "stream",
     "text": [
      "           snpId        pos   snpIdUpper                variantId geneSymbol  \\\n",
      "0     rs34815285  155121795   RS34815285   chr1_155121795_T_C_b38      THBS3   \n",
      "1     rs11264328  155122648   RS11264328   chr1_155122648_G_A_b38      THBS3   \n",
      "2     rs11264329  155122682   RS11264329   chr1_155122682_A_G_b38      THBS3   \n",
      "3     rs12040970  155122824   RS12040970   chr1_155122824_T_C_b38      THBS3   \n",
      "4      rs9330263  155123125    RS9330263   chr1_155123125_A_G_b38      THBS3   \n",
      "..           ...        ...          ...                      ...        ...   \n",
      "251  rs150669377  105166045  RS150669377  chr11_105166045_T_C_b38    CASP1P2   \n",
      "252   rs12050367  106583565   RS12050367  chr14_106583565_T_C_b38   IGHV3-53   \n",
      "253   rs12050367  106583565   RS12050367  chr14_106583565_T_C_b38   IGHV4-59   \n",
      "254   rs28424072   55781463   RS28424072   chr16_55781463_G_A_b38     CES1P1   \n",
      "255    rs7507261    9320829    RS7507261    chr19_9320829_G_C_b38     ZNF266   \n",
      "\n",
      "           pValue geneSymbolUpper datasetId    tissueSiteDetailId  \\\n",
      "0    1.491740e-05           THBS3   gtex_v8  Minor_Salivary_Gland   \n",
      "1    1.983090e-05           THBS3   gtex_v8  Minor_Salivary_Gland   \n",
      "2    1.522230e-05           THBS3   gtex_v8  Minor_Salivary_Gland   \n",
      "3    1.522230e-05           THBS3   gtex_v8  Minor_Salivary_Gland   \n",
      "4    1.522230e-05           THBS3   gtex_v8  Minor_Salivary_Gland   \n",
      "..            ...             ...       ...                   ...   \n",
      "251  1.156710e-05         CASP1P2   gtex_v8  Minor_Salivary_Gland   \n",
      "252  1.568340e-05        IGHV3-53   gtex_v8  Minor_Salivary_Gland   \n",
      "253  3.521060e-06        IGHV4-59   gtex_v8  Minor_Salivary_Gland   \n",
      "254  5.289440e-08          CES1P1   gtex_v8  Minor_Salivary_Gland   \n",
      "255  1.718910e-19          ZNF266   gtex_v8  Minor_Salivary_Gland   \n",
      "\n",
      "         ontologyId chromosome           gencodeId       nes  \n",
      "0    UBERON:0006330       chr1  ENSG00000169231.13  0.340405  \n",
      "1    UBERON:0006330       chr1  ENSG00000169231.13  0.338038  \n",
      "2    UBERON:0006330       chr1  ENSG00000169231.13  0.343775  \n",
      "3    UBERON:0006330       chr1  ENSG00000169231.13  0.343775  \n",
      "4    UBERON:0006330       chr1  ENSG00000169231.13  0.343775  \n",
      "..              ...        ...                 ...       ...  \n",
      "251  UBERON:0006330      chr11   ENSG00000254750.1 -1.765050  \n",
      "252  UBERON:0006330      chr14   ENSG00000211967.3 -0.315599  \n",
      "253  UBERON:0006330      chr14   ENSG00000224373.3  0.318317  \n",
      "254  UBERON:0006330      chr16  ENSG00000228695.10  0.867225  \n",
      "255  UBERON:0006330      chr19  ENSG00000174652.17  0.921328  \n",
      "\n",
      "[256 rows x 13 columns]\n"
     ]
    }
   ],
   "source": [
    "\n",
    "# list to storedata\n",
    "all_data = []\n",
    "\n",
    "for i in range(0, 9):\n",
    "    params = {\n",
    "        'tissueSiteDetailId': 'Minor_Salivary_Gland',\n",
    "        'variantId': sublists[i],\n",
    "        'format': 'json',\n",
    "        'datasetId': 'gtex_v8',\n",
    "        'page': 0 }\n",
    "\n",
    "    while True:\n",
    "        gene_eqtls = requests.get(url='https://gtexportal.org/api/v2/association/singleTissueEqtl', params=params)\n",
    "    \n",
    "        if gene_eqtls.status_code == 200:\n",
    "            data = gene_eqtls.json()\n",
    "            all_data.extend(data['data'])  \n",
    "        \n",
    "            # Check pages\n",
    "            paging_info = data.get('paging_info')\n",
    "            number_of_pages = paging_info.get('numberOfPages') if paging_info else 0\n",
    "        \n",
    "            if number_of_pages > params['page']:\n",
    "                params['page'] += 1 \n",
    "                gene_eqtls = requests.get(url='https://gtexportal.org/api/v2/association/singleTissueEqtl', params=params)\n",
    "            else:\n",
    "                break  \n",
    "                \n",
    "        else:\n",
    "            break\n",
    "\n",
    "salivarydf = pd.DataFrame(all_data)\n",
    "\n",
    "print(salivarydf)\n",
    "salivarydf.to_csv(\"10000variantids_salivary.csv\")"
   ]
  },
  {
   "cell_type": "code",
   "execution_count": 53,
   "id": "39c087b2-258f-4301-92c3-95a8cb8f7dcd",
   "metadata": {
    "tags": []
   },
   "outputs": [],
   "source": [
    "salivary_genenames = salivarydf.drop_duplicates(subset=['geneSymbol'])\n",
    "salivary_genenames = salivary_genenames['geneSymbol'].tolist()"
   ]
  },
  {
   "cell_type": "code",
   "execution_count": 54,
   "id": "6d5dad9b-b7a3-4ad5-851b-c64cc303c7f8",
   "metadata": {
    "tags": []
   },
   "outputs": [
    {
     "data": {
      "text/plain": [
       "28"
      ]
     },
     "execution_count": 54,
     "metadata": {},
     "output_type": "execute_result"
    }
   ],
   "source": [
    "len(salivary_genenames)"
   ]
  },
  {
   "cell_type": "markdown",
   "id": "ed7efebc-d385-4466-ac86-4b78ce32c10d",
   "metadata": {
    "jp-MarkdownHeadingCollapsed": true,
    "tags": []
   },
   "source": [
    "## lung eqtls "
   ]
  },
  {
   "cell_type": "code",
   "execution_count": 55,
   "id": "346ff729-9513-438d-8e13-001a1652b365",
   "metadata": {
    "tags": []
   },
   "outputs": [
    {
     "name": "stdout",
     "output_type": "stream",
     "text": [
      "            snpId        pos   snpIdUpper               variantId  \\\n",
      "0       rs7366138  155115874    RS7366138  chr1_155115874_G_A_b38   \n",
      "1      rs12145362  155121537   RS12145362  chr1_155121537_C_A_b38   \n",
      "2      rs11807418  155122129   RS11807418  chr1_155122129_A_T_b38   \n",
      "3      rs11264327  155122631   RS11264327  chr1_155122631_G_A_b38   \n",
      "4          rs9297  155134074       RS9297  chr1_155134074_A_G_b38   \n",
      "...           ...        ...          ...                     ...   \n",
      "2332  rs117084017   19561547  RS117084017  chr19_19561547_G_A_b38   \n",
      "2333  rs146728316   47595301  RS146728316  chr19_47595301_C_T_b38   \n",
      "2334    rs6032678   46148656    RS6032678  chr20_46148656_C_T_b38   \n",
      "2335   rs35310815   62481113   RS35310815  chr20_62481113_A_G_b38   \n",
      "2336    rs6142777   62483744    RS6142777  chr20_62483744_T_C_b38   \n",
      "\n",
      "        geneSymbol        pValue geneSymbolUpper datasetId tissueSiteDetailId  \\\n",
      "0            EFNA1  4.241260e-07           EFNA1   gtex_v8               Lung   \n",
      "1            EFNA1  1.182780e-07           EFNA1   gtex_v8               Lung   \n",
      "2            EFNA1  1.182780e-07           EFNA1   gtex_v8               Lung   \n",
      "3            EFNA1  1.182780e-07           EFNA1   gtex_v8               Lung   \n",
      "4            EFNA1  2.323970e-08           EFNA1   gtex_v8               Lung   \n",
      "...            ...           ...             ...       ...                ...   \n",
      "2332     LINC00663  7.462690e-05       LINC00663   gtex_v8               Lung   \n",
      "2333  RP11-43N16.4  2.411550e-06    RP11-43N16.4   gtex_v8               Lung   \n",
      "2334          CD40  6.584570e-07            CD40   gtex_v8               Lung   \n",
      "2335         GATA5  2.372550e-10           GATA5   gtex_v8               Lung   \n",
      "2336         GATA5  2.359450e-08           GATA5   gtex_v8               Lung   \n",
      "\n",
      "          ontologyId chromosome           gencodeId       nes  \n",
      "0     UBERON:0008952       chr1  ENSG00000169242.11 -0.152035  \n",
      "1     UBERON:0008952       chr1  ENSG00000169242.11 -0.159163  \n",
      "2     UBERON:0008952       chr1  ENSG00000169242.11 -0.159163  \n",
      "3     UBERON:0008952       chr1  ENSG00000169242.11 -0.159163  \n",
      "4     UBERON:0008952       chr1  ENSG00000169242.11 -0.169580  \n",
      "...              ...        ...                 ...       ...  \n",
      "2332  UBERON:0008952      chr19   ENSG00000266904.5 -0.560888  \n",
      "2333  UBERON:0008952      chr19   ENSG00000279861.1  0.554125  \n",
      "2334  UBERON:0008952      chr20  ENSG00000101017.13  0.143178  \n",
      "2335  UBERON:0008952      chr20   ENSG00000130700.6  0.353304  \n",
      "2336  UBERON:0008952      chr20   ENSG00000130700.6  0.287515  \n",
      "\n",
      "[2337 rows x 13 columns]\n"
     ]
    }
   ],
   "source": [
    "\n",
    "# list to storedata\n",
    "all_data = []\n",
    "\n",
    "for i in range(0, 9):\n",
    "    params = {\n",
    "        'tissueSiteDetailId': 'Lung',\n",
    "        'variantId': sublists[i],\n",
    "        'format': 'json',\n",
    "        'datasetId': 'gtex_v8',\n",
    "        'page': 0 }\n",
    "\n",
    "    while True:\n",
    "        gene_eqtls = requests.get(url='https://gtexportal.org/api/v2/association/singleTissueEqtl', params=params)\n",
    "    \n",
    "        if gene_eqtls.status_code == 200:\n",
    "            data = gene_eqtls.json()\n",
    "            all_data.extend(data['data'])  \n",
    "        \n",
    "            # Check pages\n",
    "            paging_info = data.get('paging_info')\n",
    "            number_of_pages = paging_info.get('numberOfPages') if paging_info else 0\n",
    "        \n",
    "            if number_of_pages > params['page']:\n",
    "                params['page'] += 1 \n",
    "                gene_eqtls = requests.get(url='https://gtexportal.org/api/v2/association/singleTissueEqtl', params=params)\n",
    "            else:\n",
    "                break  \n",
    "                \n",
    "        else:\n",
    "            break\n",
    "\n",
    "lungdf = pd.DataFrame(all_data)\n",
    "\n",
    "print(lungdf)\n",
    "lungdf.to_csv(\"10000variantids_lungdf.csv\")"
   ]
  },
  {
   "cell_type": "code",
   "execution_count": 56,
   "id": "9530e3a6-2d06-492f-8d78-2e7172f739b1",
   "metadata": {
    "tags": []
   },
   "outputs": [],
   "source": [
    "lung_genenames = lungdf.drop_duplicates(subset=['geneSymbol'])\n",
    "lung_genenames = lung_genenames['geneSymbol'].tolist()"
   ]
  },
  {
   "cell_type": "code",
   "execution_count": 57,
   "id": "c984673a-b265-4f8d-bf66-1784f798baf9",
   "metadata": {
    "tags": []
   },
   "outputs": [
    {
     "data": {
      "text/plain": [
       "164"
      ]
     },
     "execution_count": 57,
     "metadata": {},
     "output_type": "execute_result"
    }
   ],
   "source": [
    "len(lung_genenames)"
   ]
  },
  {
   "cell_type": "markdown",
   "id": "853230ea-983e-48c7-8304-aec4b1887a2b",
   "metadata": {
    "jp-MarkdownHeadingCollapsed": true,
    "tags": []
   },
   "source": [
    "## Liver eqtls "
   ]
  },
  {
   "cell_type": "code",
   "execution_count": 58,
   "id": "40766906-ba66-482e-865d-dceec556ddd5",
   "metadata": {
    "tags": []
   },
   "outputs": [
    {
     "name": "stdout",
     "output_type": "stream",
     "text": [
      "          snpId        pos  snpIdUpper               variantId geneSymbol  \\\n",
      "0     rs6676150  155151361   RS6676150  chr1_155151361_G_C_b38      THBS3   \n",
      "1     rs4072037  155192276   RS4072037  chr1_155192276_C_T_b38      THBS3   \n",
      "2    rs12411216  155194689  RS12411216  chr1_155194689_A_C_b38      THBS3   \n",
      "3     rs2974937  155199058   RS2974937  chr1_155199058_C_T_b38      THBS3   \n",
      "4     rs2066981  155202588   RS2066981  chr1_155202588_A_G_b38      THBS3   \n",
      "..          ...        ...         ...                     ...        ...   \n",
      "846   rs7507261    9320829   RS7507261   chr19_9320829_G_C_b38     ZNF266   \n",
      "847  rs79027020   62770728  RS79027020  chr20_62770728_C_A_b38      NTSR1   \n",
      "848  rs11697881   62774080  RS11697881  chr20_62774080_T_A_b38      NTSR1   \n",
      "849  rs79027020   62770728  RS79027020  chr20_62770728_C_A_b38  LINC00659   \n",
      "850  rs11697881   62774080  RS11697881  chr20_62774080_T_A_b38  LINC00659   \n",
      "\n",
      "           pValue geneSymbolUpper datasetId tissueSiteDetailId  \\\n",
      "0    9.444700e-07           THBS3   gtex_v8              Liver   \n",
      "1    2.081270e-06           THBS3   gtex_v8              Liver   \n",
      "2    2.894650e-05           THBS3   gtex_v8              Liver   \n",
      "3    2.081270e-06           THBS3   gtex_v8              Liver   \n",
      "4    1.333120e-06           THBS3   gtex_v8              Liver   \n",
      "..            ...             ...       ...                ...   \n",
      "846  1.148140e-31          ZNF266   gtex_v8              Liver   \n",
      "847  8.241160e-08           NTSR1   gtex_v8              Liver   \n",
      "848  8.241160e-08           NTSR1   gtex_v8              Liver   \n",
      "849  6.722830e-08       LINC00659   gtex_v8              Liver   \n",
      "850  6.722830e-08       LINC00659   gtex_v8              Liver   \n",
      "\n",
      "         ontologyId chromosome           gencodeId       nes  \n",
      "0    UBERON:0001114       chr1  ENSG00000169231.13 -0.212615  \n",
      "1    UBERON:0001114       chr1  ENSG00000169231.13  0.182710  \n",
      "2    UBERON:0001114       chr1  ENSG00000169231.13  0.163030  \n",
      "3    UBERON:0001114       chr1  ENSG00000169231.13  0.182710  \n",
      "4    UBERON:0001114       chr1  ENSG00000169231.13 -0.182915  \n",
      "..              ...        ...                 ...       ...  \n",
      "846  UBERON:0001114      chr19  ENSG00000174652.17  0.781957  \n",
      "847  UBERON:0001114      chr20   ENSG00000101188.4 -0.699339  \n",
      "848  UBERON:0001114      chr20   ENSG00000101188.4 -0.699339  \n",
      "849  UBERON:0001114      chr20   ENSG00000228705.1 -0.613014  \n",
      "850  UBERON:0001114      chr20   ENSG00000228705.1 -0.613014  \n",
      "\n",
      "[851 rows x 13 columns]\n"
     ]
    }
   ],
   "source": [
    "\n",
    "# list to storedata\n",
    "all_data = []\n",
    "\n",
    "for i in range(0, 9):\n",
    "    params = {\n",
    "        'tissueSiteDetailId': 'Liver',\n",
    "        'variantId': sublists[i],\n",
    "        'format': 'json',\n",
    "        'datasetId': 'gtex_v8',\n",
    "        'page': 0 }\n",
    "\n",
    "    while True:\n",
    "        gene_eqtls = requests.get(url='https://gtexportal.org/api/v2/association/singleTissueEqtl', params=params)\n",
    "    \n",
    "        if gene_eqtls.status_code == 200:\n",
    "            data = gene_eqtls.json()\n",
    "            all_data.extend(data['data'])  \n",
    "        \n",
    "            # Check pages\n",
    "            paging_info = data.get('paging_info')\n",
    "            number_of_pages = paging_info.get('numberOfPages') if paging_info else 0\n",
    "        \n",
    "            if number_of_pages > params['page']:\n",
    "                params['page'] += 1 \n",
    "                gene_eqtls = requests.get(url='https://gtexportal.org/api/v2/association/singleTissueEqtl', params=params)\n",
    "            else:\n",
    "                break  \n",
    "                \n",
    "        else:\n",
    "            break\n",
    "\n",
    "liverdf = pd.DataFrame(all_data)\n",
    "\n",
    "print(liverdf)\n",
    "liverdf.to_csv(\"10000variantids_liver.csv\")"
   ]
  },
  {
   "cell_type": "code",
   "execution_count": 59,
   "id": "0be0aedf-3130-4f83-8026-d38e5fdf12d3",
   "metadata": {
    "tags": []
   },
   "outputs": [],
   "source": [
    "liver_genenames = liverdf.drop_duplicates(subset=['geneSymbol'])\n",
    "liver_genenames = liver_genenames['geneSymbol'].tolist()"
   ]
  },
  {
   "cell_type": "code",
   "execution_count": 60,
   "id": "26235347-b245-4001-a336-d8fd18e34b3d",
   "metadata": {
    "tags": []
   },
   "outputs": [
    {
     "data": {
      "text/plain": [
       "39"
      ]
     },
     "execution_count": 60,
     "metadata": {},
     "output_type": "execute_result"
    }
   ],
   "source": [
    "len(liver_genenames)"
   ]
  },
  {
   "cell_type": "markdown",
   "id": "4a2509c4-415f-4a56-9659-2d61c649dc4e",
   "metadata": {
    "jp-MarkdownHeadingCollapsed": true,
    "tags": []
   },
   "source": [
    "## kidney cortex eqtls "
   ]
  },
  {
   "cell_type": "code",
   "execution_count": 61,
   "id": "ca3d9ede-0813-4d6e-95b6-205d10dffe46",
   "metadata": {
    "tags": []
   },
   "outputs": [
    {
     "name": "stdout",
     "output_type": "stream",
     "text": [
      "        snpId      pos  snpIdUpper              variantId geneSymbol  \\\n",
      "0   rs8100139  9344233   RS8100139  chr19_9344233_C_T_b38     ZNF266   \n",
      "1   rs7247274  9356170   RS7247274  chr19_9356170_G_C_b38     ZNF266   \n",
      "2   rs2335939  9424114   RS2335939  chr19_9424114_T_C_b38     ZNF266   \n",
      "3   rs7252370  9426515   RS7252370  chr19_9426515_G_C_b38     ZNF266   \n",
      "4   rs7252865  9301859   RS7252865  chr19_9301859_C_T_b38     ZNF266   \n",
      "5  rs62104842  9351290  RS62104842  chr19_9351290_C_T_b38     ZNF266   \n",
      "6   rs7507261  9320829   RS7507261  chr19_9320829_G_C_b38     ZNF266   \n",
      "\n",
      "         pValue geneSymbolUpper datasetId tissueSiteDetailId      ontologyId  \\\n",
      "0  2.189560e-16          ZNF266   gtex_v8      Kidney_Cortex  UBERON:0001225   \n",
      "1  2.189560e-16          ZNF266   gtex_v8      Kidney_Cortex  UBERON:0001225   \n",
      "2  8.979750e-21          ZNF266   gtex_v8      Kidney_Cortex  UBERON:0001225   \n",
      "3  3.513200e-20          ZNF266   gtex_v8      Kidney_Cortex  UBERON:0001225   \n",
      "4  5.801410e-16          ZNF266   gtex_v8      Kidney_Cortex  UBERON:0001225   \n",
      "5  1.124000e-19          ZNF266   gtex_v8      Kidney_Cortex  UBERON:0001225   \n",
      "6  9.040660e-11          ZNF266   gtex_v8      Kidney_Cortex  UBERON:0001225   \n",
      "\n",
      "  chromosome           gencodeId       nes  \n",
      "0      chr19  ENSG00000174652.17  0.903686  \n",
      "1      chr19  ENSG00000174652.17  0.903686  \n",
      "2      chr19  ENSG00000174652.17  0.909838  \n",
      "3      chr19  ENSG00000174652.17  0.916237  \n",
      "4      chr19  ENSG00000174652.17  0.938580  \n",
      "5      chr19  ENSG00000174652.17  0.913557  \n",
      "6      chr19  ENSG00000174652.17  0.923995  \n"
     ]
    }
   ],
   "source": [
    "\n",
    "# list to storedata\n",
    "all_data = []\n",
    "\n",
    "for i in range(0, 9):\n",
    "    params = {\n",
    "        'tissueSiteDetailId': 'Kidney_Cortex',\n",
    "        'variantId': sublists[i],\n",
    "        'format': 'json',\n",
    "        'datasetId': 'gtex_v8',\n",
    "        'page': 0 }\n",
    "\n",
    "    while True:\n",
    "        gene_eqtls = requests.get(url='https://gtexportal.org/api/v2/association/singleTissueEqtl', params=params)\n",
    "    \n",
    "        if gene_eqtls.status_code == 200:\n",
    "            data = gene_eqtls.json()\n",
    "            all_data.extend(data['data'])  \n",
    "        \n",
    "            # Check pages\n",
    "            paging_info = data.get('paging_info')\n",
    "            number_of_pages = paging_info.get('numberOfPages') if paging_info else 0\n",
    "        \n",
    "            if number_of_pages > params['page']:\n",
    "                params['page'] += 1 \n",
    "                gene_eqtls = requests.get(url='https://gtexportal.org/api/v2/association/singleTissueEqtl', params=params)\n",
    "            else:\n",
    "                break  \n",
    "                \n",
    "        else:\n",
    "            break\n",
    "\n",
    "kidneydf = pd.DataFrame(all_data)\n",
    "\n",
    "print(kidneydf)\n",
    "kidneydf.to_csv(\"10000variantids_kidney.csv\")"
   ]
  },
  {
   "cell_type": "code",
   "execution_count": 62,
   "id": "b23bca01-9ef1-4f5d-a027-565561d32858",
   "metadata": {
    "tags": []
   },
   "outputs": [],
   "source": [
    "kidney_genenames = kidneydf.drop_duplicates(subset=['geneSymbol'])\n",
    "kidney_genenames = kidney_genenames['geneSymbol'].tolist()"
   ]
  },
  {
   "cell_type": "code",
   "execution_count": 63,
   "id": "e15fed81-9d8a-4b86-925e-9f2df61963c8",
   "metadata": {
    "tags": []
   },
   "outputs": [
    {
     "data": {
      "text/plain": [
       "1"
      ]
     },
     "execution_count": 63,
     "metadata": {},
     "output_type": "execute_result"
    }
   ],
   "source": [
    "len(kidney_genenames)"
   ]
  },
  {
   "cell_type": "markdown",
   "id": "152e6ac3-4c8b-483c-b0f7-a45152ca5840",
   "metadata": {
    "jp-MarkdownHeadingCollapsed": true,
    "tags": []
   },
   "source": [
    "## Heart_Left_Ventricle eqtls "
   ]
  },
  {
   "cell_type": "code",
   "execution_count": 64,
   "id": "9c3d464a-28a8-4315-bf4b-6eeaf35f5ee0",
   "metadata": {
    "tags": []
   },
   "outputs": [
    {
     "name": "stdout",
     "output_type": "stream",
     "text": [
      "            snpId       pos   snpIdUpper               variantId  \\\n",
      "0       rs1146626  75782330    RS1146626   chr1_75782330_G_A_b38   \n",
      "1     rs113521086  75898558  RS113521086   chr1_75898558_G_T_b38   \n",
      "2       rs1845277  75906861    RS1845277   chr1_75906861_T_C_b38   \n",
      "3       rs1021464  75909730    RS1021464   chr1_75909730_G_A_b38   \n",
      "4     rs113521086  75898558  RS113521086   chr1_75898558_G_T_b38   \n",
      "...           ...       ...          ...                     ...   \n",
      "1682    rs7507261   9320829    RS7507261   chr19_9320829_G_C_b38   \n",
      "1683    rs7507261   9320829    RS7507261   chr19_9320829_G_C_b38   \n",
      "1684    rs7507261   9320829    RS7507261   chr19_9320829_G_C_b38   \n",
      "1685  rs146728316  47595301  RS146728316  chr19_47595301_C_T_b38   \n",
      "1686    rs6032678  46148656    RS6032678  chr20_46148656_C_T_b38   \n",
      "\n",
      "        geneSymbol        pValue geneSymbolUpper datasetId  \\\n",
      "0            ACADM  8.344750e-05           ACADM   gtex_v8   \n",
      "1            ACADM  2.393000e-09           ACADM   gtex_v8   \n",
      "2            ACADM  2.210840e-09           ACADM   gtex_v8   \n",
      "3            ACADM  2.393000e-09           ACADM   gtex_v8   \n",
      "4           DLSTP1  5.891210e-06          DLSTP1   gtex_v8   \n",
      "...            ...           ...             ...       ...   \n",
      "1682        ZNF266  2.273390e-63          ZNF266   gtex_v8   \n",
      "1683  CTC-543D15.8  4.217250e-08    CTC-543D15.8   gtex_v8   \n",
      "1684        ZNF561  5.556220e-06          ZNF561   gtex_v8   \n",
      "1685  RP11-43N16.4  3.535310e-05    RP11-43N16.4   gtex_v8   \n",
      "1686          CD40  1.349750e-06            CD40   gtex_v8   \n",
      "\n",
      "        tissueSiteDetailId      ontologyId chromosome           gencodeId  \\\n",
      "0     Heart_Left_Ventricle  UBERON:0006566       chr1  ENSG00000117054.13   \n",
      "1     Heart_Left_Ventricle  UBERON:0006566       chr1  ENSG00000117054.13   \n",
      "2     Heart_Left_Ventricle  UBERON:0006566       chr1  ENSG00000117054.13   \n",
      "3     Heart_Left_Ventricle  UBERON:0006566       chr1  ENSG00000117054.13   \n",
      "4     Heart_Left_Ventricle  UBERON:0006566       chr1   ENSG00000181227.3   \n",
      "...                    ...             ...        ...                 ...   \n",
      "1682  Heart_Left_Ventricle  UBERON:0006566      chr19  ENSG00000174652.17   \n",
      "1683  Heart_Left_Ventricle  UBERON:0006566      chr19   ENSG00000278611.1   \n",
      "1684  Heart_Left_Ventricle  UBERON:0006566      chr19  ENSG00000171469.10   \n",
      "1685  Heart_Left_Ventricle  UBERON:0006566      chr19   ENSG00000279861.1   \n",
      "1686  Heart_Left_Ventricle  UBERON:0006566      chr20  ENSG00000101017.13   \n",
      "\n",
      "           nes  \n",
      "0     0.160842  \n",
      "1    -0.206760  \n",
      "2    -0.207615  \n",
      "3    -0.206760  \n",
      "4    -0.285577  \n",
      "...        ...  \n",
      "1682  0.761326  \n",
      "1683 -0.282274  \n",
      "1684  0.169178  \n",
      "1685  0.502159  \n",
      "1686  0.152165  \n",
      "\n",
      "[1687 rows x 13 columns]\n"
     ]
    }
   ],
   "source": [
    "\n",
    "# list to storedata\n",
    "all_data = []\n",
    "\n",
    "for i in range(0, 9):\n",
    "    params = {\n",
    "        'tissueSiteDetailId': 'Heart_Left_Ventricle',\n",
    "        'variantId': sublists[i],\n",
    "        'format': 'json',\n",
    "        'datasetId': 'gtex_v8',\n",
    "        'page': 0 }\n",
    "\n",
    "    while True:\n",
    "        gene_eqtls = requests.get(url='https://gtexportal.org/api/v2/association/singleTissueEqtl', params=params)\n",
    "    \n",
    "        if gene_eqtls.status_code == 200:\n",
    "            data = gene_eqtls.json()\n",
    "            all_data.extend(data['data'])  \n",
    "        \n",
    "            # Check pages\n",
    "            paging_info = data.get('paging_info')\n",
    "            number_of_pages = paging_info.get('numberOfPages') if paging_info else 0\n",
    "        \n",
    "            if number_of_pages > params['page']:\n",
    "                params['page'] += 1 \n",
    "                gene_eqtls = requests.get(url='https://gtexportal.org/api/v2/association/singleTissueEqtl', params=params)\n",
    "            else:\n",
    "                break  \n",
    "                \n",
    "        else:\n",
    "            break\n",
    "\n",
    "heartventricledf = pd.DataFrame(all_data)\n",
    "\n",
    "print(heartventricledf)\n",
    "heartventricledf.to_csv(\"10000variantids_heartventricle.csv\")"
   ]
  },
  {
   "cell_type": "code",
   "execution_count": 65,
   "id": "a81b5787-c4e2-49b2-9b88-e4211baf2f1d",
   "metadata": {
    "tags": []
   },
   "outputs": [],
   "source": [
    "heartventricle_genenames = heartventricledf.drop_duplicates(subset=['geneSymbol'])\n",
    "heartventricle_genenames = heartventricle_genenames['geneSymbol'].tolist()"
   ]
  },
  {
   "cell_type": "code",
   "execution_count": 66,
   "id": "10de77b2-9449-4e84-8ac7-b5078e1d35c1",
   "metadata": {
    "tags": []
   },
   "outputs": [
    {
     "data": {
      "text/plain": [
       "106"
      ]
     },
     "execution_count": 66,
     "metadata": {},
     "output_type": "execute_result"
    }
   ],
   "source": [
    "len(heartventricle_genenames)"
   ]
  },
  {
   "cell_type": "markdown",
   "id": "b9c62664-a79c-4aaa-ae93-f11a36aff902",
   "metadata": {
    "jp-MarkdownHeadingCollapsed": true,
    "tags": []
   },
   "source": [
    "## Heart_Atrial_Appendage eqtls "
   ]
  },
  {
   "cell_type": "code",
   "execution_count": 67,
   "id": "ef743f34-48ca-473b-a905-017dcfa9e647",
   "metadata": {
    "tags": []
   },
   "outputs": [
    {
     "name": "stdout",
     "output_type": "stream",
     "text": [
      "            snpId       pos   snpIdUpper              variantId geneSymbol  \\\n",
      "0       rs1146626  75782330    RS1146626  chr1_75782330_G_A_b38      ACADM   \n",
      "1     rs113521086  75898558  RS113521086  chr1_75898558_G_T_b38      ACADM   \n",
      "2       rs1845277  75906861    RS1845277  chr1_75906861_T_C_b38      ACADM   \n",
      "3       rs1021464  75909730    RS1021464  chr1_75909730_G_A_b38      ACADM   \n",
      "4       rs1146626  75782330    RS1146626  chr1_75782330_G_A_b38       MSH4   \n",
      "...           ...       ...          ...                    ...        ...   \n",
      "1476    rs2106842   7259132    RS2106842  chr17_7259132_G_A_b38    CTDNEP1   \n",
      "1477     rs222851   7235919     RS222851  chr17_7235919_G_A_b38       ELP5   \n",
      "1478    rs2106842   7259132    RS2106842  chr17_7259132_G_A_b38       ELP5   \n",
      "1479     rs222851   7235919     RS222851  chr17_7235919_G_A_b38      CLDN7   \n",
      "1480    rs2106842   7259132    RS2106842  chr17_7259132_G_A_b38      CLDN7   \n",
      "\n",
      "            pValue geneSymbolUpper datasetId      tissueSiteDetailId  \\\n",
      "0     5.750370e-06           ACADM   gtex_v8  Heart_Atrial_Appendage   \n",
      "1     1.478610e-08           ACADM   gtex_v8  Heart_Atrial_Appendage   \n",
      "2     1.126350e-08           ACADM   gtex_v8  Heart_Atrial_Appendage   \n",
      "3     1.478610e-08           ACADM   gtex_v8  Heart_Atrial_Appendage   \n",
      "4     7.945910e-06            MSH4   gtex_v8  Heart_Atrial_Appendage   \n",
      "...            ...             ...       ...                     ...   \n",
      "1476  3.483800e-06         CTDNEP1   gtex_v8  Heart_Atrial_Appendage   \n",
      "1477  3.690190e-62            ELP5   gtex_v8  Heart_Atrial_Appendage   \n",
      "1478  5.669960e-64            ELP5   gtex_v8  Heart_Atrial_Appendage   \n",
      "1479  1.994130e-09           CLDN7   gtex_v8  Heart_Atrial_Appendage   \n",
      "1480  1.871270e-07           CLDN7   gtex_v8  Heart_Atrial_Appendage   \n",
      "\n",
      "          ontologyId chromosome           gencodeId       nes  \n",
      "0     UBERON:0006631       chr1  ENSG00000117054.13  0.209805  \n",
      "1     UBERON:0006631       chr1  ENSG00000117054.13 -0.217047  \n",
      "2     UBERON:0006631       chr1  ENSG00000117054.13 -0.219299  \n",
      "3     UBERON:0006631       chr1  ENSG00000117054.13 -0.217047  \n",
      "4     UBERON:0006631       chr1   ENSG00000057468.6  0.469258  \n",
      "...              ...        ...                 ...       ...  \n",
      "1476  UBERON:0006631      chr17  ENSG00000175826.11  0.150839  \n",
      "1477  UBERON:0006631      chr17  ENSG00000170291.14  0.685269  \n",
      "1478  UBERON:0006631      chr17  ENSG00000170291.14 -0.694208  \n",
      "1479  UBERON:0006631      chr17  ENSG00000181885.18  0.349278  \n",
      "1480  UBERON:0006631      chr17  ENSG00000181885.18 -0.306887  \n",
      "\n",
      "[1481 rows x 13 columns]\n"
     ]
    }
   ],
   "source": [
    "\n",
    "# list to storedata\n",
    "all_data = []\n",
    "\n",
    "for i in range(0, 9):\n",
    "    params = {\n",
    "        'tissueSiteDetailId': 'Heart_Atrial_Appendage',\n",
    "        'variantId': sublists[i],\n",
    "        'format': 'json',\n",
    "        'datasetId': 'gtex_v8',\n",
    "        'page': 0 }\n",
    "\n",
    "    while True:\n",
    "        gene_eqtls = requests.get(url='https://gtexportal.org/api/v2/association/singleTissueEqtl', params=params)\n",
    "    \n",
    "        if gene_eqtls.status_code == 200:\n",
    "            data = gene_eqtls.json()\n",
    "            all_data.extend(data['data'])  \n",
    "        \n",
    "            # Check pages\n",
    "            paging_info = data.get('paging_info')\n",
    "            number_of_pages = paging_info.get('numberOfPages') if paging_info else 0\n",
    "        \n",
    "            if number_of_pages > params['page']:\n",
    "                params['page'] += 1 \n",
    "                gene_eqtls = requests.get(url='https://gtexportal.org/api/v2/association/singleTissueEqtl', params=params)\n",
    "            else:\n",
    "                break  \n",
    "                \n",
    "        else:\n",
    "            break\n",
    "\n",
    "heartatrialdf = pd.DataFrame(all_data)\n",
    "\n",
    "print(heartatrialdf)\n",
    "heartatrialdf.to_csv(\"10000variantids_heartatrial.csv\")"
   ]
  },
  {
   "cell_type": "code",
   "execution_count": 68,
   "id": "bb368621-3d71-45f8-bf92-32bb9e7793c7",
   "metadata": {
    "tags": []
   },
   "outputs": [],
   "source": [
    "heartatrial_genenames = heartatrialdf.drop_duplicates(subset=['geneSymbol'])\n",
    "heartatrial_genenames = heartatrial_genenames['geneSymbol'].tolist()"
   ]
  },
  {
   "cell_type": "code",
   "execution_count": 69,
   "id": "53980b35-21d8-4286-972d-6155708e447e",
   "metadata": {
    "tags": []
   },
   "outputs": [
    {
     "data": {
      "text/plain": [
       "76"
      ]
     },
     "execution_count": 69,
     "metadata": {},
     "output_type": "execute_result"
    }
   ],
   "source": [
    "len(heartatrial_genenames)"
   ]
  },
  {
   "cell_type": "markdown",
   "id": "4095b860-6293-491b-8976-fe7d18c2ee56",
   "metadata": {
    "jp-MarkdownHeadingCollapsed": true,
    "tags": []
   },
   "source": [
    "## esophagus muscularis eqtls "
   ]
  },
  {
   "cell_type": "code",
   "execution_count": 70,
   "id": "1b3af0af-d6a8-4e7d-abb4-7ee72bc4ccb1",
   "metadata": {
    "tags": []
   },
   "outputs": [
    {
     "name": "stdout",
     "output_type": "stream",
     "text": [
      "            snpId       pos   snpIdUpper               variantId  \\\n",
      "0       rs1146626  75782330    RS1146626   chr1_75782330_G_A_b38   \n",
      "1     rs113521086  75898558  RS113521086   chr1_75898558_G_T_b38   \n",
      "2       rs1845277  75906861    RS1845277   chr1_75906861_T_C_b38   \n",
      "3       rs1021464  75909730    RS1021464   chr1_75909730_G_A_b38   \n",
      "4       rs1146626  75782330    RS1146626   chr1_75782330_G_A_b38   \n",
      "...           ...       ...          ...                     ...   \n",
      "1966    rs7507261   9320829    RS7507261   chr19_9320829_G_C_b38   \n",
      "1967    rs7507261   9320829    RS7507261   chr19_9320829_G_C_b38   \n",
      "1968    rs7507261   9320829    RS7507261   chr19_9320829_G_C_b38   \n",
      "1969   rs35310815  62481113   RS35310815  chr20_62481113_A_G_b38   \n",
      "1970    rs6142777  62483744    RS6142777  chr20_62483744_T_C_b38   \n",
      "\n",
      "         geneSymbol        pValue geneSymbolUpper datasetId  \\\n",
      "0             ACADM  7.039650e-10           ACADM   gtex_v8   \n",
      "1             ACADM  1.252220e-12           ACADM   gtex_v8   \n",
      "2             ACADM  2.187300e-12           ACADM   gtex_v8   \n",
      "3             ACADM  1.252220e-12           ACADM   gtex_v8   \n",
      "4              MSH4  3.342650e-09            MSH4   gtex_v8   \n",
      "...             ...           ...             ...       ...   \n",
      "1966         ZNF266  1.534720e-77          ZNF266   gtex_v8   \n",
      "1967   CTC-543D15.8  1.509670e-08    CTC-543D15.8   gtex_v8   \n",
      "1968  CTD-3116E22.8  9.051630e-06   CTD-3116E22.8   gtex_v8   \n",
      "1969          GATA5  6.174690e-15           GATA5   gtex_v8   \n",
      "1970          GATA5  1.623650e-12           GATA5   gtex_v8   \n",
      "\n",
      "        tissueSiteDetailId      ontologyId chromosome           gencodeId  \\\n",
      "0     Esophagus_Muscularis  UBERON:0004648       chr1  ENSG00000117054.13   \n",
      "1     Esophagus_Muscularis  UBERON:0004648       chr1  ENSG00000117054.13   \n",
      "2     Esophagus_Muscularis  UBERON:0004648       chr1  ENSG00000117054.13   \n",
      "3     Esophagus_Muscularis  UBERON:0004648       chr1  ENSG00000117054.13   \n",
      "4     Esophagus_Muscularis  UBERON:0004648       chr1   ENSG00000057468.6   \n",
      "...                    ...             ...        ...                 ...   \n",
      "1966  Esophagus_Muscularis  UBERON:0004648      chr19  ENSG00000174652.17   \n",
      "1967  Esophagus_Muscularis  UBERON:0004648      chr19   ENSG00000278611.1   \n",
      "1968  Esophagus_Muscularis  UBERON:0004648      chr19   ENSG00000277587.1   \n",
      "1969  Esophagus_Muscularis  UBERON:0004648      chr20   ENSG00000130700.6   \n",
      "1970  Esophagus_Muscularis  UBERON:0004648      chr20   ENSG00000130700.6   \n",
      "\n",
      "           nes  \n",
      "0     0.261768  \n",
      "1    -0.251662  \n",
      "2    -0.250074  \n",
      "3    -0.251662  \n",
      "4     0.506032  \n",
      "...        ...  \n",
      "1966  0.807384  \n",
      "1967 -0.238225  \n",
      "1968  0.237758  \n",
      "1969  0.571635  \n",
      "1970  0.490588  \n",
      "\n",
      "[1971 rows x 13 columns]\n"
     ]
    }
   ],
   "source": [
    "\n",
    "# list to storedata\n",
    "all_data = []\n",
    "\n",
    "for i in range(0, 9):\n",
    "    params = {\n",
    "        'tissueSiteDetailId': 'Esophagus_Muscularis',\n",
    "        'variantId': sublists[i],\n",
    "        'format': 'json',\n",
    "        'datasetId': 'gtex_v8',\n",
    "        'page': 0 }\n",
    "\n",
    "    while True:\n",
    "        gene_eqtls = requests.get(url='https://gtexportal.org/api/v2/association/singleTissueEqtl', params=params)\n",
    "    \n",
    "        if gene_eqtls.status_code == 200:\n",
    "            data = gene_eqtls.json()\n",
    "            all_data.extend(data['data'])  \n",
    "        \n",
    "            # Check pages\n",
    "            paging_info = data.get('paging_info')\n",
    "            number_of_pages = paging_info.get('numberOfPages') if paging_info else 0\n",
    "        \n",
    "            if number_of_pages > params['page']:\n",
    "                params['page'] += 1 \n",
    "                gene_eqtls = requests.get(url='https://gtexportal.org/api/v2/association/singleTissueEqtl', params=params)\n",
    "            else:\n",
    "                break  \n",
    "                \n",
    "        else:\n",
    "            break\n",
    "\n",
    "esophagusmuscularisdf = pd.DataFrame(all_data)\n",
    "\n",
    "print(esophagusmuscularisdf)\n",
    "esophagusmuscularisdf.to_csv(\"10000variantids_esophagusmuscularis.csv\")"
   ]
  },
  {
   "cell_type": "code",
   "execution_count": 71,
   "id": "619b7804-9630-4b05-8a55-158a6c69dc2a",
   "metadata": {
    "tags": []
   },
   "outputs": [],
   "source": [
    "esophagusmuscularis_genenames = esophagusmuscularisdf.drop_duplicates(subset=['geneSymbol'])\n",
    "esophagusmuscularis_genenames = esophagusmuscularis_genenames['geneSymbol'].tolist()"
   ]
  },
  {
   "cell_type": "code",
   "execution_count": 72,
   "id": "93e31d57-c7a1-4f78-8bc4-45d1b4633d38",
   "metadata": {
    "tags": []
   },
   "outputs": [
    {
     "data": {
      "text/plain": [
       "153"
      ]
     },
     "execution_count": 72,
     "metadata": {},
     "output_type": "execute_result"
    }
   ],
   "source": [
    "len(esophagusmuscularis_genenames)"
   ]
  },
  {
   "cell_type": "markdown",
   "id": "062e310d-042b-491e-8d3e-ded635f818a9",
   "metadata": {
    "jp-MarkdownHeadingCollapsed": true,
    "tags": []
   },
   "source": [
    "## Esophagus_Mucosa eqtls "
   ]
  },
  {
   "cell_type": "code",
   "execution_count": 73,
   "id": "c0c2fff8-59b0-4c13-98c4-b2229445ca1f",
   "metadata": {
    "tags": []
   },
   "outputs": [
    {
     "name": "stdout",
     "output_type": "stream",
     "text": [
      "            snpId        pos   snpIdUpper               variantId  \\\n",
      "0       rs9330264  155123274    RS9330264  chr1_155123274_T_C_b38   \n",
      "1          rs9297  155134074       RS9297  chr1_155134074_A_G_b38   \n",
      "2         rs12904  155134221      RS12904  chr1_155134221_G_A_b38   \n",
      "3      rs11264333  155135811   RS11264333  chr1_155135811_G_A_b38   \n",
      "4       rs4246529  155142784    RS4246529  chr1_155142784_T_C_b38   \n",
      "...           ...        ...          ...                     ...   \n",
      "2566    rs7507261    9320829    RS7507261   chr19_9320829_G_C_b38   \n",
      "2567    rs7507261    9320829    RS7507261   chr19_9320829_G_C_b38   \n",
      "2568  rs146728316   47595301  RS146728316  chr19_47595301_C_T_b38   \n",
      "2569   rs35310815   62481113   RS35310815  chr20_62481113_A_G_b38   \n",
      "2570    rs6142777   62483744    RS6142777  chr20_62483744_T_C_b38   \n",
      "\n",
      "        geneSymbol        pValue geneSymbolUpper datasetId tissueSiteDetailId  \\\n",
      "0            EFNA1  2.269000e-05           EFNA1   gtex_v8   Esophagus_Mucosa   \n",
      "1            EFNA1  1.139660e-04           EFNA1   gtex_v8   Esophagus_Mucosa   \n",
      "2            EFNA1  1.797730e-04           EFNA1   gtex_v8   Esophagus_Mucosa   \n",
      "3            EFNA1  2.849710e-05           EFNA1   gtex_v8   Esophagus_Mucosa   \n",
      "4            EFNA1  4.106640e-05           EFNA1   gtex_v8   Esophagus_Mucosa   \n",
      "...            ...           ...             ...       ...                ...   \n",
      "2566        ZNF559  1.531360e-06          ZNF559   gtex_v8   Esophagus_Mucosa   \n",
      "2567        ZNF266  2.857530e-92          ZNF266   gtex_v8   Esophagus_Mucosa   \n",
      "2568  RP11-43N16.4  2.696090e-05    RP11-43N16.4   gtex_v8   Esophagus_Mucosa   \n",
      "2569         GATA5  2.877080e-08           GATA5   gtex_v8   Esophagus_Mucosa   \n",
      "2570         GATA5  5.565860e-06           GATA5   gtex_v8   Esophagus_Mucosa   \n",
      "\n",
      "          ontologyId chromosome           gencodeId       nes  \n",
      "0     UBERON:0006920       chr1  ENSG00000169242.11 -0.119085  \n",
      "1     UBERON:0006920       chr1  ENSG00000169242.11 -0.099452  \n",
      "2     UBERON:0006920       chr1  ENSG00000169242.11 -0.096105  \n",
      "3     UBERON:0006920       chr1  ENSG00000169242.11 -0.106357  \n",
      "4     UBERON:0006920       chr1  ENSG00000169242.11 -0.103715  \n",
      "...              ...        ...                 ...       ...  \n",
      "2566  UBERON:0006920      chr19  ENSG00000188321.13 -0.182393  \n",
      "2567  UBERON:0006920      chr19  ENSG00000174652.17  0.891196  \n",
      "2568  UBERON:0006920      chr19   ENSG00000279861.1  0.426318  \n",
      "2569  UBERON:0006920      chr20   ENSG00000130700.6  0.345286  \n",
      "2570  UBERON:0006920      chr20   ENSG00000130700.6  0.266259  \n",
      "\n",
      "[2571 rows x 13 columns]\n"
     ]
    }
   ],
   "source": [
    "\n",
    "# list to storedata\n",
    "all_data = []\n",
    "\n",
    "for i in range(0, 9):\n",
    "    params = {\n",
    "        'tissueSiteDetailId': 'Esophagus_Mucosa',\n",
    "        'variantId': sublists[i],\n",
    "        'format': 'json',\n",
    "        'datasetId': 'gtex_v8',\n",
    "        'page': 0 }\n",
    "\n",
    "    while True:\n",
    "        gene_eqtls = requests.get(url='https://gtexportal.org/api/v2/association/singleTissueEqtl', params=params)\n",
    "    \n",
    "        if gene_eqtls.status_code == 200:\n",
    "            data = gene_eqtls.json()\n",
    "            all_data.extend(data['data'])  \n",
    "        \n",
    "            # Check pages\n",
    "            paging_info = data.get('paging_info')\n",
    "            number_of_pages = paging_info.get('numberOfPages') if paging_info else 0\n",
    "        \n",
    "            if number_of_pages > params['page']:\n",
    "                params['page'] += 1 \n",
    "                gene_eqtls = requests.get(url='https://gtexportal.org/api/v2/association/singleTissueEqtl', params=params)\n",
    "            else:\n",
    "                break  \n",
    "                \n",
    "        else:\n",
    "            break\n",
    "\n",
    "esophagusmucosadf = pd.DataFrame(all_data)\n",
    "\n",
    "print(esophagusmucosadf)\n",
    "esophagusmucosadf.to_csv(\"10000variantids_esophagusmucosadf.csv\")"
   ]
  },
  {
   "cell_type": "code",
   "execution_count": 74,
   "id": "3eb9fe20-d38b-467b-9171-8894f0922d93",
   "metadata": {
    "tags": []
   },
   "outputs": [],
   "source": [
    "esophagusmucosa_genenames = esophagusmucosadf.drop_duplicates(subset=['geneSymbol'])\n",
    "esophagusmucosa_genenames = esophagusmucosa_genenames['geneSymbol'].tolist()"
   ]
  },
  {
   "cell_type": "code",
   "execution_count": 75,
   "id": "df4b5aab-71d5-4a30-8261-e2620a7c3502",
   "metadata": {
    "tags": []
   },
   "outputs": [
    {
     "data": {
      "text/plain": [
       "174"
      ]
     },
     "execution_count": 75,
     "metadata": {},
     "output_type": "execute_result"
    }
   ],
   "source": [
    "len(esophagusmucosa_genenames)"
   ]
  },
  {
   "cell_type": "markdown",
   "id": "062e6074-c05c-40ce-8bda-2bbc129400bb",
   "metadata": {
    "jp-MarkdownHeadingCollapsed": true,
    "tags": []
   },
   "source": [
    "## Esophagus_Gastroesophageal_Junction eqtls "
   ]
  },
  {
   "cell_type": "code",
   "execution_count": 76,
   "id": "dea334ee-1dab-47dc-baac-63f515409467",
   "metadata": {
    "tags": []
   },
   "outputs": [
    {
     "name": "stdout",
     "output_type": "stream",
     "text": [
      "           snpId        pos   snpIdUpper               variantId geneSymbol  \\\n",
      "0      rs1146626   75782330    RS1146626   chr1_75782330_G_A_b38      ACADM   \n",
      "1    rs113521086   75898558  RS113521086   chr1_75898558_G_T_b38      ACADM   \n",
      "2      rs1845277   75906861    RS1845277   chr1_75906861_T_C_b38      ACADM   \n",
      "3      rs1021464   75909730    RS1021464   chr1_75909730_G_A_b38      ACADM   \n",
      "4     rs34815285  155121795   RS34815285  chr1_155121795_T_C_b38     ADAM15   \n",
      "..           ...        ...          ...                     ...        ...   \n",
      "897    rs2106842    7259132    RS2106842   chr17_7259132_G_A_b38    CTDNEP1   \n",
      "898     rs222851    7235919     RS222851   chr17_7235919_G_A_b38       ELP5   \n",
      "899    rs2106842    7259132    RS2106842   chr17_7259132_G_A_b38       ELP5   \n",
      "900     rs222851    7235919     RS222851   chr17_7235919_G_A_b38      CLDN7   \n",
      "901    rs2106842    7259132    RS2106842   chr17_7259132_G_A_b38      CLDN7   \n",
      "\n",
      "           pValue geneSymbolUpper datasetId  \\\n",
      "0    4.413270e-06           ACADM   gtex_v8   \n",
      "1    3.176950e-11           ACADM   gtex_v8   \n",
      "2    2.835530e-10           ACADM   gtex_v8   \n",
      "3    3.176950e-11           ACADM   gtex_v8   \n",
      "4    1.111410e-04          ADAM15   gtex_v8   \n",
      "..            ...             ...       ...   \n",
      "897  5.231180e-06         CTDNEP1   gtex_v8   \n",
      "898  5.651010e-14            ELP5   gtex_v8   \n",
      "899  1.302360e-14            ELP5   gtex_v8   \n",
      "900  6.191440e-09           CLDN7   gtex_v8   \n",
      "901  7.396030e-08           CLDN7   gtex_v8   \n",
      "\n",
      "                      tissueSiteDetailId      ontologyId chromosome  \\\n",
      "0    Esophagus_Gastroesophageal_Junction  UBERON:0004550       chr1   \n",
      "1    Esophagus_Gastroesophageal_Junction  UBERON:0004550       chr1   \n",
      "2    Esophagus_Gastroesophageal_Junction  UBERON:0004550       chr1   \n",
      "3    Esophagus_Gastroesophageal_Junction  UBERON:0004550       chr1   \n",
      "4    Esophagus_Gastroesophageal_Junction  UBERON:0004550       chr1   \n",
      "..                                   ...             ...        ...   \n",
      "897  Esophagus_Gastroesophageal_Junction  UBERON:0004550      chr17   \n",
      "898  Esophagus_Gastroesophageal_Junction  UBERON:0004550      chr17   \n",
      "899  Esophagus_Gastroesophageal_Junction  UBERON:0004550      chr17   \n",
      "900  Esophagus_Gastroesophageal_Junction  UBERON:0004550      chr17   \n",
      "901  Esophagus_Gastroesophageal_Junction  UBERON:0004550      chr17   \n",
      "\n",
      "              gencodeId       nes  \n",
      "0    ENSG00000117054.13  0.253694  \n",
      "1    ENSG00000117054.13 -0.294625  \n",
      "2    ENSG00000117054.13 -0.282083  \n",
      "3    ENSG00000117054.13 -0.294625  \n",
      "4    ENSG00000143537.13 -0.139916  \n",
      "..                  ...       ...  \n",
      "897  ENSG00000175826.11  0.157617  \n",
      "898  ENSG00000170291.14  0.312935  \n",
      "899  ENSG00000170291.14 -0.320423  \n",
      "900  ENSG00000181885.18  0.296710  \n",
      "901  ENSG00000181885.18 -0.276277  \n",
      "\n",
      "[902 rows x 13 columns]\n"
     ]
    }
   ],
   "source": [
    "\n",
    "# list to storedata\n",
    "all_data = []\n",
    "\n",
    "for i in range(0, 9):\n",
    "    params = {\n",
    "        'tissueSiteDetailId': 'Esophagus_Gastroesophageal_Junction',\n",
    "        'variantId': sublists[i],\n",
    "        'format': 'json',\n",
    "        'datasetId': 'gtex_v8',\n",
    "        'page': 0 }\n",
    "\n",
    "    while True:\n",
    "        gene_eqtls = requests.get(url='https://gtexportal.org/api/v2/association/singleTissueEqtl', params=params)\n",
    "    \n",
    "        if gene_eqtls.status_code == 200:\n",
    "            data = gene_eqtls.json()\n",
    "            all_data.extend(data['data'])  \n",
    "        \n",
    "            # Check pages\n",
    "            paging_info = data.get('paging_info')\n",
    "            number_of_pages = paging_info.get('numberOfPages') if paging_info else 0\n",
    "        \n",
    "            if number_of_pages > params['page']:\n",
    "                params['page'] += 1 \n",
    "                gene_eqtls = requests.get(url='https://gtexportal.org/api/v2/association/singleTissueEqtl', params=params)\n",
    "            else:\n",
    "                break  \n",
    "                \n",
    "        else:\n",
    "            break\n",
    "\n",
    "esophagusGEJdf = pd.DataFrame(all_data)\n",
    "\n",
    "print(esophagusGEJdf)\n",
    "esophagusGEJdf.to_csv(\"10000variantids_esophagusGEJ.csv\")"
   ]
  },
  {
   "cell_type": "code",
   "execution_count": 77,
   "id": "bf851148-72e5-4a42-8d7c-89f1d713c599",
   "metadata": {
    "tags": []
   },
   "outputs": [],
   "source": [
    "esophagusGEJ_genenames = esophagusGEJdf.drop_duplicates(subset=['geneSymbol'])\n",
    "esophagusGEJ_genenames = esophagusGEJ_genenames['geneSymbol'].tolist()"
   ]
  },
  {
   "cell_type": "code",
   "execution_count": 78,
   "id": "5086f44d-f612-4a33-9a43-4c8632d89e1f",
   "metadata": {
    "tags": []
   },
   "outputs": [
    {
     "data": {
      "text/plain": [
       "63"
      ]
     },
     "execution_count": 78,
     "metadata": {},
     "output_type": "execute_result"
    }
   ],
   "source": [
    "len(esophagusGEJ_genenames)"
   ]
  },
  {
   "cell_type": "markdown",
   "id": "b74c680e-17ef-4e73-bb0b-e50b8e6f9ba2",
   "metadata": {
    "jp-MarkdownHeadingCollapsed": true,
    "tags": []
   },
   "source": [
    "## Colon_Transverse eqtls "
   ]
  },
  {
   "cell_type": "code",
   "execution_count": 79,
   "id": "f452d6fa-9e61-4112-92ac-dd9a8b22f6b4",
   "metadata": {
    "tags": []
   },
   "outputs": [
    {
     "name": "stdout",
     "output_type": "stream",
     "text": [
      "           snpId        pos  snpIdUpper               variantId geneSymbol  \\\n",
      "0      rs7366138  155115874   RS7366138  chr1_155115874_G_A_b38      EFNA3   \n",
      "1     rs12145362  155121537  RS12145362  chr1_155121537_C_A_b38      EFNA3   \n",
      "2     rs11807418  155122129  RS11807418  chr1_155122129_A_T_b38      EFNA3   \n",
      "3     rs11264327  155122631  RS11264327  chr1_155122631_G_A_b38      EFNA3   \n",
      "4      rs7535292  155155273   RS7535292  chr1_155155273_T_C_b38      EFNA3   \n",
      "...          ...        ...         ...                     ...        ...   \n",
      "1525    rs180032   20776190    RS180032  chr16_20776190_C_A_b38      ACSM1   \n",
      "1526  rs28424072   55781463  RS28424072  chr16_55781463_G_A_b38     CES1P1   \n",
      "1527  rs28424072   55781463  RS28424072  chr16_55781463_G_A_b38       CES1   \n",
      "1528   rs7507261    9320829   RS7507261   chr19_9320829_G_C_b38     ZNF266   \n",
      "1529   rs6032678   46148656   RS6032678  chr20_46148656_C_T_b38       PLTP   \n",
      "\n",
      "            pValue geneSymbolUpper datasetId tissueSiteDetailId  \\\n",
      "0     5.918540e-05           EFNA3   gtex_v8   Colon_Transverse   \n",
      "1     4.062950e-05           EFNA3   gtex_v8   Colon_Transverse   \n",
      "2     4.062950e-05           EFNA3   gtex_v8   Colon_Transverse   \n",
      "3     4.389630e-05           EFNA3   gtex_v8   Colon_Transverse   \n",
      "4     1.238490e-04           EFNA3   gtex_v8   Colon_Transverse   \n",
      "...            ...             ...       ...                ...   \n",
      "1525  8.636850e-05           ACSM1   gtex_v8   Colon_Transverse   \n",
      "1526  1.327340e-14          CES1P1   gtex_v8   Colon_Transverse   \n",
      "1527  6.422930e-07            CES1   gtex_v8   Colon_Transverse   \n",
      "1528  8.000340e-69          ZNF266   gtex_v8   Colon_Transverse   \n",
      "1529  1.137570e-05            PLTP   gtex_v8   Colon_Transverse   \n",
      "\n",
      "          ontologyId chromosome           gencodeId       nes  \n",
      "0     UBERON:0001157       chr1  ENSG00000143590.13 -0.109183  \n",
      "1     UBERON:0001157       chr1  ENSG00000143590.13 -0.112727  \n",
      "2     UBERON:0001157       chr1  ENSG00000143590.13 -0.112727  \n",
      "3     UBERON:0001157       chr1  ENSG00000143590.13 -0.112168  \n",
      "4     UBERON:0001157       chr1  ENSG00000143590.13 -0.100422  \n",
      "...              ...        ...                 ...       ...  \n",
      "1525  UBERON:0001157      chr16   ENSG00000166743.9  0.453760  \n",
      "1526  UBERON:0001157      chr16  ENSG00000228695.10  0.900583  \n",
      "1527  UBERON:0001157      chr16  ENSG00000198848.12  0.292953  \n",
      "1528  UBERON:0001157      chr19  ENSG00000174652.17  0.939116  \n",
      "1529  UBERON:0001157      chr20  ENSG00000100979.14 -0.150622  \n",
      "\n",
      "[1530 rows x 13 columns]\n"
     ]
    }
   ],
   "source": [
    "\n",
    "# list to storedata\n",
    "all_data = []\n",
    "\n",
    "for i in range(0, 9):\n",
    "    params = {\n",
    "        'tissueSiteDetailId': 'Colon_Transverse',\n",
    "        'variantId': sublists[i],\n",
    "        'format': 'json',\n",
    "        'datasetId': 'gtex_v8',\n",
    "        'page': 0 }\n",
    "\n",
    "    while True:\n",
    "        gene_eqtls = requests.get(url='https://gtexportal.org/api/v2/association/singleTissueEqtl', params=params)\n",
    "    \n",
    "        if gene_eqtls.status_code == 200:\n",
    "            data = gene_eqtls.json()\n",
    "            all_data.extend(data['data'])  \n",
    "        \n",
    "            # Check pages\n",
    "            paging_info = data.get('paging_info')\n",
    "            number_of_pages = paging_info.get('numberOfPages') if paging_info else 0\n",
    "        \n",
    "            if number_of_pages > params['page']:\n",
    "                params['page'] += 1 \n",
    "                gene_eqtls = requests.get(url='https://gtexportal.org/api/v2/association/singleTissueEqtl', params=params)\n",
    "            else:\n",
    "                break  \n",
    "                \n",
    "        else:\n",
    "            break\n",
    "\n",
    "colontransversedf = pd.DataFrame(all_data)\n",
    "\n",
    "print(colontransversedf)\n",
    "colontransversedf.to_csv(\"10000variantids_colontransversedf.csv\")"
   ]
  },
  {
   "cell_type": "code",
   "execution_count": 80,
   "id": "2102c205-020c-40d7-bcac-b56a7705a132",
   "metadata": {
    "tags": []
   },
   "outputs": [],
   "source": [
    "colontransverse_genenames = colontransversedf.drop_duplicates(subset=['geneSymbol'])\n",
    "colontransverse_genenames = colontransverse_genenames['geneSymbol'].tolist()"
   ]
  },
  {
   "cell_type": "code",
   "execution_count": 81,
   "id": "e4aa064c-93e1-4cc7-8f09-0ca5d4d817b4",
   "metadata": {
    "tags": []
   },
   "outputs": [
    {
     "data": {
      "text/plain": [
       "115"
      ]
     },
     "execution_count": 81,
     "metadata": {},
     "output_type": "execute_result"
    }
   ],
   "source": [
    "len(colontransverse_genenames)"
   ]
  },
  {
   "cell_type": "markdown",
   "id": "9f91180a-89ef-42b7-9cae-18682caaf1c7",
   "metadata": {
    "jp-MarkdownHeadingCollapsed": true,
    "tags": []
   },
   "source": [
    "## Colon_Sigmoid eqtls "
   ]
  },
  {
   "cell_type": "code",
   "execution_count": 82,
   "id": "9c1313ff-971f-4306-a57e-4709df6be8c5",
   "metadata": {
    "tags": []
   },
   "outputs": [
    {
     "name": "stdout",
     "output_type": "stream",
     "text": [
      "          snpId        pos snpIdUpper               variantId    geneSymbol  \\\n",
      "0     rs9330264  155123274  RS9330264  chr1_155123274_T_C_b38          MUC1   \n",
      "1     rs6676150  155151361  RS6676150  chr1_155151361_G_C_b38          MUC1   \n",
      "2      rs760077  155208991   RS760077  chr1_155208991_T_A_b38          MUC1   \n",
      "3     rs2990223  155215184  RS2990223  chr1_155215184_G_A_b38          MUC1   \n",
      "4     rs9330264  155123274  RS9330264  chr1_155123274_T_C_b38         THBS3   \n",
      "...         ...        ...        ...                     ...           ...   \n",
      "1307  rs8074757    8618844  RS8074757   chr17_8618844_C_G_b38         NDEL1   \n",
      "1308  rs8074757    8618844  RS8074757   chr17_8618844_C_G_b38         MYH10   \n",
      "1309  rs7507261    9320829  RS7507261   chr19_9320829_G_C_b38        ZNF266   \n",
      "1310  rs7507261    9320829  RS7507261   chr19_9320829_G_C_b38  CTC-543D15.8   \n",
      "1311  rs6032678   46148656  RS6032678  chr20_46148656_C_T_b38          PLTP   \n",
      "\n",
      "            pValue geneSymbolUpper datasetId tissueSiteDetailId  \\\n",
      "0     6.981770e-05            MUC1   gtex_v8      Colon_Sigmoid   \n",
      "1     5.169830e-06            MUC1   gtex_v8      Colon_Sigmoid   \n",
      "2     4.750650e-07            MUC1   gtex_v8      Colon_Sigmoid   \n",
      "3     5.069950e-07            MUC1   gtex_v8      Colon_Sigmoid   \n",
      "4     3.973180e-07           THBS3   gtex_v8      Colon_Sigmoid   \n",
      "...            ...             ...       ...                ...   \n",
      "1307  7.570420e-08           NDEL1   gtex_v8      Colon_Sigmoid   \n",
      "1308  7.334850e-06           MYH10   gtex_v8      Colon_Sigmoid   \n",
      "1309  3.546320e-62          ZNF266   gtex_v8      Colon_Sigmoid   \n",
      "1310  5.372590e-06    CTC-543D15.8   gtex_v8      Colon_Sigmoid   \n",
      "1311  4.956140e-06            PLTP   gtex_v8      Colon_Sigmoid   \n",
      "\n",
      "          ontologyId chromosome           gencodeId       nes  \n",
      "0     UBERON:0001159       chr1  ENSG00000185499.16  0.152386  \n",
      "1     UBERON:0001159       chr1  ENSG00000185499.16 -0.166732  \n",
      "2     UBERON:0001159       chr1  ENSG00000185499.16 -0.179624  \n",
      "3     UBERON:0001159       chr1  ENSG00000185499.16 -0.179592  \n",
      "4     UBERON:0001159       chr1  ENSG00000169231.13  0.181527  \n",
      "...              ...        ...                 ...       ...  \n",
      "1307  UBERON:0001159      chr17  ENSG00000166579.15  0.222003  \n",
      "1308  UBERON:0001159      chr17  ENSG00000133026.12  0.193726  \n",
      "1309  UBERON:0001159      chr19  ENSG00000174652.17  0.876510  \n",
      "1310  UBERON:0001159      chr19   ENSG00000278611.1 -0.233214  \n",
      "1311  UBERON:0001159      chr20  ENSG00000100979.14 -0.182315  \n",
      "\n",
      "[1312 rows x 13 columns]\n"
     ]
    }
   ],
   "source": [
    "\n",
    "# list to storedata\n",
    "all_data = []\n",
    "\n",
    "for i in range(0, 9):\n",
    "    params = {\n",
    "        'tissueSiteDetailId': 'Colon_Sigmoid',\n",
    "        'variantId': sublists[i],\n",
    "        'format': 'json',\n",
    "        'datasetId': 'gtex_v8',\n",
    "        'page': 0 }\n",
    "\n",
    "    while True:\n",
    "        gene_eqtls = requests.get(url='https://gtexportal.org/api/v2/association/singleTissueEqtl', params=params)\n",
    "    \n",
    "        if gene_eqtls.status_code == 200:\n",
    "            data = gene_eqtls.json()\n",
    "            all_data.extend(data['data'])  \n",
    "        \n",
    "            # Check pages\n",
    "            paging_info = data.get('paging_info')\n",
    "            number_of_pages = paging_info.get('numberOfPages') if paging_info else 0\n",
    "        \n",
    "            if number_of_pages > params['page']:\n",
    "                params['page'] += 1 \n",
    "                gene_eqtls = requests.get(url='https://gtexportal.org/api/v2/association/singleTissueEqtl', params=params)\n",
    "            else:\n",
    "                break  \n",
    "                \n",
    "        else:\n",
    "            break\n",
    "\n",
    "colonsigmoiddf = pd.DataFrame(all_data)\n",
    "\n",
    "print(colonsigmoiddf)\n",
    "colonsigmoiddf.to_csv(\"10000variantids_colonsigmoid.csv\")"
   ]
  },
  {
   "cell_type": "code",
   "execution_count": 83,
   "id": "d73084ac-49ac-4e1f-be37-27776a48c838",
   "metadata": {
    "tags": []
   },
   "outputs": [],
   "source": [
    "colonsigmoid_genenames = colonsigmoiddf.drop_duplicates(subset=['geneSymbol'])\n",
    "colonsigmoid_genenames = colonsigmoid_genenames['geneSymbol'].tolist()"
   ]
  },
  {
   "cell_type": "code",
   "execution_count": 84,
   "id": "3455d506-7987-4e5d-ad99-7e1f60920602",
   "metadata": {
    "tags": []
   },
   "outputs": [
    {
     "data": {
      "text/plain": [
       "96"
      ]
     },
     "execution_count": 84,
     "metadata": {},
     "output_type": "execute_result"
    }
   ],
   "source": [
    "len(colonsigmoid_genenames)"
   ]
  },
  {
   "cell_type": "markdown",
   "id": "44d1b065-49bf-4b3c-82f2-294750333d8d",
   "metadata": {
    "jp-MarkdownHeadingCollapsed": true,
    "tags": []
   },
   "source": [
    "## Breast_Mammary_Tissue eqtls "
   ]
  },
  {
   "cell_type": "code",
   "execution_count": 85,
   "id": "97f72f73-23a8-4b8c-b363-f63a711b25b8",
   "metadata": {
    "tags": []
   },
   "outputs": [
    {
     "name": "stdout",
     "output_type": "stream",
     "text": [
      "           snpId        pos  snpIdUpper               variantId geneSymbol  \\\n",
      "0      rs1146626   75782330   RS1146626   chr1_75782330_G_A_b38       MSH4   \n",
      "1     rs10908456  155113672  RS10908456  chr1_155113672_G_A_b38      GBAP1   \n",
      "2      rs4303067  155114095   RS4303067  chr1_155114095_C_T_b38      GBAP1   \n",
      "3     rs10796939  155116319  RS10796939  chr1_155116319_C_T_b38      GBAP1   \n",
      "4     rs34815285  155121795  RS34815285  chr1_155121795_T_C_b38      GBAP1   \n",
      "...          ...        ...         ...                     ...        ...   \n",
      "1267    rs222851    7235919    RS222851   chr17_7235919_G_A_b38    CTDNEP1   \n",
      "1268   rs2106842    7259132   RS2106842   chr17_7259132_G_A_b38    CTDNEP1   \n",
      "1269    rs222851    7235919    RS222851   chr17_7235919_G_A_b38       ELP5   \n",
      "1270    rs222851    7235919    RS222851   chr17_7235919_G_A_b38      CLDN7   \n",
      "1271   rs2106842    7259132   RS2106842   chr17_7259132_G_A_b38      CLDN7   \n",
      "\n",
      "            pValue geneSymbolUpper datasetId     tissueSiteDetailId  \\\n",
      "0     1.052800e-06            MSH4   gtex_v8  Breast_Mammary_Tissue   \n",
      "1     4.724950e-07           GBAP1   gtex_v8  Breast_Mammary_Tissue   \n",
      "2     6.486580e-07           GBAP1   gtex_v8  Breast_Mammary_Tissue   \n",
      "3     5.670770e-07           GBAP1   gtex_v8  Breast_Mammary_Tissue   \n",
      "4     2.524600e-13           GBAP1   gtex_v8  Breast_Mammary_Tissue   \n",
      "...            ...             ...       ...                    ...   \n",
      "1267  1.449690e-07         CTDNEP1   gtex_v8  Breast_Mammary_Tissue   \n",
      "1268  9.622980e-07         CTDNEP1   gtex_v8  Breast_Mammary_Tissue   \n",
      "1269  8.534560e-06            ELP5   gtex_v8  Breast_Mammary_Tissue   \n",
      "1270  1.783740e-06           CLDN7   gtex_v8  Breast_Mammary_Tissue   \n",
      "1271  1.173830e-05           CLDN7   gtex_v8  Breast_Mammary_Tissue   \n",
      "\n",
      "          ontologyId chromosome           gencodeId       nes  \n",
      "0     UBERON:0008367       chr1   ENSG00000057468.6  0.488477  \n",
      "1     UBERON:0008367       chr1  ENSG00000160766.14 -0.216955  \n",
      "2     UBERON:0008367       chr1  ENSG00000160766.14 -0.215436  \n",
      "3     UBERON:0008367       chr1  ENSG00000160766.14 -0.224881  \n",
      "4     UBERON:0008367       chr1  ENSG00000160766.14 -0.303172  \n",
      "...              ...        ...                 ...       ...  \n",
      "1267  UBERON:0008367      chr17  ENSG00000175826.11 -0.114235  \n",
      "1268  UBERON:0008367      chr17  ENSG00000175826.11  0.107695  \n",
      "1269  UBERON:0008367      chr17  ENSG00000170291.14  0.129758  \n",
      "1270  UBERON:0008367      chr17  ENSG00000181885.18  0.120192  \n",
      "1271  UBERON:0008367      chr17  ENSG00000181885.18 -0.111591  \n",
      "\n",
      "[1272 rows x 13 columns]\n"
     ]
    }
   ],
   "source": [
    "\n",
    "# list to storedata\n",
    "all_data = []\n",
    "\n",
    "for i in range(0, 9):\n",
    "    params = {\n",
    "        'tissueSiteDetailId': 'Breast_Mammary_Tissue',\n",
    "        'variantId': sublists[i],\n",
    "        'format': 'json',\n",
    "        'datasetId': 'gtex_v8',\n",
    "        'page': 0 }\n",
    "\n",
    "    while True:\n",
    "        gene_eqtls = requests.get(url='https://gtexportal.org/api/v2/association/singleTissueEqtl', params=params)\n",
    "    \n",
    "        if gene_eqtls.status_code == 200:\n",
    "            data = gene_eqtls.json()\n",
    "            all_data.extend(data['data'])  \n",
    "        \n",
    "            # Check pages\n",
    "            paging_info = data.get('paging_info')\n",
    "            number_of_pages = paging_info.get('numberOfPages') if paging_info else 0\n",
    "        \n",
    "            if number_of_pages > params['page']:\n",
    "                params['page'] += 1 \n",
    "                gene_eqtls = requests.get(url='https://gtexportal.org/api/v2/association/singleTissueEqtl', params=params)\n",
    "            else:\n",
    "                break  \n",
    "                \n",
    "        else:\n",
    "            break\n",
    "\n",
    "breastdf = pd.DataFrame(all_data)\n",
    "\n",
    "print(breastdf)\n",
    "breastdf.to_csv(\"10000variantids_breastdf.csv\")"
   ]
  },
  {
   "cell_type": "code",
   "execution_count": 86,
   "id": "f9dc4de9-c395-423c-8af9-20576b3563a8",
   "metadata": {
    "tags": []
   },
   "outputs": [],
   "source": [
    "breast_genenames = breastdf.drop_duplicates(subset=['geneSymbol'])\n",
    "breast_genenames = breast_genenames['geneSymbol'].tolist()"
   ]
  },
  {
   "cell_type": "code",
   "execution_count": 87,
   "id": "8f4f8362-14fa-4c6c-aa75-0c46faa4dd6c",
   "metadata": {
    "tags": []
   },
   "outputs": [
    {
     "data": {
      "text/plain": [
       "77"
      ]
     },
     "execution_count": 87,
     "metadata": {},
     "output_type": "execute_result"
    }
   ],
   "source": [
    "len(breast_genenames)"
   ]
  },
  {
   "cell_type": "markdown",
   "id": "94f838a0-b6e7-4df8-a42c-c8ad23d406eb",
   "metadata": {
    "jp-MarkdownHeadingCollapsed": true,
    "tags": []
   },
   "source": [
    "## Artery_Tibial eqtls "
   ]
  },
  {
   "cell_type": "code",
   "execution_count": 88,
   "id": "8bcaf35e-bef7-49e6-b1e9-e69f3e13b597",
   "metadata": {
    "tags": []
   },
   "outputs": [
    {
     "name": "stdout",
     "output_type": "stream",
     "text": [
      "            snpId        pos   snpIdUpper               variantId  \\\n",
      "0       rs9330264  155123274    RS9330264  chr1_155123274_T_C_b38   \n",
      "1       rs6676150  155151361    RS6676150  chr1_155151361_G_C_b38   \n",
      "2       rs4971091  155171292    RS4971091  chr1_155171292_G_T_b38   \n",
      "3       rs4971093  155171824    RS4971093  chr1_155171824_G_A_b38   \n",
      "4       rs4971059  155176305    RS4971059  chr1_155176305_G_A_b38   \n",
      "...           ...        ...          ...                     ...   \n",
      "2215  rs137997526    3789792  RS137997526   chr19_3789792_T_G_b38   \n",
      "2216  rs141856297    3789793  RS141856297   chr19_3789793_C_T_b38   \n",
      "2217    rs7507261    9320829    RS7507261   chr19_9320829_G_C_b38   \n",
      "2218    rs7507261    9320829    RS7507261   chr19_9320829_G_C_b38   \n",
      "2219    rs7507261    9320829    RS7507261   chr19_9320829_G_C_b38   \n",
      "\n",
      "        geneSymbol         pValue geneSymbolUpper datasetId  \\\n",
      "0             MUC1   2.378540e-05            MUC1   gtex_v8   \n",
      "1             MUC1   8.606370e-05            MUC1   gtex_v8   \n",
      "2             MUC1   1.124180e-04            MUC1   gtex_v8   \n",
      "3             MUC1   7.837060e-05            MUC1   gtex_v8   \n",
      "4             MUC1   1.332010e-04            MUC1   gtex_v8   \n",
      "...            ...            ...             ...       ...   \n",
      "2215        MRPL54   1.581790e-06          MRPL54   gtex_v8   \n",
      "2216        MRPL54   1.581790e-06          MRPL54   gtex_v8   \n",
      "2217        ZNF559   2.211850e-06          ZNF559   gtex_v8   \n",
      "2218        ZNF266  2.554370e-117          ZNF266   gtex_v8   \n",
      "2219  CTC-543D15.8   6.955860e-05    CTC-543D15.8   gtex_v8   \n",
      "\n",
      "     tissueSiteDetailId      ontologyId chromosome           gencodeId  \\\n",
      "0         Artery_Tibial  UBERON:0007610       chr1  ENSG00000185499.16   \n",
      "1         Artery_Tibial  UBERON:0007610       chr1  ENSG00000185499.16   \n",
      "2         Artery_Tibial  UBERON:0007610       chr1  ENSG00000185499.16   \n",
      "3         Artery_Tibial  UBERON:0007610       chr1  ENSG00000185499.16   \n",
      "4         Artery_Tibial  UBERON:0007610       chr1  ENSG00000185499.16   \n",
      "...                 ...             ...        ...                 ...   \n",
      "2215      Artery_Tibial  UBERON:0007610      chr19   ENSG00000183617.4   \n",
      "2216      Artery_Tibial  UBERON:0007610      chr19   ENSG00000183617.4   \n",
      "2217      Artery_Tibial  UBERON:0007610      chr19  ENSG00000188321.13   \n",
      "2218      Artery_Tibial  UBERON:0007610      chr19  ENSG00000174652.17   \n",
      "2219      Artery_Tibial  UBERON:0007610      chr19   ENSG00000278611.1   \n",
      "\n",
      "           nes  \n",
      "0     0.130664  \n",
      "1    -0.114438  \n",
      "2     0.116585  \n",
      "3     0.119844  \n",
      "4     0.117841  \n",
      "...        ...  \n",
      "2215 -0.127717  \n",
      "2216 -0.127717  \n",
      "2217 -0.187225  \n",
      "2218  0.886135  \n",
      "2219 -0.145918  \n",
      "\n",
      "[2220 rows x 13 columns]\n"
     ]
    }
   ],
   "source": [
    "\n",
    "# list to storedata\n",
    "all_data = []\n",
    "\n",
    "for i in range(0, 9):\n",
    "    params = {\n",
    "        'tissueSiteDetailId': 'Artery_Tibial',\n",
    "        'variantId': sublists[i],\n",
    "        'format': 'json',\n",
    "        'datasetId': 'gtex_v8',\n",
    "        'page': 0 }\n",
    "\n",
    "    while True:\n",
    "        gene_eqtls = requests.get(url='https://gtexportal.org/api/v2/association/singleTissueEqtl', params=params)\n",
    "    \n",
    "        if gene_eqtls.status_code == 200:\n",
    "            data = gene_eqtls.json()\n",
    "            all_data.extend(data['data'])  \n",
    "        \n",
    "            # Check pages\n",
    "            paging_info = data.get('paging_info')\n",
    "            number_of_pages = paging_info.get('numberOfPages') if paging_info else 0\n",
    "        \n",
    "            if number_of_pages > params['page']:\n",
    "                params['page'] += 1 \n",
    "                gene_eqtls = requests.get(url='https://gtexportal.org/api/v2/association/singleTissueEqtl', params=params)\n",
    "            else:\n",
    "                break  \n",
    "                \n",
    "        else:\n",
    "            break\n",
    "\n",
    "arterytibialdf = pd.DataFrame(all_data)\n",
    "\n",
    "print(arterytibialdf)\n",
    "arterytibialdf.to_csv(\"10000variantids_arterytibialdf.csv\")"
   ]
  },
  {
   "cell_type": "code",
   "execution_count": 89,
   "id": "03c69024-8ffd-4b34-888c-c56efe740f79",
   "metadata": {
    "tags": []
   },
   "outputs": [],
   "source": [
    "arterytibial_genenames = arterytibialdf.drop_duplicates(subset=['geneSymbol'])\n",
    "arterytibial_genenames = arterytibial_genenames['geneSymbol'].tolist()"
   ]
  },
  {
   "cell_type": "code",
   "execution_count": 90,
   "id": "b3efab0e-cfa5-4818-b0c7-238685a0a2ce",
   "metadata": {
    "tags": []
   },
   "outputs": [
    {
     "data": {
      "text/plain": [
       "187"
      ]
     },
     "execution_count": 90,
     "metadata": {},
     "output_type": "execute_result"
    }
   ],
   "source": [
    "len(arterytibial_genenames)"
   ]
  },
  {
   "cell_type": "markdown",
   "id": "5016c9d2-bca7-4870-bcd1-78e38226b3e2",
   "metadata": {
    "jp-MarkdownHeadingCollapsed": true,
    "tags": []
   },
   "source": [
    "## Artery_Coronary eqtls "
   ]
  },
  {
   "cell_type": "code",
   "execution_count": 91,
   "id": "fa7b49ab-b144-4394-8bfe-02fa2e4ddacb",
   "metadata": {
    "tags": []
   },
   "outputs": [
    {
     "name": "stdout",
     "output_type": "stream",
     "text": [
      "          snpId        pos  snpIdUpper                variantId  \\\n",
      "0     rs4971066  155133406   RS4971066   chr1_155133406_T_G_b38   \n",
      "1     rs4440846  155158322   RS4440846   chr1_155158322_C_T_b38   \n",
      "2     rs7366138  155115874   RS7366138   chr1_155115874_G_A_b38   \n",
      "3    rs12145362  155121537  RS12145362   chr1_155121537_C_A_b38   \n",
      "4    rs11807418  155122129  RS11807418   chr1_155122129_A_T_b38   \n",
      "..          ...        ...         ...                      ...   \n",
      "855  rs17532584   68896954  RS17532584   chr11_68896954_G_A_b38   \n",
      "856  rs12817066  121904721  RS12817066  chr12_121904721_G_A_b38   \n",
      "857  rs28424072   55781463  RS28424072   chr16_55781463_G_A_b38   \n",
      "858  rs28424072   55781463  RS28424072   chr16_55781463_G_A_b38   \n",
      "859   rs7507261    9320829   RS7507261    chr19_9320829_G_C_b38   \n",
      "\n",
      "        geneSymbol        pValue geneSymbolUpper datasetId tissueSiteDetailId  \\\n",
      "0    RP11-263K19.6  1.852280e-05   RP11-263K19.6   gtex_v8    Artery_Coronary   \n",
      "1    RP11-263K19.6  3.314140e-06   RP11-263K19.6   gtex_v8    Artery_Coronary   \n",
      "2            GBAP1  1.680330e-10           GBAP1   gtex_v8    Artery_Coronary   \n",
      "3            GBAP1  9.290350e-10           GBAP1   gtex_v8    Artery_Coronary   \n",
      "4            GBAP1  9.290350e-10           GBAP1   gtex_v8    Artery_Coronary   \n",
      "..             ...           ...             ...       ...                ...   \n",
      "855        IGHMBP2  4.044730e-07         IGHMBP2   gtex_v8    Artery_Coronary   \n",
      "856          WDR66  4.486800e-11           WDR66   gtex_v8    Artery_Coronary   \n",
      "857         CES1P1  4.753110e-08          CES1P1   gtex_v8    Artery_Coronary   \n",
      "858           CES1  1.533710e-05            CES1   gtex_v8    Artery_Coronary   \n",
      "859         ZNF266  2.545100e-44          ZNF266   gtex_v8    Artery_Coronary   \n",
      "\n",
      "         ontologyId chromosome           gencodeId       nes  \n",
      "0    UBERON:0001621       chr1   ENSG00000236263.1  0.478718  \n",
      "1    UBERON:0001621       chr1   ENSG00000236263.1  0.533089  \n",
      "2    UBERON:0001621       chr1  ENSG00000160766.14 -0.346212  \n",
      "3    UBERON:0001621       chr1  ENSG00000160766.14 -0.332110  \n",
      "4    UBERON:0001621       chr1  ENSG00000160766.14 -0.332110  \n",
      "..              ...        ...                 ...       ...  \n",
      "855  UBERON:0001621      chr11   ENSG00000132740.8 -0.320950  \n",
      "856  UBERON:0001621      chr12   ENSG00000158023.9 -0.471639  \n",
      "857  UBERON:0001621      chr16  ENSG00000228695.10  0.916136  \n",
      "858  UBERON:0001621      chr16  ENSG00000198848.12  0.606631  \n",
      "859  UBERON:0001621      chr19  ENSG00000174652.17  0.859042  \n",
      "\n",
      "[860 rows x 13 columns]\n"
     ]
    }
   ],
   "source": [
    "\n",
    "# list to storedata\n",
    "all_data = []\n",
    "\n",
    "for i in range(0, 9):\n",
    "    params = {\n",
    "        'tissueSiteDetailId': 'Artery_Coronary',\n",
    "        'variantId': sublists[i],\n",
    "        'format': 'json',\n",
    "        'datasetId': 'gtex_v8',\n",
    "        'page': 0 }\n",
    "\n",
    "    while True:\n",
    "        gene_eqtls = requests.get(url='https://gtexportal.org/api/v2/association/singleTissueEqtl', params=params)\n",
    "    \n",
    "        if gene_eqtls.status_code == 200:\n",
    "            data = gene_eqtls.json()\n",
    "            all_data.extend(data['data'])  \n",
    "        \n",
    "            # Check pages\n",
    "            paging_info = data.get('paging_info')\n",
    "            number_of_pages = paging_info.get('numberOfPages') if paging_info else 0\n",
    "        \n",
    "            if number_of_pages > params['page']:\n",
    "                params['page'] += 1 \n",
    "                gene_eqtls = requests.get(url='https://gtexportal.org/api/v2/association/singleTissueEqtl', params=params)\n",
    "            else:\n",
    "                break  \n",
    "                \n",
    "        else:\n",
    "            break\n",
    "\n",
    "arterycoronarydf = pd.DataFrame(all_data)\n",
    "\n",
    "print(arterycoronarydf)\n",
    "arterycoronarydf.to_csv(\"10000variantids_arterycoronarydf.csv\")"
   ]
  },
  {
   "cell_type": "code",
   "execution_count": 92,
   "id": "7889a27a-ca17-4914-9e16-9a87e2d29f79",
   "metadata": {
    "tags": []
   },
   "outputs": [],
   "source": [
    "arterycoronary_genenames = arterycoronarydf.drop_duplicates(subset=['geneSymbol'])\n",
    "arterycoronary_genenames = arterycoronary_genenames['geneSymbol'].tolist()"
   ]
  },
  {
   "cell_type": "code",
   "execution_count": 93,
   "id": "b7c4c6c3-0833-4687-b826-4a78456dd299",
   "metadata": {
    "tags": []
   },
   "outputs": [
    {
     "data": {
      "text/plain": [
       "54"
      ]
     },
     "execution_count": 93,
     "metadata": {},
     "output_type": "execute_result"
    }
   ],
   "source": [
    "len(arterycoronary_genenames)"
   ]
  },
  {
   "cell_type": "markdown",
   "id": "8fb979d0-44ca-4c43-9f36-8941dffba916",
   "metadata": {
    "jp-MarkdownHeadingCollapsed": true,
    "tags": []
   },
   "source": [
    "## Artery_Aorta eqtls "
   ]
  },
  {
   "cell_type": "code",
   "execution_count": 94,
   "id": "016f326b-13e5-41eb-b5be-34d15cc84caf",
   "metadata": {
    "tags": []
   },
   "outputs": [
    {
     "name": "stdout",
     "output_type": "stream",
     "text": [
      "           snpId        pos  snpIdUpper                variantId  \\\n",
      "0     rs11264333  155135811  RS11264333   chr1_155135811_G_A_b38   \n",
      "1      rs4246529  155142784   RS4246529   chr1_155142784_T_C_b38   \n",
      "2     rs10157801  155147536  RS10157801   chr1_155147536_A_G_b38   \n",
      "3     rs11799962  155149251  RS11799962   chr1_155149251_T_C_b38   \n",
      "4      rs7364524  155149446   RS7364524   chr1_155149446_A_G_b38   \n",
      "...          ...        ...         ...                      ...   \n",
      "1811  rs12817066  121904721  RS12817066  chr12_121904721_G_A_b38   \n",
      "1812  rs28424072   55781463  RS28424072   chr16_55781463_G_A_b38   \n",
      "1813  rs28424072   55781463  RS28424072   chr16_55781463_G_A_b38   \n",
      "1814   rs7507261    9320829   RS7507261    chr19_9320829_G_C_b38   \n",
      "1815   rs7507261    9320829   RS7507261    chr19_9320829_G_C_b38   \n",
      "\n",
      "         geneSymbol        pValue geneSymbolUpper datasetId  \\\n",
      "0             EFNA1  7.800170e-05           EFNA1   gtex_v8   \n",
      "1             EFNA1  9.271650e-05           EFNA1   gtex_v8   \n",
      "2             EFNA1  9.271650e-05           EFNA1   gtex_v8   \n",
      "3             EFNA1  1.026680e-04           EFNA1   gtex_v8   \n",
      "4             EFNA1  1.026680e-04           EFNA1   gtex_v8   \n",
      "...             ...           ...             ...       ...   \n",
      "1811          WDR66  8.915400e-11           WDR66   gtex_v8   \n",
      "1812         CES1P1  3.724280e-14          CES1P1   gtex_v8   \n",
      "1813           CES1  1.226170e-07            CES1   gtex_v8   \n",
      "1814         ZNF266  1.230260e-75          ZNF266   gtex_v8   \n",
      "1815  CTD-3116E22.8  3.096720e-05   CTD-3116E22.8   gtex_v8   \n",
      "\n",
      "     tissueSiteDetailId      ontologyId chromosome           gencodeId  \\\n",
      "0          Artery_Aorta  UBERON:0001496       chr1  ENSG00000169242.11   \n",
      "1          Artery_Aorta  UBERON:0001496       chr1  ENSG00000169242.11   \n",
      "2          Artery_Aorta  UBERON:0001496       chr1  ENSG00000169242.11   \n",
      "3          Artery_Aorta  UBERON:0001496       chr1  ENSG00000169242.11   \n",
      "4          Artery_Aorta  UBERON:0001496       chr1  ENSG00000169242.11   \n",
      "...                 ...             ...        ...                 ...   \n",
      "1811       Artery_Aorta  UBERON:0001496      chr12   ENSG00000158023.9   \n",
      "1812       Artery_Aorta  UBERON:0001496      chr16  ENSG00000228695.10   \n",
      "1813       Artery_Aorta  UBERON:0001496      chr16  ENSG00000198848.12   \n",
      "1814       Artery_Aorta  UBERON:0001496      chr19  ENSG00000174652.17   \n",
      "1815       Artery_Aorta  UBERON:0001496      chr19   ENSG00000277587.1   \n",
      "\n",
      "           nes  \n",
      "0    -0.132943  \n",
      "1    -0.132417  \n",
      "2    -0.132417  \n",
      "3    -0.132082  \n",
      "4    -0.132082  \n",
      "...        ...  \n",
      "1811 -0.320764  \n",
      "1812  0.991496  \n",
      "1813  0.664010  \n",
      "1814  0.899958  \n",
      "1815  0.239548  \n",
      "\n",
      "[1816 rows x 13 columns]\n"
     ]
    }
   ],
   "source": [
    "\n",
    "# list to storedata\n",
    "all_data = []\n",
    "\n",
    "for i in range(0, 9):\n",
    "    params = {\n",
    "        'tissueSiteDetailId': 'Artery_Aorta',\n",
    "        'variantId': sublists[i],\n",
    "        'format': 'json',\n",
    "        'datasetId': 'gtex_v8',\n",
    "        'page': 0 }\n",
    "\n",
    "    while True:\n",
    "        gene_eqtls = requests.get(url='https://gtexportal.org/api/v2/association/singleTissueEqtl', params=params)\n",
    "    \n",
    "        if gene_eqtls.status_code == 200:\n",
    "            data = gene_eqtls.json()\n",
    "            all_data.extend(data['data'])  \n",
    "        \n",
    "            # Check pages\n",
    "            paging_info = data.get('paging_info')\n",
    "            number_of_pages = paging_info.get('numberOfPages') if paging_info else 0\n",
    "        \n",
    "            if number_of_pages > params['page']:\n",
    "                params['page'] += 1 \n",
    "                gene_eqtls = requests.get(url='https://gtexportal.org/api/v2/association/singleTissueEqtl', params=params)\n",
    "            else:\n",
    "                break  \n",
    "                \n",
    "        else:\n",
    "            break\n",
    "\n",
    "arteryaortadf = pd.DataFrame(all_data)\n",
    "\n",
    "print(arteryaortadf)\n",
    "arteryaortadf.to_csv(\"10000variantids_arteryaortadf.csv\")"
   ]
  },
  {
   "cell_type": "code",
   "execution_count": 95,
   "id": "4fa1aa46-4772-4920-8681-b2271f5d1618",
   "metadata": {
    "tags": []
   },
   "outputs": [],
   "source": [
    "arteryaorta_genenames = arteryaortadf.drop_duplicates(subset=['geneSymbol'])\n",
    "arteryaorta_genenames = arteryaorta_genenames['geneSymbol'].tolist()"
   ]
  },
  {
   "cell_type": "code",
   "execution_count": 96,
   "id": "a56a2e54-b121-41c2-ac96-9c252628a6bc",
   "metadata": {
    "tags": []
   },
   "outputs": [
    {
     "data": {
      "text/plain": [
       "128"
      ]
     },
     "execution_count": 96,
     "metadata": {},
     "output_type": "execute_result"
    }
   ],
   "source": [
    "len(arteryaorta_genenames)"
   ]
  },
  {
   "cell_type": "markdown",
   "id": "9db999d1-83f1-43ea-9ea4-5c1b9dca537b",
   "metadata": {
    "tags": []
   },
   "source": [
    "# combine all Dfs and plotting "
   ]
  },
  {
   "cell_type": "code",
   "execution_count": 97,
   "id": "cac22add-514f-41fa-9a0d-14c6d72aefb2",
   "metadata": {
    "tags": []
   },
   "outputs": [
    {
     "data": {
      "text/html": [
       "<div>\n",
       "<style scoped>\n",
       "    .dataframe tbody tr th:only-of-type {\n",
       "        vertical-align: middle;\n",
       "    }\n",
       "\n",
       "    .dataframe tbody tr th {\n",
       "        vertical-align: top;\n",
       "    }\n",
       "\n",
       "    .dataframe thead th {\n",
       "        text-align: right;\n",
       "    }\n",
       "</style>\n",
       "<table border=\"1\" class=\"dataframe\">\n",
       "  <thead>\n",
       "    <tr style=\"text-align: right;\">\n",
       "      <th></th>\n",
       "      <th>snpId</th>\n",
       "      <th>pos</th>\n",
       "      <th>snpIdUpper</th>\n",
       "      <th>variantId</th>\n",
       "      <th>geneSymbol</th>\n",
       "      <th>pValue</th>\n",
       "      <th>geneSymbolUpper</th>\n",
       "      <th>datasetId</th>\n",
       "      <th>tissueSiteDetailId</th>\n",
       "      <th>ontologyId</th>\n",
       "      <th>chromosome</th>\n",
       "      <th>gencodeId</th>\n",
       "      <th>nes</th>\n",
       "    </tr>\n",
       "  </thead>\n",
       "  <tbody>\n",
       "    <tr>\n",
       "      <th>0</th>\n",
       "      <td>rs4971066</td>\n",
       "      <td>155133406</td>\n",
       "      <td>RS4971066</td>\n",
       "      <td>chr1_155133406_T_G_b38</td>\n",
       "      <td>DCST1-AS1</td>\n",
       "      <td>5.759650e-05</td>\n",
       "      <td>DCST1-AS1</td>\n",
       "      <td>gtex_v8</td>\n",
       "      <td>Whole_Blood</td>\n",
       "      <td>UBERON:0013756</td>\n",
       "      <td>chr1</td>\n",
       "      <td>ENSG00000232093.1</td>\n",
       "      <td>-0.258581</td>\n",
       "    </tr>\n",
       "    <tr>\n",
       "      <th>1</th>\n",
       "      <td>rs4440846</td>\n",
       "      <td>155158322</td>\n",
       "      <td>RS4440846</td>\n",
       "      <td>chr1_155158322_C_T_b38</td>\n",
       "      <td>DCST1-AS1</td>\n",
       "      <td>1.022150e-04</td>\n",
       "      <td>DCST1-AS1</td>\n",
       "      <td>gtex_v8</td>\n",
       "      <td>Whole_Blood</td>\n",
       "      <td>UBERON:0013756</td>\n",
       "      <td>chr1</td>\n",
       "      <td>ENSG00000232093.1</td>\n",
       "      <td>-0.253698</td>\n",
       "    </tr>\n",
       "    <tr>\n",
       "      <th>2</th>\n",
       "      <td>rs9330264</td>\n",
       "      <td>155123274</td>\n",
       "      <td>RS9330264</td>\n",
       "      <td>chr1_155123274_T_C_b38</td>\n",
       "      <td>ADAM15</td>\n",
       "      <td>2.614310e-06</td>\n",
       "      <td>ADAM15</td>\n",
       "      <td>gtex_v8</td>\n",
       "      <td>Whole_Blood</td>\n",
       "      <td>UBERON:0013756</td>\n",
       "      <td>chr1</td>\n",
       "      <td>ENSG00000143537.13</td>\n",
       "      <td>-0.134893</td>\n",
       "    </tr>\n",
       "    <tr>\n",
       "      <th>3</th>\n",
       "      <td>rs6676150</td>\n",
       "      <td>155151361</td>\n",
       "      <td>RS6676150</td>\n",
       "      <td>chr1_155151361_G_C_b38</td>\n",
       "      <td>ADAM15</td>\n",
       "      <td>3.436060e-06</td>\n",
       "      <td>ADAM15</td>\n",
       "      <td>gtex_v8</td>\n",
       "      <td>Whole_Blood</td>\n",
       "      <td>UBERON:0013756</td>\n",
       "      <td>chr1</td>\n",
       "      <td>ENSG00000143537.13</td>\n",
       "      <td>0.127311</td>\n",
       "    </tr>\n",
       "    <tr>\n",
       "      <th>4</th>\n",
       "      <td>rs7535292</td>\n",
       "      <td>155155273</td>\n",
       "      <td>RS7535292</td>\n",
       "      <td>chr1_155155273_T_C_b38</td>\n",
       "      <td>ADAM15</td>\n",
       "      <td>3.810050e-06</td>\n",
       "      <td>ADAM15</td>\n",
       "      <td>gtex_v8</td>\n",
       "      <td>Whole_Blood</td>\n",
       "      <td>UBERON:0013756</td>\n",
       "      <td>chr1</td>\n",
       "      <td>ENSG00000143537.13</td>\n",
       "      <td>-0.129093</td>\n",
       "    </tr>\n",
       "    <tr>\n",
       "      <th>...</th>\n",
       "      <td>...</td>\n",
       "      <td>...</td>\n",
       "      <td>...</td>\n",
       "      <td>...</td>\n",
       "      <td>...</td>\n",
       "      <td>...</td>\n",
       "      <td>...</td>\n",
       "      <td>...</td>\n",
       "      <td>...</td>\n",
       "      <td>...</td>\n",
       "      <td>...</td>\n",
       "      <td>...</td>\n",
       "      <td>...</td>\n",
       "    </tr>\n",
       "    <tr>\n",
       "      <th>1811</th>\n",
       "      <td>rs12817066</td>\n",
       "      <td>121904721</td>\n",
       "      <td>RS12817066</td>\n",
       "      <td>chr12_121904721_G_A_b38</td>\n",
       "      <td>WDR66</td>\n",
       "      <td>8.915400e-11</td>\n",
       "      <td>WDR66</td>\n",
       "      <td>gtex_v8</td>\n",
       "      <td>Artery_Aorta</td>\n",
       "      <td>UBERON:0001496</td>\n",
       "      <td>chr12</td>\n",
       "      <td>ENSG00000158023.9</td>\n",
       "      <td>-0.320764</td>\n",
       "    </tr>\n",
       "    <tr>\n",
       "      <th>1812</th>\n",
       "      <td>rs28424072</td>\n",
       "      <td>55781463</td>\n",
       "      <td>RS28424072</td>\n",
       "      <td>chr16_55781463_G_A_b38</td>\n",
       "      <td>CES1P1</td>\n",
       "      <td>3.724280e-14</td>\n",
       "      <td>CES1P1</td>\n",
       "      <td>gtex_v8</td>\n",
       "      <td>Artery_Aorta</td>\n",
       "      <td>UBERON:0001496</td>\n",
       "      <td>chr16</td>\n",
       "      <td>ENSG00000228695.10</td>\n",
       "      <td>0.991496</td>\n",
       "    </tr>\n",
       "    <tr>\n",
       "      <th>1813</th>\n",
       "      <td>rs28424072</td>\n",
       "      <td>55781463</td>\n",
       "      <td>RS28424072</td>\n",
       "      <td>chr16_55781463_G_A_b38</td>\n",
       "      <td>CES1</td>\n",
       "      <td>1.226170e-07</td>\n",
       "      <td>CES1</td>\n",
       "      <td>gtex_v8</td>\n",
       "      <td>Artery_Aorta</td>\n",
       "      <td>UBERON:0001496</td>\n",
       "      <td>chr16</td>\n",
       "      <td>ENSG00000198848.12</td>\n",
       "      <td>0.664010</td>\n",
       "    </tr>\n",
       "    <tr>\n",
       "      <th>1814</th>\n",
       "      <td>rs7507261</td>\n",
       "      <td>9320829</td>\n",
       "      <td>RS7507261</td>\n",
       "      <td>chr19_9320829_G_C_b38</td>\n",
       "      <td>ZNF266</td>\n",
       "      <td>1.230260e-75</td>\n",
       "      <td>ZNF266</td>\n",
       "      <td>gtex_v8</td>\n",
       "      <td>Artery_Aorta</td>\n",
       "      <td>UBERON:0001496</td>\n",
       "      <td>chr19</td>\n",
       "      <td>ENSG00000174652.17</td>\n",
       "      <td>0.899958</td>\n",
       "    </tr>\n",
       "    <tr>\n",
       "      <th>1815</th>\n",
       "      <td>rs7507261</td>\n",
       "      <td>9320829</td>\n",
       "      <td>RS7507261</td>\n",
       "      <td>chr19_9320829_G_C_b38</td>\n",
       "      <td>CTD-3116E22.8</td>\n",
       "      <td>3.096720e-05</td>\n",
       "      <td>CTD-3116E22.8</td>\n",
       "      <td>gtex_v8</td>\n",
       "      <td>Artery_Aorta</td>\n",
       "      <td>UBERON:0001496</td>\n",
       "      <td>chr19</td>\n",
       "      <td>ENSG00000277587.1</td>\n",
       "      <td>0.239548</td>\n",
       "    </tr>\n",
       "  </tbody>\n",
       "</table>\n",
       "<p>38776 rows × 13 columns</p>\n",
       "</div>"
      ],
      "text/plain": [
       "           snpId        pos  snpIdUpper                variantId  \\\n",
       "0      rs4971066  155133406   RS4971066   chr1_155133406_T_G_b38   \n",
       "1      rs4440846  155158322   RS4440846   chr1_155158322_C_T_b38   \n",
       "2      rs9330264  155123274   RS9330264   chr1_155123274_T_C_b38   \n",
       "3      rs6676150  155151361   RS6676150   chr1_155151361_G_C_b38   \n",
       "4      rs7535292  155155273   RS7535292   chr1_155155273_T_C_b38   \n",
       "...          ...        ...         ...                      ...   \n",
       "1811  rs12817066  121904721  RS12817066  chr12_121904721_G_A_b38   \n",
       "1812  rs28424072   55781463  RS28424072   chr16_55781463_G_A_b38   \n",
       "1813  rs28424072   55781463  RS28424072   chr16_55781463_G_A_b38   \n",
       "1814   rs7507261    9320829   RS7507261    chr19_9320829_G_C_b38   \n",
       "1815   rs7507261    9320829   RS7507261    chr19_9320829_G_C_b38   \n",
       "\n",
       "         geneSymbol        pValue geneSymbolUpper datasetId  \\\n",
       "0         DCST1-AS1  5.759650e-05       DCST1-AS1   gtex_v8   \n",
       "1         DCST1-AS1  1.022150e-04       DCST1-AS1   gtex_v8   \n",
       "2            ADAM15  2.614310e-06          ADAM15   gtex_v8   \n",
       "3            ADAM15  3.436060e-06          ADAM15   gtex_v8   \n",
       "4            ADAM15  3.810050e-06          ADAM15   gtex_v8   \n",
       "...             ...           ...             ...       ...   \n",
       "1811          WDR66  8.915400e-11           WDR66   gtex_v8   \n",
       "1812         CES1P1  3.724280e-14          CES1P1   gtex_v8   \n",
       "1813           CES1  1.226170e-07            CES1   gtex_v8   \n",
       "1814         ZNF266  1.230260e-75          ZNF266   gtex_v8   \n",
       "1815  CTD-3116E22.8  3.096720e-05   CTD-3116E22.8   gtex_v8   \n",
       "\n",
       "     tissueSiteDetailId      ontologyId chromosome           gencodeId  \\\n",
       "0           Whole_Blood  UBERON:0013756       chr1   ENSG00000232093.1   \n",
       "1           Whole_Blood  UBERON:0013756       chr1   ENSG00000232093.1   \n",
       "2           Whole_Blood  UBERON:0013756       chr1  ENSG00000143537.13   \n",
       "3           Whole_Blood  UBERON:0013756       chr1  ENSG00000143537.13   \n",
       "4           Whole_Blood  UBERON:0013756       chr1  ENSG00000143537.13   \n",
       "...                 ...             ...        ...                 ...   \n",
       "1811       Artery_Aorta  UBERON:0001496      chr12   ENSG00000158023.9   \n",
       "1812       Artery_Aorta  UBERON:0001496      chr16  ENSG00000228695.10   \n",
       "1813       Artery_Aorta  UBERON:0001496      chr16  ENSG00000198848.12   \n",
       "1814       Artery_Aorta  UBERON:0001496      chr19  ENSG00000174652.17   \n",
       "1815       Artery_Aorta  UBERON:0001496      chr19   ENSG00000277587.1   \n",
       "\n",
       "           nes  \n",
       "0    -0.258581  \n",
       "1    -0.253698  \n",
       "2    -0.134893  \n",
       "3     0.127311  \n",
       "4    -0.129093  \n",
       "...        ...  \n",
       "1811 -0.320764  \n",
       "1812  0.991496  \n",
       "1813  0.664010  \n",
       "1814  0.899958  \n",
       "1815  0.239548  \n",
       "\n",
       "[38776 rows x 13 columns]"
      ]
     },
     "execution_count": 97,
     "metadata": {},
     "output_type": "execute_result"
    }
   ],
   "source": [
    "alltissueeqtls=pd.concat([wholeblooddf, vaginadf, uterusdf, ovarydf, pituitarydf, adiposesubcdf, adiposeviscdf, adrenalglanddf, thyroiddf, stomachdf, spleendf, smallintestinedf, pancreasdf, muscledf, salivarydf, lungdf, liverdf, kidneydf, heartventricledf, esophagusmuscularisdf, esophagusmucosadf, esophagusGEJdf, colontransversedf, colonsigmoiddf, breastdf, arterytibialdf, arterycoronarydf, arteryaortadf], axis=0)\n",
    "alltissueeqtls"
   ]
  },
  {
   "cell_type": "code",
   "execution_count": 62,
   "id": "f1304605-c121-4d4c-9839-c23fbf27b215",
   "metadata": {
    "tags": []
   },
   "outputs": [],
   "source": [
    "alltissueeqtls.to_csv(\"10000alltissueeqtls.csv\")\n",
    "alltissue_genenames.to_csv(\"10000alltissuegenenames.csv\")"
   ]
  },
  {
   "cell_type": "code",
   "execution_count": 141,
   "id": "2273856b-a4f6-4b27-b0fc-0ce23f35f182",
   "metadata": {
    "tags": []
   },
   "outputs": [
    {
     "data": {
      "text/plain": [
       "615"
      ]
     },
     "execution_count": 141,
     "metadata": {},
     "output_type": "execute_result"
    }
   ],
   "source": [
    "alltissue_genenames = alltissueeqtls.drop_duplicates(subset=['geneSymbol'])\n",
    "alltissue_genenameslist = alltissue_genenames['geneSymbol'].tolist()\n",
    "len(alltissue_genenameslist)"
   ]
  },
  {
   "cell_type": "code",
   "execution_count": 98,
   "id": "bcfed8c9-e136-4745-9429-df5921a2be49",
   "metadata": {
    "tags": []
   },
   "outputs": [],
   "source": [
    "alltissueeqtls.to_csv(\"2fullgtexalltissueeqtls.csv\")"
   ]
  },
  {
   "cell_type": "code",
   "execution_count": 142,
   "id": "a9786478-7fe2-40ce-bd25-8cb611230926",
   "metadata": {
    "tags": []
   },
   "outputs": [],
   "source": [
    "alltissue_genenameslist.to_csv(\"2fullgtextissuegenenames.csv\")"
   ]
  },
  {
   "cell_type": "markdown",
   "id": "ed942d04-9f5d-4a46-8d77-12c33a3982ac",
   "metadata": {},
   "source": [
    "## linking gwas variant IDS "
   ]
  },
  {
   "cell_type": "code",
   "execution_count": 2,
   "id": "d78f58fb-6502-4547-8f9a-a6d210037809",
   "metadata": {
    "tags": []
   },
   "outputs": [],
   "source": [
    "#read all eqtls from all tissues data\n",
    "\n",
    "alltissueeqtls = pd.read_csv(\"2fullgtexalltissueeqtls.csv\")"
   ]
  },
  {
   "cell_type": "code",
   "execution_count": 7,
   "id": "aeabf53d-8496-40f5-b5ad-2c4eca0d30b2",
   "metadata": {
    "tags": []
   },
   "outputs": [
    {
     "data": {
      "text/html": [
       "<div>\n",
       "<style scoped>\n",
       "    .dataframe tbody tr th:only-of-type {\n",
       "        vertical-align: middle;\n",
       "    }\n",
       "\n",
       "    .dataframe tbody tr th {\n",
       "        vertical-align: top;\n",
       "    }\n",
       "\n",
       "    .dataframe thead th {\n",
       "        text-align: right;\n",
       "    }\n",
       "</style>\n",
       "<table border=\"1\" class=\"dataframe\">\n",
       "  <thead>\n",
       "    <tr style=\"text-align: right;\">\n",
       "      <th></th>\n",
       "      <th>Unnamed: 0</th>\n",
       "      <th>snpId</th>\n",
       "      <th>pos</th>\n",
       "      <th>snpIdUpper</th>\n",
       "      <th>variantId</th>\n",
       "      <th>geneSymbol</th>\n",
       "      <th>pValue</th>\n",
       "      <th>geneSymbolUpper</th>\n",
       "      <th>datasetId</th>\n",
       "      <th>tissueSiteDetailId</th>\n",
       "      <th>ontologyId</th>\n",
       "      <th>chromosome</th>\n",
       "      <th>gencodeId</th>\n",
       "      <th>nes</th>\n",
       "    </tr>\n",
       "  </thead>\n",
       "  <tbody>\n",
       "    <tr>\n",
       "      <th>0</th>\n",
       "      <td>0</td>\n",
       "      <td>rs4971066</td>\n",
       "      <td>155133406</td>\n",
       "      <td>RS4971066</td>\n",
       "      <td>chr1_155133406_T_G_b38</td>\n",
       "      <td>DCST1-AS1</td>\n",
       "      <td>5.759650e-05</td>\n",
       "      <td>DCST1-AS1</td>\n",
       "      <td>gtex_v8</td>\n",
       "      <td>Whole_Blood</td>\n",
       "      <td>UBERON:0013756</td>\n",
       "      <td>chr1</td>\n",
       "      <td>ENSG00000232093.1</td>\n",
       "      <td>-0.258581</td>\n",
       "    </tr>\n",
       "    <tr>\n",
       "      <th>1</th>\n",
       "      <td>1</td>\n",
       "      <td>rs4440846</td>\n",
       "      <td>155158322</td>\n",
       "      <td>RS4440846</td>\n",
       "      <td>chr1_155158322_C_T_b38</td>\n",
       "      <td>DCST1-AS1</td>\n",
       "      <td>1.022150e-04</td>\n",
       "      <td>DCST1-AS1</td>\n",
       "      <td>gtex_v8</td>\n",
       "      <td>Whole_Blood</td>\n",
       "      <td>UBERON:0013756</td>\n",
       "      <td>chr1</td>\n",
       "      <td>ENSG00000232093.1</td>\n",
       "      <td>-0.253698</td>\n",
       "    </tr>\n",
       "    <tr>\n",
       "      <th>2</th>\n",
       "      <td>2</td>\n",
       "      <td>rs9330264</td>\n",
       "      <td>155123274</td>\n",
       "      <td>RS9330264</td>\n",
       "      <td>chr1_155123274_T_C_b38</td>\n",
       "      <td>ADAM15</td>\n",
       "      <td>2.614310e-06</td>\n",
       "      <td>ADAM15</td>\n",
       "      <td>gtex_v8</td>\n",
       "      <td>Whole_Blood</td>\n",
       "      <td>UBERON:0013756</td>\n",
       "      <td>chr1</td>\n",
       "      <td>ENSG00000143537.13</td>\n",
       "      <td>-0.134893</td>\n",
       "    </tr>\n",
       "    <tr>\n",
       "      <th>3</th>\n",
       "      <td>3</td>\n",
       "      <td>rs6676150</td>\n",
       "      <td>155151361</td>\n",
       "      <td>RS6676150</td>\n",
       "      <td>chr1_155151361_G_C_b38</td>\n",
       "      <td>ADAM15</td>\n",
       "      <td>3.436060e-06</td>\n",
       "      <td>ADAM15</td>\n",
       "      <td>gtex_v8</td>\n",
       "      <td>Whole_Blood</td>\n",
       "      <td>UBERON:0013756</td>\n",
       "      <td>chr1</td>\n",
       "      <td>ENSG00000143537.13</td>\n",
       "      <td>0.127311</td>\n",
       "    </tr>\n",
       "    <tr>\n",
       "      <th>4</th>\n",
       "      <td>4</td>\n",
       "      <td>rs7535292</td>\n",
       "      <td>155155273</td>\n",
       "      <td>RS7535292</td>\n",
       "      <td>chr1_155155273_T_C_b38</td>\n",
       "      <td>ADAM15</td>\n",
       "      <td>3.810050e-06</td>\n",
       "      <td>ADAM15</td>\n",
       "      <td>gtex_v8</td>\n",
       "      <td>Whole_Blood</td>\n",
       "      <td>UBERON:0013756</td>\n",
       "      <td>chr1</td>\n",
       "      <td>ENSG00000143537.13</td>\n",
       "      <td>-0.129093</td>\n",
       "    </tr>\n",
       "    <tr>\n",
       "      <th>...</th>\n",
       "      <td>...</td>\n",
       "      <td>...</td>\n",
       "      <td>...</td>\n",
       "      <td>...</td>\n",
       "      <td>...</td>\n",
       "      <td>...</td>\n",
       "      <td>...</td>\n",
       "      <td>...</td>\n",
       "      <td>...</td>\n",
       "      <td>...</td>\n",
       "      <td>...</td>\n",
       "      <td>...</td>\n",
       "      <td>...</td>\n",
       "      <td>...</td>\n",
       "    </tr>\n",
       "    <tr>\n",
       "      <th>38771</th>\n",
       "      <td>1811</td>\n",
       "      <td>rs12817066</td>\n",
       "      <td>121904721</td>\n",
       "      <td>RS12817066</td>\n",
       "      <td>chr12_121904721_G_A_b38</td>\n",
       "      <td>WDR66</td>\n",
       "      <td>8.915400e-11</td>\n",
       "      <td>WDR66</td>\n",
       "      <td>gtex_v8</td>\n",
       "      <td>Artery_Aorta</td>\n",
       "      <td>UBERON:0001496</td>\n",
       "      <td>chr12</td>\n",
       "      <td>ENSG00000158023.9</td>\n",
       "      <td>-0.320764</td>\n",
       "    </tr>\n",
       "    <tr>\n",
       "      <th>38772</th>\n",
       "      <td>1812</td>\n",
       "      <td>rs28424072</td>\n",
       "      <td>55781463</td>\n",
       "      <td>RS28424072</td>\n",
       "      <td>chr16_55781463_G_A_b38</td>\n",
       "      <td>CES1P1</td>\n",
       "      <td>3.724280e-14</td>\n",
       "      <td>CES1P1</td>\n",
       "      <td>gtex_v8</td>\n",
       "      <td>Artery_Aorta</td>\n",
       "      <td>UBERON:0001496</td>\n",
       "      <td>chr16</td>\n",
       "      <td>ENSG00000228695.10</td>\n",
       "      <td>0.991496</td>\n",
       "    </tr>\n",
       "    <tr>\n",
       "      <th>38773</th>\n",
       "      <td>1813</td>\n",
       "      <td>rs28424072</td>\n",
       "      <td>55781463</td>\n",
       "      <td>RS28424072</td>\n",
       "      <td>chr16_55781463_G_A_b38</td>\n",
       "      <td>CES1</td>\n",
       "      <td>1.226170e-07</td>\n",
       "      <td>CES1</td>\n",
       "      <td>gtex_v8</td>\n",
       "      <td>Artery_Aorta</td>\n",
       "      <td>UBERON:0001496</td>\n",
       "      <td>chr16</td>\n",
       "      <td>ENSG00000198848.12</td>\n",
       "      <td>0.664010</td>\n",
       "    </tr>\n",
       "    <tr>\n",
       "      <th>38774</th>\n",
       "      <td>1814</td>\n",
       "      <td>rs7507261</td>\n",
       "      <td>9320829</td>\n",
       "      <td>RS7507261</td>\n",
       "      <td>chr19_9320829_G_C_b38</td>\n",
       "      <td>ZNF266</td>\n",
       "      <td>1.230260e-75</td>\n",
       "      <td>ZNF266</td>\n",
       "      <td>gtex_v8</td>\n",
       "      <td>Artery_Aorta</td>\n",
       "      <td>UBERON:0001496</td>\n",
       "      <td>chr19</td>\n",
       "      <td>ENSG00000174652.17</td>\n",
       "      <td>0.899958</td>\n",
       "    </tr>\n",
       "    <tr>\n",
       "      <th>38775</th>\n",
       "      <td>1815</td>\n",
       "      <td>rs7507261</td>\n",
       "      <td>9320829</td>\n",
       "      <td>RS7507261</td>\n",
       "      <td>chr19_9320829_G_C_b38</td>\n",
       "      <td>CTD-3116E22.8</td>\n",
       "      <td>3.096720e-05</td>\n",
       "      <td>CTD-3116E22.8</td>\n",
       "      <td>gtex_v8</td>\n",
       "      <td>Artery_Aorta</td>\n",
       "      <td>UBERON:0001496</td>\n",
       "      <td>chr19</td>\n",
       "      <td>ENSG00000277587.1</td>\n",
       "      <td>0.239548</td>\n",
       "    </tr>\n",
       "  </tbody>\n",
       "</table>\n",
       "<p>38776 rows × 14 columns</p>\n",
       "</div>"
      ],
      "text/plain": [
       "       Unnamed: 0       snpId        pos  snpIdUpper                variantId  \\\n",
       "0               0   rs4971066  155133406   RS4971066   chr1_155133406_T_G_b38   \n",
       "1               1   rs4440846  155158322   RS4440846   chr1_155158322_C_T_b38   \n",
       "2               2   rs9330264  155123274   RS9330264   chr1_155123274_T_C_b38   \n",
       "3               3   rs6676150  155151361   RS6676150   chr1_155151361_G_C_b38   \n",
       "4               4   rs7535292  155155273   RS7535292   chr1_155155273_T_C_b38   \n",
       "...           ...         ...        ...         ...                      ...   \n",
       "38771        1811  rs12817066  121904721  RS12817066  chr12_121904721_G_A_b38   \n",
       "38772        1812  rs28424072   55781463  RS28424072   chr16_55781463_G_A_b38   \n",
       "38773        1813  rs28424072   55781463  RS28424072   chr16_55781463_G_A_b38   \n",
       "38774        1814   rs7507261    9320829   RS7507261    chr19_9320829_G_C_b38   \n",
       "38775        1815   rs7507261    9320829   RS7507261    chr19_9320829_G_C_b38   \n",
       "\n",
       "          geneSymbol        pValue geneSymbolUpper datasetId  \\\n",
       "0          DCST1-AS1  5.759650e-05       DCST1-AS1   gtex_v8   \n",
       "1          DCST1-AS1  1.022150e-04       DCST1-AS1   gtex_v8   \n",
       "2             ADAM15  2.614310e-06          ADAM15   gtex_v8   \n",
       "3             ADAM15  3.436060e-06          ADAM15   gtex_v8   \n",
       "4             ADAM15  3.810050e-06          ADAM15   gtex_v8   \n",
       "...              ...           ...             ...       ...   \n",
       "38771          WDR66  8.915400e-11           WDR66   gtex_v8   \n",
       "38772         CES1P1  3.724280e-14          CES1P1   gtex_v8   \n",
       "38773           CES1  1.226170e-07            CES1   gtex_v8   \n",
       "38774         ZNF266  1.230260e-75          ZNF266   gtex_v8   \n",
       "38775  CTD-3116E22.8  3.096720e-05   CTD-3116E22.8   gtex_v8   \n",
       "\n",
       "      tissueSiteDetailId      ontologyId chromosome           gencodeId  \\\n",
       "0            Whole_Blood  UBERON:0013756       chr1   ENSG00000232093.1   \n",
       "1            Whole_Blood  UBERON:0013756       chr1   ENSG00000232093.1   \n",
       "2            Whole_Blood  UBERON:0013756       chr1  ENSG00000143537.13   \n",
       "3            Whole_Blood  UBERON:0013756       chr1  ENSG00000143537.13   \n",
       "4            Whole_Blood  UBERON:0013756       chr1  ENSG00000143537.13   \n",
       "...                  ...             ...        ...                 ...   \n",
       "38771       Artery_Aorta  UBERON:0001496      chr12   ENSG00000158023.9   \n",
       "38772       Artery_Aorta  UBERON:0001496      chr16  ENSG00000228695.10   \n",
       "38773       Artery_Aorta  UBERON:0001496      chr16  ENSG00000198848.12   \n",
       "38774       Artery_Aorta  UBERON:0001496      chr19  ENSG00000174652.17   \n",
       "38775       Artery_Aorta  UBERON:0001496      chr19   ENSG00000277587.1   \n",
       "\n",
       "            nes  \n",
       "0     -0.258581  \n",
       "1     -0.253698  \n",
       "2     -0.134893  \n",
       "3      0.127311  \n",
       "4     -0.129093  \n",
       "...         ...  \n",
       "38771 -0.320764  \n",
       "38772  0.991496  \n",
       "38773  0.664010  \n",
       "38774  0.899958  \n",
       "38775  0.239548  \n",
       "\n",
       "[38776 rows x 14 columns]"
      ]
     },
     "execution_count": 7,
     "metadata": {},
     "output_type": "execute_result"
    }
   ],
   "source": [
    "alltissueeqtls"
   ]
  },
  {
   "cell_type": "code",
   "execution_count": 3,
   "id": "6dbf6556-6681-4f98-8aef-2230d501968f",
   "metadata": {
    "tags": []
   },
   "outputs": [],
   "source": [
    "#crop to only HN genes \n",
    "HNgenes = alltissueeqtls[alltissueeqtls['geneSymbol'].isin([\"HLA-DRB1\",\"SLC7A2\",\"MUC1\",\"CLDN1\",\"INTU\",\"HLA-DRB5\",\"PEX6\",\"MDN1\",\"HLA-DQB1\",\"ANKRD36\",\"CLGN\",\"UBA7\",\"NR2F1\",\"HEMK1\",\"RABL2B\",\"PLXNA4\",\"GLS\",\"PCNX2\",\"ANKRD36B\",\"SKIV2L\",\"ZNF266\",\"PGGHG\"])]"
   ]
  },
  {
   "cell_type": "code",
   "execution_count": 4,
   "id": "d5382a75-9111-469c-96a2-3b555360bbfa",
   "metadata": {
    "tags": []
   },
   "outputs": [
    {
     "data": {
      "text/html": [
       "<div>\n",
       "<style scoped>\n",
       "    .dataframe tbody tr th:only-of-type {\n",
       "        vertical-align: middle;\n",
       "    }\n",
       "\n",
       "    .dataframe tbody tr th {\n",
       "        vertical-align: top;\n",
       "    }\n",
       "\n",
       "    .dataframe thead th {\n",
       "        text-align: right;\n",
       "    }\n",
       "</style>\n",
       "<table border=\"1\" class=\"dataframe\">\n",
       "  <thead>\n",
       "    <tr style=\"text-align: right;\">\n",
       "      <th></th>\n",
       "      <th>Unnamed: 0</th>\n",
       "      <th>snpId</th>\n",
       "      <th>pos</th>\n",
       "      <th>snpIdUpper</th>\n",
       "      <th>variantId</th>\n",
       "      <th>geneSymbol</th>\n",
       "      <th>pValue</th>\n",
       "      <th>geneSymbolUpper</th>\n",
       "      <th>datasetId</th>\n",
       "      <th>tissueSiteDetailId</th>\n",
       "      <th>ontologyId</th>\n",
       "      <th>chromosome</th>\n",
       "      <th>gencodeId</th>\n",
       "      <th>nes</th>\n",
       "    </tr>\n",
       "  </thead>\n",
       "  <tbody>\n",
       "    <tr>\n",
       "      <th>28</th>\n",
       "      <td>28</td>\n",
       "      <td>rs12145362</td>\n",
       "      <td>155121537</td>\n",
       "      <td>RS12145362</td>\n",
       "      <td>chr1_155121537_C_A_b38</td>\n",
       "      <td>MUC1</td>\n",
       "      <td>1.538050e-04</td>\n",
       "      <td>MUC1</td>\n",
       "      <td>gtex_v8</td>\n",
       "      <td>Whole_Blood</td>\n",
       "      <td>UBERON:0013756</td>\n",
       "      <td>chr1</td>\n",
       "      <td>ENSG00000185499.16</td>\n",
       "      <td>0.142172</td>\n",
       "    </tr>\n",
       "    <tr>\n",
       "      <th>29</th>\n",
       "      <td>29</td>\n",
       "      <td>rs11807418</td>\n",
       "      <td>155122129</td>\n",
       "      <td>RS11807418</td>\n",
       "      <td>chr1_155122129_A_T_b38</td>\n",
       "      <td>MUC1</td>\n",
       "      <td>1.538050e-04</td>\n",
       "      <td>MUC1</td>\n",
       "      <td>gtex_v8</td>\n",
       "      <td>Whole_Blood</td>\n",
       "      <td>UBERON:0013756</td>\n",
       "      <td>chr1</td>\n",
       "      <td>ENSG00000185499.16</td>\n",
       "      <td>0.142172</td>\n",
       "    </tr>\n",
       "    <tr>\n",
       "      <th>30</th>\n",
       "      <td>30</td>\n",
       "      <td>rs11264327</td>\n",
       "      <td>155122631</td>\n",
       "      <td>RS11264327</td>\n",
       "      <td>chr1_155122631_G_A_b38</td>\n",
       "      <td>MUC1</td>\n",
       "      <td>2.008170e-04</td>\n",
       "      <td>MUC1</td>\n",
       "      <td>gtex_v8</td>\n",
       "      <td>Whole_Blood</td>\n",
       "      <td>UBERON:0013756</td>\n",
       "      <td>chr1</td>\n",
       "      <td>ENSG00000185499.16</td>\n",
       "      <td>0.140056</td>\n",
       "    </tr>\n",
       "    <tr>\n",
       "      <th>31</th>\n",
       "      <td>31</td>\n",
       "      <td>rs9330264</td>\n",
       "      <td>155123274</td>\n",
       "      <td>RS9330264</td>\n",
       "      <td>chr1_155123274_T_C_b38</td>\n",
       "      <td>MUC1</td>\n",
       "      <td>4.917480e-09</td>\n",
       "      <td>MUC1</td>\n",
       "      <td>gtex_v8</td>\n",
       "      <td>Whole_Blood</td>\n",
       "      <td>UBERON:0013756</td>\n",
       "      <td>chr1</td>\n",
       "      <td>ENSG00000185499.16</td>\n",
       "      <td>0.225928</td>\n",
       "    </tr>\n",
       "    <tr>\n",
       "      <th>32</th>\n",
       "      <td>32</td>\n",
       "      <td>rs9297</td>\n",
       "      <td>155134074</td>\n",
       "      <td>RS9297</td>\n",
       "      <td>chr1_155134074_A_G_b38</td>\n",
       "      <td>MUC1</td>\n",
       "      <td>4.007180e-06</td>\n",
       "      <td>MUC1</td>\n",
       "      <td>gtex_v8</td>\n",
       "      <td>Whole_Blood</td>\n",
       "      <td>UBERON:0013756</td>\n",
       "      <td>chr1</td>\n",
       "      <td>ENSG00000185499.16</td>\n",
       "      <td>0.172122</td>\n",
       "    </tr>\n",
       "    <tr>\n",
       "      <th>...</th>\n",
       "      <td>...</td>\n",
       "      <td>...</td>\n",
       "      <td>...</td>\n",
       "      <td>...</td>\n",
       "      <td>...</td>\n",
       "      <td>...</td>\n",
       "      <td>...</td>\n",
       "      <td>...</td>\n",
       "      <td>...</td>\n",
       "      <td>...</td>\n",
       "      <td>...</td>\n",
       "      <td>...</td>\n",
       "      <td>...</td>\n",
       "      <td>...</td>\n",
       "    </tr>\n",
       "    <tr>\n",
       "      <th>38651</th>\n",
       "      <td>1691</td>\n",
       "      <td>rs77817202</td>\n",
       "      <td>97918271</td>\n",
       "      <td>RS77817202</td>\n",
       "      <td>chr2_97918271_C_T_b38</td>\n",
       "      <td>ANKRD36</td>\n",
       "      <td>2.240600e-10</td>\n",
       "      <td>ANKRD36</td>\n",
       "      <td>gtex_v8</td>\n",
       "      <td>Artery_Aorta</td>\n",
       "      <td>UBERON:0001496</td>\n",
       "      <td>chr2</td>\n",
       "      <td>ENSG00000135976.17</td>\n",
       "      <td>0.391360</td>\n",
       "    </tr>\n",
       "    <tr>\n",
       "      <th>38653</th>\n",
       "      <td>1693</td>\n",
       "      <td>rs2355570</td>\n",
       "      <td>190916443</td>\n",
       "      <td>RS2355570</td>\n",
       "      <td>chr2_190916443_A_G_b38</td>\n",
       "      <td>GLS</td>\n",
       "      <td>3.419370e-05</td>\n",
       "      <td>GLS</td>\n",
       "      <td>gtex_v8</td>\n",
       "      <td>Artery_Aorta</td>\n",
       "      <td>UBERON:0001496</td>\n",
       "      <td>chr2</td>\n",
       "      <td>ENSG00000115419.12</td>\n",
       "      <td>0.119423</td>\n",
       "    </tr>\n",
       "    <tr>\n",
       "      <th>38659</th>\n",
       "      <td>1699</td>\n",
       "      <td>rs11712056</td>\n",
       "      <td>49876964</td>\n",
       "      <td>RS11712056</td>\n",
       "      <td>chr3_49876964_T_C_b38</td>\n",
       "      <td>UBA7</td>\n",
       "      <td>1.214430e-04</td>\n",
       "      <td>UBA7</td>\n",
       "      <td>gtex_v8</td>\n",
       "      <td>Artery_Aorta</td>\n",
       "      <td>UBERON:0001496</td>\n",
       "      <td>chr3</td>\n",
       "      <td>ENSG00000182179.12</td>\n",
       "      <td>-0.098892</td>\n",
       "    </tr>\n",
       "    <tr>\n",
       "      <th>38746</th>\n",
       "      <td>1786</td>\n",
       "      <td>rs9351229</td>\n",
       "      <td>89919391</td>\n",
       "      <td>RS9351229</td>\n",
       "      <td>chr6_89919391_A_G_b38</td>\n",
       "      <td>MDN1</td>\n",
       "      <td>2.554710e-07</td>\n",
       "      <td>MDN1</td>\n",
       "      <td>gtex_v8</td>\n",
       "      <td>Artery_Aorta</td>\n",
       "      <td>UBERON:0001496</td>\n",
       "      <td>chr6</td>\n",
       "      <td>ENSG00000112159.11</td>\n",
       "      <td>-0.150523</td>\n",
       "    </tr>\n",
       "    <tr>\n",
       "      <th>38774</th>\n",
       "      <td>1814</td>\n",
       "      <td>rs7507261</td>\n",
       "      <td>9320829</td>\n",
       "      <td>RS7507261</td>\n",
       "      <td>chr19_9320829_G_C_b38</td>\n",
       "      <td>ZNF266</td>\n",
       "      <td>1.230260e-75</td>\n",
       "      <td>ZNF266</td>\n",
       "      <td>gtex_v8</td>\n",
       "      <td>Artery_Aorta</td>\n",
       "      <td>UBERON:0001496</td>\n",
       "      <td>chr19</td>\n",
       "      <td>ENSG00000174652.17</td>\n",
       "      <td>0.899958</td>\n",
       "    </tr>\n",
       "  </tbody>\n",
       "</table>\n",
       "<p>4432 rows × 14 columns</p>\n",
       "</div>"
      ],
      "text/plain": [
       "       Unnamed: 0       snpId        pos  snpIdUpper               variantId  \\\n",
       "28             28  rs12145362  155121537  RS12145362  chr1_155121537_C_A_b38   \n",
       "29             29  rs11807418  155122129  RS11807418  chr1_155122129_A_T_b38   \n",
       "30             30  rs11264327  155122631  RS11264327  chr1_155122631_G_A_b38   \n",
       "31             31   rs9330264  155123274   RS9330264  chr1_155123274_T_C_b38   \n",
       "32             32      rs9297  155134074      RS9297  chr1_155134074_A_G_b38   \n",
       "...           ...         ...        ...         ...                     ...   \n",
       "38651        1691  rs77817202   97918271  RS77817202   chr2_97918271_C_T_b38   \n",
       "38653        1693   rs2355570  190916443   RS2355570  chr2_190916443_A_G_b38   \n",
       "38659        1699  rs11712056   49876964  RS11712056   chr3_49876964_T_C_b38   \n",
       "38746        1786   rs9351229   89919391   RS9351229   chr6_89919391_A_G_b38   \n",
       "38774        1814   rs7507261    9320829   RS7507261   chr19_9320829_G_C_b38   \n",
       "\n",
       "      geneSymbol        pValue geneSymbolUpper datasetId tissueSiteDetailId  \\\n",
       "28          MUC1  1.538050e-04            MUC1   gtex_v8        Whole_Blood   \n",
       "29          MUC1  1.538050e-04            MUC1   gtex_v8        Whole_Blood   \n",
       "30          MUC1  2.008170e-04            MUC1   gtex_v8        Whole_Blood   \n",
       "31          MUC1  4.917480e-09            MUC1   gtex_v8        Whole_Blood   \n",
       "32          MUC1  4.007180e-06            MUC1   gtex_v8        Whole_Blood   \n",
       "...          ...           ...             ...       ...                ...   \n",
       "38651    ANKRD36  2.240600e-10         ANKRD36   gtex_v8       Artery_Aorta   \n",
       "38653        GLS  3.419370e-05             GLS   gtex_v8       Artery_Aorta   \n",
       "38659       UBA7  1.214430e-04            UBA7   gtex_v8       Artery_Aorta   \n",
       "38746       MDN1  2.554710e-07            MDN1   gtex_v8       Artery_Aorta   \n",
       "38774     ZNF266  1.230260e-75          ZNF266   gtex_v8       Artery_Aorta   \n",
       "\n",
       "           ontologyId chromosome           gencodeId       nes  \n",
       "28     UBERON:0013756       chr1  ENSG00000185499.16  0.142172  \n",
       "29     UBERON:0013756       chr1  ENSG00000185499.16  0.142172  \n",
       "30     UBERON:0013756       chr1  ENSG00000185499.16  0.140056  \n",
       "31     UBERON:0013756       chr1  ENSG00000185499.16  0.225928  \n",
       "32     UBERON:0013756       chr1  ENSG00000185499.16  0.172122  \n",
       "...               ...        ...                 ...       ...  \n",
       "38651  UBERON:0001496       chr2  ENSG00000135976.17  0.391360  \n",
       "38653  UBERON:0001496       chr2  ENSG00000115419.12  0.119423  \n",
       "38659  UBERON:0001496       chr3  ENSG00000182179.12 -0.098892  \n",
       "38746  UBERON:0001496       chr6  ENSG00000112159.11 -0.150523  \n",
       "38774  UBERON:0001496      chr19  ENSG00000174652.17  0.899958  \n",
       "\n",
       "[4432 rows x 14 columns]"
      ]
     },
     "execution_count": 4,
     "metadata": {},
     "output_type": "execute_result"
    }
   ],
   "source": [
    "HNgenes"
   ]
  },
  {
   "cell_type": "code",
   "execution_count": 33,
   "id": "b3cc41da-d5d8-4514-8f9b-2f8d4d66c07f",
   "metadata": {
    "tags": []
   },
   "outputs": [
    {
     "data": {
      "text/plain": [
       "4"
      ]
     },
     "execution_count": 33,
     "metadata": {},
     "output_type": "execute_result"
    }
   ],
   "source": [
    "len(HNgenes[HNgenes.geneSymbol == 'PEX6'])"
   ]
  },
  {
   "cell_type": "code",
   "execution_count": 7,
   "id": "7af5c990-c4bf-4e3b-9046-557af31bca08",
   "metadata": {
    "tags": []
   },
   "outputs": [],
   "source": [
    "#create dictionary of gwas variant Ids and P values (from publication)\n",
    "#set as index first, then convert to dict\n",
    "pvaldict = gwasv2.set_index('chrvariant_id_b38')['p_value']"
   ]
  },
  {
   "cell_type": "code",
   "execution_count": 8,
   "id": "c75a8a6b-8b9d-41b0-b464-d57da6d593de",
   "metadata": {
    "tags": []
   },
   "outputs": [
    {
     "data": {
      "text/plain": [
       "chrvariant_id_b38\n",
       "chr13_82585994_G_A_b38    1.680000e-21\n",
       "chr5_120593698_G_C_b38    5.500000e-19\n",
       "chr5_120738781_T_C_b38    6.730000e-19\n",
       "chr12_44236980_T_C_b38    1.560000e-18\n",
       "chr12_44252248_G_A_b38    1.560000e-18\n",
       "                              ...     \n",
       "chr6_86623232_G_A_b38     5.080000e-04\n",
       "chr6_86623756_T_C_b38     5.080000e-04\n",
       "chr6_132032510_G_A_b38    5.080000e-04\n",
       "chr7_36689739_G_A_b38     5.080000e-04\n",
       "chr8_84270129_G_A_b38     5.080000e-04\n",
       "Name: p_value, Length: 10000, dtype: float64"
      ]
     },
     "execution_count": 8,
     "metadata": {},
     "output_type": "execute_result"
    }
   ],
   "source": [
    "pvaldict"
   ]
  },
  {
   "cell_type": "code",
   "execution_count": 9,
   "id": "7e63849d-9ded-48d0-a3f6-f68e8e702a5f",
   "metadata": {
    "tags": []
   },
   "outputs": [],
   "source": [
    "pvaldict = pvaldict.to_dict()"
   ]
  },
  {
   "cell_type": "code",
   "execution_count": 10,
   "id": "f9b1a90f-da6b-4f65-a2bc-a11ebc4e54fa",
   "metadata": {
    "tags": []
   },
   "outputs": [
    {
     "name": "stderr",
     "output_type": "stream",
     "text": [
      "/tmp/ipykernel_1147348/3624312584.py:1: SettingWithCopyWarning: \n",
      "A value is trying to be set on a copy of a slice from a DataFrame.\n",
      "Try using .loc[row_indexer,col_indexer] = value instead\n",
      "\n",
      "See the caveats in the documentation: https://pandas.pydata.org/pandas-docs/stable/user_guide/indexing.html#returning-a-view-versus-a-copy\n",
      "  HNgenes['gwas_pvalue'] = HNgenes['variantId'].map(pvaldict)\n"
     ]
    }
   ],
   "source": [
    "HNgenes['gwas_pvalue'] = HNgenes['variantId'].map(pvaldict)"
   ]
  },
  {
   "cell_type": "code",
   "execution_count": 11,
   "id": "dfc46e89-be66-4629-9882-9ade6ab7322e",
   "metadata": {
    "tags": []
   },
   "outputs": [
    {
     "data": {
      "text/html": [
       "<div>\n",
       "<style scoped>\n",
       "    .dataframe tbody tr th:only-of-type {\n",
       "        vertical-align: middle;\n",
       "    }\n",
       "\n",
       "    .dataframe tbody tr th {\n",
       "        vertical-align: top;\n",
       "    }\n",
       "\n",
       "    .dataframe thead th {\n",
       "        text-align: right;\n",
       "    }\n",
       "</style>\n",
       "<table border=\"1\" class=\"dataframe\">\n",
       "  <thead>\n",
       "    <tr style=\"text-align: right;\">\n",
       "      <th></th>\n",
       "      <th>Unnamed: 0</th>\n",
       "      <th>snpId</th>\n",
       "      <th>pos</th>\n",
       "      <th>snpIdUpper</th>\n",
       "      <th>variantId</th>\n",
       "      <th>geneSymbol</th>\n",
       "      <th>pValue</th>\n",
       "      <th>geneSymbolUpper</th>\n",
       "      <th>datasetId</th>\n",
       "      <th>tissueSiteDetailId</th>\n",
       "      <th>ontologyId</th>\n",
       "      <th>chromosome</th>\n",
       "      <th>gencodeId</th>\n",
       "      <th>nes</th>\n",
       "      <th>gwas_pvalue</th>\n",
       "    </tr>\n",
       "  </thead>\n",
       "  <tbody>\n",
       "    <tr>\n",
       "      <th>28</th>\n",
       "      <td>28</td>\n",
       "      <td>rs12145362</td>\n",
       "      <td>155121537</td>\n",
       "      <td>RS12145362</td>\n",
       "      <td>chr1_155121537_C_A_b38</td>\n",
       "      <td>MUC1</td>\n",
       "      <td>1.538050e-04</td>\n",
       "      <td>MUC1</td>\n",
       "      <td>gtex_v8</td>\n",
       "      <td>Whole_Blood</td>\n",
       "      <td>UBERON:0013756</td>\n",
       "      <td>chr1</td>\n",
       "      <td>ENSG00000185499.16</td>\n",
       "      <td>0.142172</td>\n",
       "      <td>0.000005</td>\n",
       "    </tr>\n",
       "    <tr>\n",
       "      <th>29</th>\n",
       "      <td>29</td>\n",
       "      <td>rs11807418</td>\n",
       "      <td>155122129</td>\n",
       "      <td>RS11807418</td>\n",
       "      <td>chr1_155122129_A_T_b38</td>\n",
       "      <td>MUC1</td>\n",
       "      <td>1.538050e-04</td>\n",
       "      <td>MUC1</td>\n",
       "      <td>gtex_v8</td>\n",
       "      <td>Whole_Blood</td>\n",
       "      <td>UBERON:0013756</td>\n",
       "      <td>chr1</td>\n",
       "      <td>ENSG00000185499.16</td>\n",
       "      <td>0.142172</td>\n",
       "      <td>0.000004</td>\n",
       "    </tr>\n",
       "    <tr>\n",
       "      <th>30</th>\n",
       "      <td>30</td>\n",
       "      <td>rs11264327</td>\n",
       "      <td>155122631</td>\n",
       "      <td>RS11264327</td>\n",
       "      <td>chr1_155122631_G_A_b38</td>\n",
       "      <td>MUC1</td>\n",
       "      <td>2.008170e-04</td>\n",
       "      <td>MUC1</td>\n",
       "      <td>gtex_v8</td>\n",
       "      <td>Whole_Blood</td>\n",
       "      <td>UBERON:0013756</td>\n",
       "      <td>chr1</td>\n",
       "      <td>ENSG00000185499.16</td>\n",
       "      <td>0.140056</td>\n",
       "      <td>0.000004</td>\n",
       "    </tr>\n",
       "    <tr>\n",
       "      <th>31</th>\n",
       "      <td>31</td>\n",
       "      <td>rs9330264</td>\n",
       "      <td>155123274</td>\n",
       "      <td>RS9330264</td>\n",
       "      <td>chr1_155123274_T_C_b38</td>\n",
       "      <td>MUC1</td>\n",
       "      <td>4.917480e-09</td>\n",
       "      <td>MUC1</td>\n",
       "      <td>gtex_v8</td>\n",
       "      <td>Whole_Blood</td>\n",
       "      <td>UBERON:0013756</td>\n",
       "      <td>chr1</td>\n",
       "      <td>ENSG00000185499.16</td>\n",
       "      <td>0.225928</td>\n",
       "      <td>0.000002</td>\n",
       "    </tr>\n",
       "    <tr>\n",
       "      <th>32</th>\n",
       "      <td>32</td>\n",
       "      <td>rs9297</td>\n",
       "      <td>155134074</td>\n",
       "      <td>RS9297</td>\n",
       "      <td>chr1_155134074_A_G_b38</td>\n",
       "      <td>MUC1</td>\n",
       "      <td>4.007180e-06</td>\n",
       "      <td>MUC1</td>\n",
       "      <td>gtex_v8</td>\n",
       "      <td>Whole_Blood</td>\n",
       "      <td>UBERON:0013756</td>\n",
       "      <td>chr1</td>\n",
       "      <td>ENSG00000185499.16</td>\n",
       "      <td>0.172122</td>\n",
       "      <td>0.000004</td>\n",
       "    </tr>\n",
       "    <tr>\n",
       "      <th>...</th>\n",
       "      <td>...</td>\n",
       "      <td>...</td>\n",
       "      <td>...</td>\n",
       "      <td>...</td>\n",
       "      <td>...</td>\n",
       "      <td>...</td>\n",
       "      <td>...</td>\n",
       "      <td>...</td>\n",
       "      <td>...</td>\n",
       "      <td>...</td>\n",
       "      <td>...</td>\n",
       "      <td>...</td>\n",
       "      <td>...</td>\n",
       "      <td>...</td>\n",
       "      <td>...</td>\n",
       "    </tr>\n",
       "    <tr>\n",
       "      <th>38651</th>\n",
       "      <td>1691</td>\n",
       "      <td>rs77817202</td>\n",
       "      <td>97918271</td>\n",
       "      <td>RS77817202</td>\n",
       "      <td>chr2_97918271_C_T_b38</td>\n",
       "      <td>ANKRD36</td>\n",
       "      <td>2.240600e-10</td>\n",
       "      <td>ANKRD36</td>\n",
       "      <td>gtex_v8</td>\n",
       "      <td>Artery_Aorta</td>\n",
       "      <td>UBERON:0001496</td>\n",
       "      <td>chr2</td>\n",
       "      <td>ENSG00000135976.17</td>\n",
       "      <td>0.391360</td>\n",
       "      <td>0.000441</td>\n",
       "    </tr>\n",
       "    <tr>\n",
       "      <th>38653</th>\n",
       "      <td>1693</td>\n",
       "      <td>rs2355570</td>\n",
       "      <td>190916443</td>\n",
       "      <td>RS2355570</td>\n",
       "      <td>chr2_190916443_A_G_b38</td>\n",
       "      <td>GLS</td>\n",
       "      <td>3.419370e-05</td>\n",
       "      <td>GLS</td>\n",
       "      <td>gtex_v8</td>\n",
       "      <td>Artery_Aorta</td>\n",
       "      <td>UBERON:0001496</td>\n",
       "      <td>chr2</td>\n",
       "      <td>ENSG00000115419.12</td>\n",
       "      <td>0.119423</td>\n",
       "      <td>0.000383</td>\n",
       "    </tr>\n",
       "    <tr>\n",
       "      <th>38659</th>\n",
       "      <td>1699</td>\n",
       "      <td>rs11712056</td>\n",
       "      <td>49876964</td>\n",
       "      <td>RS11712056</td>\n",
       "      <td>chr3_49876964_T_C_b38</td>\n",
       "      <td>UBA7</td>\n",
       "      <td>1.214430e-04</td>\n",
       "      <td>UBA7</td>\n",
       "      <td>gtex_v8</td>\n",
       "      <td>Artery_Aorta</td>\n",
       "      <td>UBERON:0001496</td>\n",
       "      <td>chr3</td>\n",
       "      <td>ENSG00000182179.12</td>\n",
       "      <td>-0.098892</td>\n",
       "      <td>0.000397</td>\n",
       "    </tr>\n",
       "    <tr>\n",
       "      <th>38746</th>\n",
       "      <td>1786</td>\n",
       "      <td>rs9351229</td>\n",
       "      <td>89919391</td>\n",
       "      <td>RS9351229</td>\n",
       "      <td>chr6_89919391_A_G_b38</td>\n",
       "      <td>MDN1</td>\n",
       "      <td>2.554710e-07</td>\n",
       "      <td>MDN1</td>\n",
       "      <td>gtex_v8</td>\n",
       "      <td>Artery_Aorta</td>\n",
       "      <td>UBERON:0001496</td>\n",
       "      <td>chr6</td>\n",
       "      <td>ENSG00000112159.11</td>\n",
       "      <td>-0.150523</td>\n",
       "      <td>0.000420</td>\n",
       "    </tr>\n",
       "    <tr>\n",
       "      <th>38774</th>\n",
       "      <td>1814</td>\n",
       "      <td>rs7507261</td>\n",
       "      <td>9320829</td>\n",
       "      <td>RS7507261</td>\n",
       "      <td>chr19_9320829_G_C_b38</td>\n",
       "      <td>ZNF266</td>\n",
       "      <td>1.230260e-75</td>\n",
       "      <td>ZNF266</td>\n",
       "      <td>gtex_v8</td>\n",
       "      <td>Artery_Aorta</td>\n",
       "      <td>UBERON:0001496</td>\n",
       "      <td>chr19</td>\n",
       "      <td>ENSG00000174652.17</td>\n",
       "      <td>0.899958</td>\n",
       "      <td>0.000413</td>\n",
       "    </tr>\n",
       "  </tbody>\n",
       "</table>\n",
       "<p>4432 rows × 15 columns</p>\n",
       "</div>"
      ],
      "text/plain": [
       "       Unnamed: 0       snpId        pos  snpIdUpper               variantId  \\\n",
       "28             28  rs12145362  155121537  RS12145362  chr1_155121537_C_A_b38   \n",
       "29             29  rs11807418  155122129  RS11807418  chr1_155122129_A_T_b38   \n",
       "30             30  rs11264327  155122631  RS11264327  chr1_155122631_G_A_b38   \n",
       "31             31   rs9330264  155123274   RS9330264  chr1_155123274_T_C_b38   \n",
       "32             32      rs9297  155134074      RS9297  chr1_155134074_A_G_b38   \n",
       "...           ...         ...        ...         ...                     ...   \n",
       "38651        1691  rs77817202   97918271  RS77817202   chr2_97918271_C_T_b38   \n",
       "38653        1693   rs2355570  190916443   RS2355570  chr2_190916443_A_G_b38   \n",
       "38659        1699  rs11712056   49876964  RS11712056   chr3_49876964_T_C_b38   \n",
       "38746        1786   rs9351229   89919391   RS9351229   chr6_89919391_A_G_b38   \n",
       "38774        1814   rs7507261    9320829   RS7507261   chr19_9320829_G_C_b38   \n",
       "\n",
       "      geneSymbol        pValue geneSymbolUpper datasetId tissueSiteDetailId  \\\n",
       "28          MUC1  1.538050e-04            MUC1   gtex_v8        Whole_Blood   \n",
       "29          MUC1  1.538050e-04            MUC1   gtex_v8        Whole_Blood   \n",
       "30          MUC1  2.008170e-04            MUC1   gtex_v8        Whole_Blood   \n",
       "31          MUC1  4.917480e-09            MUC1   gtex_v8        Whole_Blood   \n",
       "32          MUC1  4.007180e-06            MUC1   gtex_v8        Whole_Blood   \n",
       "...          ...           ...             ...       ...                ...   \n",
       "38651    ANKRD36  2.240600e-10         ANKRD36   gtex_v8       Artery_Aorta   \n",
       "38653        GLS  3.419370e-05             GLS   gtex_v8       Artery_Aorta   \n",
       "38659       UBA7  1.214430e-04            UBA7   gtex_v8       Artery_Aorta   \n",
       "38746       MDN1  2.554710e-07            MDN1   gtex_v8       Artery_Aorta   \n",
       "38774     ZNF266  1.230260e-75          ZNF266   gtex_v8       Artery_Aorta   \n",
       "\n",
       "           ontologyId chromosome           gencodeId       nes  gwas_pvalue  \n",
       "28     UBERON:0013756       chr1  ENSG00000185499.16  0.142172     0.000005  \n",
       "29     UBERON:0013756       chr1  ENSG00000185499.16  0.142172     0.000004  \n",
       "30     UBERON:0013756       chr1  ENSG00000185499.16  0.140056     0.000004  \n",
       "31     UBERON:0013756       chr1  ENSG00000185499.16  0.225928     0.000002  \n",
       "32     UBERON:0013756       chr1  ENSG00000185499.16  0.172122     0.000004  \n",
       "...               ...        ...                 ...       ...          ...  \n",
       "38651  UBERON:0001496       chr2  ENSG00000135976.17  0.391360     0.000441  \n",
       "38653  UBERON:0001496       chr2  ENSG00000115419.12  0.119423     0.000383  \n",
       "38659  UBERON:0001496       chr3  ENSG00000182179.12 -0.098892     0.000397  \n",
       "38746  UBERON:0001496       chr6  ENSG00000112159.11 -0.150523     0.000420  \n",
       "38774  UBERON:0001496      chr19  ENSG00000174652.17  0.899958     0.000413  \n",
       "\n",
       "[4432 rows x 15 columns]"
      ]
     },
     "execution_count": 11,
     "metadata": {},
     "output_type": "execute_result"
    }
   ],
   "source": [
    "HNgenes"
   ]
  },
  {
   "cell_type": "code",
   "execution_count": 12,
   "id": "3ba7ef66-f9b0-497d-93c3-668a1e605005",
   "metadata": {
    "tags": []
   },
   "outputs": [
    {
     "data": {
      "text/html": [
       "<div>\n",
       "<style scoped>\n",
       "    .dataframe tbody tr th:only-of-type {\n",
       "        vertical-align: middle;\n",
       "    }\n",
       "\n",
       "    .dataframe tbody tr th {\n",
       "        vertical-align: top;\n",
       "    }\n",
       "\n",
       "    .dataframe thead th {\n",
       "        text-align: right;\n",
       "    }\n",
       "</style>\n",
       "<table border=\"1\" class=\"dataframe\">\n",
       "  <thead>\n",
       "    <tr style=\"text-align: right;\">\n",
       "      <th></th>\n",
       "      <th>Unnamed: 0</th>\n",
       "      <th>snpId</th>\n",
       "      <th>pos</th>\n",
       "      <th>snpIdUpper</th>\n",
       "      <th>variantId</th>\n",
       "      <th>geneSymbol</th>\n",
       "      <th>pValue</th>\n",
       "      <th>geneSymbolUpper</th>\n",
       "      <th>datasetId</th>\n",
       "      <th>tissueSiteDetailId</th>\n",
       "      <th>ontologyId</th>\n",
       "      <th>chromosome</th>\n",
       "      <th>gencodeId</th>\n",
       "      <th>nes</th>\n",
       "      <th>gwas_pvalue</th>\n",
       "    </tr>\n",
       "  </thead>\n",
       "  <tbody>\n",
       "    <tr>\n",
       "      <th>28</th>\n",
       "      <td>28</td>\n",
       "      <td>rs12145362</td>\n",
       "      <td>155121537</td>\n",
       "      <td>RS12145362</td>\n",
       "      <td>chr1_155121537_C_A_b38</td>\n",
       "      <td>MUC1</td>\n",
       "      <td>1.538050e-04</td>\n",
       "      <td>MUC1</td>\n",
       "      <td>gtex_v8</td>\n",
       "      <td>Whole_Blood</td>\n",
       "      <td>UBERON:0013756</td>\n",
       "      <td>chr1</td>\n",
       "      <td>ENSG00000185499.16</td>\n",
       "      <td>0.142172</td>\n",
       "      <td>0.000005</td>\n",
       "    </tr>\n",
       "    <tr>\n",
       "      <th>29</th>\n",
       "      <td>29</td>\n",
       "      <td>rs11807418</td>\n",
       "      <td>155122129</td>\n",
       "      <td>RS11807418</td>\n",
       "      <td>chr1_155122129_A_T_b38</td>\n",
       "      <td>MUC1</td>\n",
       "      <td>1.538050e-04</td>\n",
       "      <td>MUC1</td>\n",
       "      <td>gtex_v8</td>\n",
       "      <td>Whole_Blood</td>\n",
       "      <td>UBERON:0013756</td>\n",
       "      <td>chr1</td>\n",
       "      <td>ENSG00000185499.16</td>\n",
       "      <td>0.142172</td>\n",
       "      <td>0.000004</td>\n",
       "    </tr>\n",
       "    <tr>\n",
       "      <th>30</th>\n",
       "      <td>30</td>\n",
       "      <td>rs11264327</td>\n",
       "      <td>155122631</td>\n",
       "      <td>RS11264327</td>\n",
       "      <td>chr1_155122631_G_A_b38</td>\n",
       "      <td>MUC1</td>\n",
       "      <td>2.008170e-04</td>\n",
       "      <td>MUC1</td>\n",
       "      <td>gtex_v8</td>\n",
       "      <td>Whole_Blood</td>\n",
       "      <td>UBERON:0013756</td>\n",
       "      <td>chr1</td>\n",
       "      <td>ENSG00000185499.16</td>\n",
       "      <td>0.140056</td>\n",
       "      <td>0.000004</td>\n",
       "    </tr>\n",
       "    <tr>\n",
       "      <th>31</th>\n",
       "      <td>31</td>\n",
       "      <td>rs9330264</td>\n",
       "      <td>155123274</td>\n",
       "      <td>RS9330264</td>\n",
       "      <td>chr1_155123274_T_C_b38</td>\n",
       "      <td>MUC1</td>\n",
       "      <td>4.917480e-09</td>\n",
       "      <td>MUC1</td>\n",
       "      <td>gtex_v8</td>\n",
       "      <td>Whole_Blood</td>\n",
       "      <td>UBERON:0013756</td>\n",
       "      <td>chr1</td>\n",
       "      <td>ENSG00000185499.16</td>\n",
       "      <td>0.225928</td>\n",
       "      <td>0.000002</td>\n",
       "    </tr>\n",
       "    <tr>\n",
       "      <th>32</th>\n",
       "      <td>32</td>\n",
       "      <td>rs9297</td>\n",
       "      <td>155134074</td>\n",
       "      <td>RS9297</td>\n",
       "      <td>chr1_155134074_A_G_b38</td>\n",
       "      <td>MUC1</td>\n",
       "      <td>4.007180e-06</td>\n",
       "      <td>MUC1</td>\n",
       "      <td>gtex_v8</td>\n",
       "      <td>Whole_Blood</td>\n",
       "      <td>UBERON:0013756</td>\n",
       "      <td>chr1</td>\n",
       "      <td>ENSG00000185499.16</td>\n",
       "      <td>0.172122</td>\n",
       "      <td>0.000004</td>\n",
       "    </tr>\n",
       "    <tr>\n",
       "      <th>...</th>\n",
       "      <td>...</td>\n",
       "      <td>...</td>\n",
       "      <td>...</td>\n",
       "      <td>...</td>\n",
       "      <td>...</td>\n",
       "      <td>...</td>\n",
       "      <td>...</td>\n",
       "      <td>...</td>\n",
       "      <td>...</td>\n",
       "      <td>...</td>\n",
       "      <td>...</td>\n",
       "      <td>...</td>\n",
       "      <td>...</td>\n",
       "      <td>...</td>\n",
       "      <td>...</td>\n",
       "    </tr>\n",
       "    <tr>\n",
       "      <th>38651</th>\n",
       "      <td>1691</td>\n",
       "      <td>rs77817202</td>\n",
       "      <td>97918271</td>\n",
       "      <td>RS77817202</td>\n",
       "      <td>chr2_97918271_C_T_b38</td>\n",
       "      <td>ANKRD36</td>\n",
       "      <td>2.240600e-10</td>\n",
       "      <td>ANKRD36</td>\n",
       "      <td>gtex_v8</td>\n",
       "      <td>Artery_Aorta</td>\n",
       "      <td>UBERON:0001496</td>\n",
       "      <td>chr2</td>\n",
       "      <td>ENSG00000135976.17</td>\n",
       "      <td>0.391360</td>\n",
       "      <td>0.000441</td>\n",
       "    </tr>\n",
       "    <tr>\n",
       "      <th>38653</th>\n",
       "      <td>1693</td>\n",
       "      <td>rs2355570</td>\n",
       "      <td>190916443</td>\n",
       "      <td>RS2355570</td>\n",
       "      <td>chr2_190916443_A_G_b38</td>\n",
       "      <td>GLS</td>\n",
       "      <td>3.419370e-05</td>\n",
       "      <td>GLS</td>\n",
       "      <td>gtex_v8</td>\n",
       "      <td>Artery_Aorta</td>\n",
       "      <td>UBERON:0001496</td>\n",
       "      <td>chr2</td>\n",
       "      <td>ENSG00000115419.12</td>\n",
       "      <td>0.119423</td>\n",
       "      <td>0.000383</td>\n",
       "    </tr>\n",
       "    <tr>\n",
       "      <th>38659</th>\n",
       "      <td>1699</td>\n",
       "      <td>rs11712056</td>\n",
       "      <td>49876964</td>\n",
       "      <td>RS11712056</td>\n",
       "      <td>chr3_49876964_T_C_b38</td>\n",
       "      <td>UBA7</td>\n",
       "      <td>1.214430e-04</td>\n",
       "      <td>UBA7</td>\n",
       "      <td>gtex_v8</td>\n",
       "      <td>Artery_Aorta</td>\n",
       "      <td>UBERON:0001496</td>\n",
       "      <td>chr3</td>\n",
       "      <td>ENSG00000182179.12</td>\n",
       "      <td>-0.098892</td>\n",
       "      <td>0.000397</td>\n",
       "    </tr>\n",
       "    <tr>\n",
       "      <th>38746</th>\n",
       "      <td>1786</td>\n",
       "      <td>rs9351229</td>\n",
       "      <td>89919391</td>\n",
       "      <td>RS9351229</td>\n",
       "      <td>chr6_89919391_A_G_b38</td>\n",
       "      <td>MDN1</td>\n",
       "      <td>2.554710e-07</td>\n",
       "      <td>MDN1</td>\n",
       "      <td>gtex_v8</td>\n",
       "      <td>Artery_Aorta</td>\n",
       "      <td>UBERON:0001496</td>\n",
       "      <td>chr6</td>\n",
       "      <td>ENSG00000112159.11</td>\n",
       "      <td>-0.150523</td>\n",
       "      <td>0.000420</td>\n",
       "    </tr>\n",
       "    <tr>\n",
       "      <th>38774</th>\n",
       "      <td>1814</td>\n",
       "      <td>rs7507261</td>\n",
       "      <td>9320829</td>\n",
       "      <td>RS7507261</td>\n",
       "      <td>chr19_9320829_G_C_b38</td>\n",
       "      <td>ZNF266</td>\n",
       "      <td>1.230260e-75</td>\n",
       "      <td>ZNF266</td>\n",
       "      <td>gtex_v8</td>\n",
       "      <td>Artery_Aorta</td>\n",
       "      <td>UBERON:0001496</td>\n",
       "      <td>chr19</td>\n",
       "      <td>ENSG00000174652.17</td>\n",
       "      <td>0.899958</td>\n",
       "      <td>0.000413</td>\n",
       "    </tr>\n",
       "  </tbody>\n",
       "</table>\n",
       "<p>4432 rows × 15 columns</p>\n",
       "</div>"
      ],
      "text/plain": [
       "       Unnamed: 0       snpId        pos  snpIdUpper               variantId  \\\n",
       "28             28  rs12145362  155121537  RS12145362  chr1_155121537_C_A_b38   \n",
       "29             29  rs11807418  155122129  RS11807418  chr1_155122129_A_T_b38   \n",
       "30             30  rs11264327  155122631  RS11264327  chr1_155122631_G_A_b38   \n",
       "31             31   rs9330264  155123274   RS9330264  chr1_155123274_T_C_b38   \n",
       "32             32      rs9297  155134074      RS9297  chr1_155134074_A_G_b38   \n",
       "...           ...         ...        ...         ...                     ...   \n",
       "38651        1691  rs77817202   97918271  RS77817202   chr2_97918271_C_T_b38   \n",
       "38653        1693   rs2355570  190916443   RS2355570  chr2_190916443_A_G_b38   \n",
       "38659        1699  rs11712056   49876964  RS11712056   chr3_49876964_T_C_b38   \n",
       "38746        1786   rs9351229   89919391   RS9351229   chr6_89919391_A_G_b38   \n",
       "38774        1814   rs7507261    9320829   RS7507261   chr19_9320829_G_C_b38   \n",
       "\n",
       "      geneSymbol        pValue geneSymbolUpper datasetId tissueSiteDetailId  \\\n",
       "28          MUC1  1.538050e-04            MUC1   gtex_v8        Whole_Blood   \n",
       "29          MUC1  1.538050e-04            MUC1   gtex_v8        Whole_Blood   \n",
       "30          MUC1  2.008170e-04            MUC1   gtex_v8        Whole_Blood   \n",
       "31          MUC1  4.917480e-09            MUC1   gtex_v8        Whole_Blood   \n",
       "32          MUC1  4.007180e-06            MUC1   gtex_v8        Whole_Blood   \n",
       "...          ...           ...             ...       ...                ...   \n",
       "38651    ANKRD36  2.240600e-10         ANKRD36   gtex_v8       Artery_Aorta   \n",
       "38653        GLS  3.419370e-05             GLS   gtex_v8       Artery_Aorta   \n",
       "38659       UBA7  1.214430e-04            UBA7   gtex_v8       Artery_Aorta   \n",
       "38746       MDN1  2.554710e-07            MDN1   gtex_v8       Artery_Aorta   \n",
       "38774     ZNF266  1.230260e-75          ZNF266   gtex_v8       Artery_Aorta   \n",
       "\n",
       "           ontologyId chromosome           gencodeId       nes  gwas_pvalue  \n",
       "28     UBERON:0013756       chr1  ENSG00000185499.16  0.142172     0.000005  \n",
       "29     UBERON:0013756       chr1  ENSG00000185499.16  0.142172     0.000004  \n",
       "30     UBERON:0013756       chr1  ENSG00000185499.16  0.140056     0.000004  \n",
       "31     UBERON:0013756       chr1  ENSG00000185499.16  0.225928     0.000002  \n",
       "32     UBERON:0013756       chr1  ENSG00000185499.16  0.172122     0.000004  \n",
       "...               ...        ...                 ...       ...          ...  \n",
       "38651  UBERON:0001496       chr2  ENSG00000135976.17  0.391360     0.000441  \n",
       "38653  UBERON:0001496       chr2  ENSG00000115419.12  0.119423     0.000383  \n",
       "38659  UBERON:0001496       chr3  ENSG00000182179.12 -0.098892     0.000397  \n",
       "38746  UBERON:0001496       chr6  ENSG00000112159.11 -0.150523     0.000420  \n",
       "38774  UBERON:0001496      chr19  ENSG00000174652.17  0.899958     0.000413  \n",
       "\n",
       "[4432 rows x 15 columns]"
      ]
     },
     "execution_count": 12,
     "metadata": {},
     "output_type": "execute_result"
    }
   ],
   "source": [
    "#can compare top gwas pvalues to rsID and variant IDs in initial file to check \n",
    "HNgenes.sort_values(by=['gwas_pvalue'])\n",
    "HNgenes"
   ]
  },
  {
   "cell_type": "code",
   "execution_count": 13,
   "id": "e0070318-03d0-4dd0-a13f-5aba61715fb8",
   "metadata": {
    "tags": []
   },
   "outputs": [
    {
     "data": {
      "text/plain": [
       "<seaborn.axisgrid.FacetGrid at 0x7fa7bde99f30>"
      ]
     },
     "execution_count": 13,
     "metadata": {},
     "output_type": "execute_result"
    },
    {
     "data": {
      "image/png": "[encoded data removed]",
      "text/plain": [
       "<Figure size 1500x500 with 1 Axes>"
      ]
     },
     "metadata": {},
     "output_type": "display_data"
    }
   ],
   "source": [
    "sns.catplot(data=HNgenes, x='geneSymbol', y='gwas_pvalue',aspect=3, kind='strip')"
   ]
  },
  {
   "cell_type": "code",
   "execution_count": 14,
   "id": "15ac3d9f-0302-487a-9d0e-b73e0465d4ef",
   "metadata": {
    "tags": []
   },
   "outputs": [
    {
     "data": {
      "image/png": "[encoded data removed]",
      "text/plain": [
       "<Figure size 1500x600 with 1 Axes>"
      ]
     },
     "metadata": {},
     "output_type": "display_data"
    }
   ],
   "source": [
    "plt.figure(figsize=(15, 6))  # Adjust figure size for better visualization\n",
    "sns.violinplot(\n",
    "    data=HNgenes,\n",
    "    x='geneSymbol',\n",
    "    y='gwas_pvalue',\n",
    "    bw=.5,\n",
    "    cut=0,\n",
    "    inner='point',  # Ensure points are shown inside the violins\n",
    "    scale='width',  # Adjust the scale to improve visualization\n",
    "    linewidth=1  # Keep a small linewidth for better appearance\n",
    ")\n",
    "\n",
    "plt.xticks(rotation=90)  # Rotate x-axis labels for better readability\n",
    "plt.show()"
   ]
  }
 ],
 "metadata": {
  "kernelspec": {
   "display_name": "Python 3 (ipykernel)",
   "language": "python",
   "name": "python3"
  },
  "language_info": {
   "codemirror_mode": {
    "name": "ipython",
    "version": 3
   },
   "file_extension": ".py",
   "mimetype": "text/x-python",
   "name": "python",
   "nbconvert_exporter": "python",
   "pygments_lexer": "ipython3",
   "version": "3.10.9"
  }
 },
 "nbformat": 4,
 "nbformat_minor": 5
}
