{
 "cells": [
  {
   "cell_type": "code",
   "execution_count": null,
   "id": "14767f99-da1d-45a8-bf30-90d247cf8b57",
   "metadata": {},
   "outputs": [],
   "source": [
    "import numpy as np\n",
    "import pandas as pd\n",
    "import scanpy as sc\n",
    "import scanpy.external as sce\n",
    "from matplotlib import pyplot as plt\n",
    "import scvelo as scv\n",
    "import anndata as ad\n",
    "import seaborn as sns"
   ]
  },
  {
   "cell_type": "code",
   "execution_count": null,
   "id": "d87114fc-73b4-4479-b7c3-4c0704ddb292",
   "metadata": {},
   "outputs": [],
   "source": [
    "sc.settings.verbosity=3\n",
    "sc.logging.print_header()"
   ]
  },
  {
   "cell_type": "code",
   "execution_count": null,
   "id": "80923529-0085-472f-946c-6711875400b3",
   "metadata": {},
   "outputs": [],
   "source": [
    "garcia = sc.read_h5ad('/home/j87832lw/mounting/oviduct/oviduct.all/garciallclustered.h5ad')\n",
    "garcia.var_names_make_unique()\n",
    "sc.pl.umap(garcia, color=['Cell_Types'], legend_loc='on data')"
   ]
  },
  {
   "cell_type": "code",
   "execution_count": null,
   "id": "cf2bbbc9-193e-406e-8b05-4cb25528d029",
   "metadata": {},
   "outputs": [],
   "source": [
    "garciaepithelial=garcia[garcia.obs['Cell_Types'].isin(['Sox9+ Epithelial','Lumenal Epithelial','Glandular Epithelial','Ciliated']),:].copy()\n",
    "garciaepithelial"
   ]
  },
  {
   "cell_type": "code",
   "execution_count": null,
   "id": "63b50b49-d42f-40c9-88f4-c147e09cedf0",
   "metadata": {},
   "outputs": [],
   "source": [
    "sc.pl.highest_expr_genes(garciaepithelial, n_top=20)\n",
    "sc.tl.pca(garciaepithelial, svd_solver='arpack', n_comps=150)\n",
    "sc.pl.pca_variance_ratio(garciaepithelial)"
   ]
  },
  {
   "cell_type": "code",
   "execution_count": null,
   "id": "9d3db1ca-53c6-4a46-bbcc-c852b00f3fac",
   "metadata": {},
   "outputs": [],
   "source": [
    "sc.pp.neighbors(garciaepithelial, n_neighbors=320, n_pcs=33)\n",
    "sc.tl.leiden(garciaepithelial, resolution=2.5)\n",
    "sc.tl.umap(garciaepithelial, min_dist=0.2, spread=0.5)\n",
    "sc.pl.umap(garciaepithelial, color=['Author','Cell_Types'])"
   ]
  },
  {
   "cell_type": "code",
   "execution_count": null,
   "id": "24aa29f8-fa3f-4a09-9c39-2dcf0b94b33a",
   "metadata": {},
   "outputs": [],
   "source": [
    "cell_types = {'Ciliated':['7','18','33'],\n",
    "            'SOX9+':['22','17','11','30','35'],\n",
    "              'Glandular Epithelial':['28','9','6','4'],\n",
    "              'Luminal Epithelial':['32','13','2','12','25','23'],\n",
    "              'Glandular Secretory': ['36','21','8','27','10'],\n",
    "              'SOX9+ LGR5+':['24','19'],\n",
    "              'Other':['0','1','3','5','14','15','16','20','26','27','29','31','34','35','37','38','39','40']}\n",
    "\n",
    "garciaepithelial.obs['Cell_Types'] = np.nan\n",
    "\n",
    "for i in cell_types.keys():\n",
    "    ind = pd.Series(garciaepithelial.obs.leiden).isin(cell_types[i])\n",
    "    garciaepithelial.obs.loc[ind,'Cell_Types'] = i"
   ]
  },
  {
   "cell_type": "code",
   "execution_count": null,
   "id": "ac4f3339-4fa0-48b8-a04c-61c1c0c7b77b",
   "metadata": {},
   "outputs": [],
   "source": [
    "sc.pl.umap(garciaepithelial, color=['leiden', 'Cell_Types'])"
   ]
  },
  {
   "cell_type": "code",
   "execution_count": null,
   "id": "87ce9713-9fa7-4b72-847e-b8c7bb2461fd",
   "metadata": {},
   "outputs": [],
   "source": [
    "garciaepithelial=garciaepithelial[garciaepithelial.obs['Cell_Types'].isin(['Ciliated','SOX9+','Glandular Epithelial','Luminal Epithelial','Glandular Secretory','SOX9+ LGR5+']),:].copy()"
   ]
  },
  {
   "cell_type": "code",
   "execution_count": null,
   "id": "cf0a82e4-e057-4c6d-8a80-3389bd17d93e",
   "metadata": {},
   "outputs": [],
   "source": [
    "epithelial_celltypes = {'Ciliated (endometrial)':['22'],\n",
    "              'Ciliated LGR5+':['13'],\n",
    "              'Pre-Ciliated':['16'],\n",
    "            'SOX9+ LGR5+':['29'],\n",
    "              'SOX9+ LGR5-':['26','25','27','21','9'],\n",
    "              'Proliferative SOX9+':['17'],\n",
    "              'Glandular':['14','4','1'],\n",
    "              'Lumenal 1':['0','5','23','7','8','30','31','12'],\n",
    "              'Lumenal 2':['20'],\n",
    "              'Lumenal 3':['28','12'],\n",
    "              'Glandular Secretory': ['33','3','6','15','32','19','34','2','10','18'],\n",
    "              'Other/EPCAM-':['11','24']}\n",
    "\n",
    "garciaepithelial.obs['epithelial_celltypes'] = np.nan\n",
    "\n",
    "for i in epithelial_celltypes.keys():\n",
    "    ind = pd.Series(garciaepithelial.obs.leiden).isin(epithelial_celltypes[i])\n",
    "    garciaepithelial.obs.loc[ind,'epithelial_celltypes'] = i"
   ]
  },
  {
   "cell_type": "code",
   "execution_count": null,
   "id": "4232acd8-fa0b-43e0-beb4-5879e43e737c",
   "metadata": {},
   "outputs": [],
   "source": [
    "garciaepithelial=garciaepithelial[garciaepithelial.obs['Cell_Types'].isin(['Ciliated','Ciliated LGR5+','Pre-Ciliated','SOX9+ LGR5+','SOX9+ LGR5-','Proliferative SOX9+','Glandular','Lumenal 1','Lumenal 2','Lumenal 3','Glandular Secretory']),:].copy()"
   ]
  },
  {
   "cell_type": "code",
   "execution_count": null,
   "id": "7c2b53ff-727d-4bd9-93da-dee88ea090bf",
   "metadata": {},
   "outputs": [],
   "source": [
    "results_file = '/home/j87832lw/oviduct/oviduct.all/endometrialepithelialclustering.h5ad'\n",
    "garciaepithelial.write(results_file)"
   ]
  },
  {
   "cell_type": "code",
   "execution_count": null,
   "id": "20651941-f354-4e15-b343-57a41529ff77",
   "metadata": {},
   "outputs": [],
   "source": [
    "garciaepithelial = sc.read_h5ad('/home/j87832lw/oviduct/oviduct.all/endometrialepithelialclustering.h5ad')\n",
    "sc.pp.neighbors(garciaepithelial, n_neighbors=200, n_pcs=25)\n",
    "sc.tl.leiden(garciaepithelial, resolution = 2)\n",
    "sc.tl.paga(garciaepithelial)\n",
    "sc.pl.paga(garciaepithelial)\n",
    "sc.tl.umap(garciaepithelial)\n",
    "sc.pl.umap(garciaepithelial, color=['Author','Cell_Types','leiden'])"
   ]
  },
  {
   "cell_type": "code",
   "execution_count": null,
   "id": "8345b9ac-9b6c-4fa4-bb83-13cb4e6ce2f3",
   "metadata": {},
   "outputs": [],
   "source": [
    "sc.pl.umap(garciaepithelial, color=['leiden', 'Cell_Types'], legend_loc='on data')"
   ]
  },
  {
   "cell_type": "code",
   "execution_count": null,
   "id": "f39c566e-3493-4730-9fc9-eab6b8310426",
   "metadata": {},
   "outputs": [],
   "source": [
    "results_file = '/home/j87832lw/oviduct/oviduct.all/endometrialepithelialclusteringfinalforconcat.h5ad'\n",
    "garciaepithelial.write(results_file)"
   ]
  }
 ],
 "metadata": {
  "kernelspec": {
   "display_name": "Python 3 (ipykernel)",
   "language": "python",
   "name": "python3"
  },
  "language_info": {
   "codemirror_mode": {
    "name": "ipython",
    "version": 3
   },
   "file_extension": ".py",
   "mimetype": "text/x-python",
   "name": "python",
   "nbconvert_exporter": "python",
   "pygments_lexer": "ipython3",
   "version": "3.12.4"
  }
 },
 "nbformat": 4,
 "nbformat_minor": 5
}
