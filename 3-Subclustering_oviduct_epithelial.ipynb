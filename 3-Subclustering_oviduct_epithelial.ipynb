{
 "cells": [
  {
   "cell_type": "code",
   "execution_count": null,
   "id": "fe7c55b3-4439-4fd8-a102-90b71740536b",
   "metadata": {},
   "outputs": [],
   "source": [
    "import numpy as np\n",
    "import pandas as pd\n",
    "import scanpy as sc\n",
    "import scanpy.external as sce\n",
    "from matplotlib import pyplot as plt\n",
    "import scvelo as scv\n",
    "import anndata as ad\n",
    "import seaborn as sns\n",
    "import matplotlib.pyplot as plt\n",
    "import matplotlib\n",
    "from matplotlib import rcParams"
   ]
  },
  {
   "cell_type": "code",
   "execution_count": null,
   "id": "057360e1-0942-4486-9d5c-039fafea5b40",
   "metadata": {},
   "outputs": [],
   "source": [
    "sc.settings.verbosity=3\n",
    "sc.logging.print_header()\n",
    "sc.set_figure_params(dpi=300, fontsize=10)\n",
    "FIGSIZE = (4, 3)\n",
    "rcParams[\"figure.figsize\"] = FIGSIZE"
   ]
  },
  {
   "cell_type": "code",
   "execution_count": null,
   "id": "63fb17c6-6232-4224-b5b7-d73be28c7ec5",
   "metadata": {},
   "outputs": [],
   "source": [
    "oviduct = sc.read_h5ad('/home/j87832lw/mounting/oviduct/data/version2oviduct_concat.h5ad')\n",
    "oviduct.var_names_make_unique()\n",
    "oviductepithelial=oviduct[oviduct.obs['Cell_Types'].isin(['Secretory','Ciliated']),:].copy()\n",
    "oviductepithelial = oviductepithelial[~oviductepithelial.obs['Patient'].isnull()]\n",
    "oviduct"
   ]
  },
  {
   "cell_type": "code",
   "execution_count": null,
   "id": "9b28f4ec-7ba9-454d-b52e-e93a15e04cd3",
   "metadata": {},
   "outputs": [],
   "source": [
    "menopausal_dict = { 'Proliferative':['patient 1','patient 4','patient 6'],\n",
    "            'Secretory':['patient 3','patient 5','patient 7','patient 9','patient 12'],\n",
    "            'Peri-menopausal':['patient 4','patient 10','patient 11'],\n",
    "            'Post-menopausal':['patient 8','patient 13','patient 15'],}\n",
    "\n",
    "oviductepithelial.obs['menstrual_status'] = np.nan\n",
    "for i in menopausal_dict.keys():\n",
    "    ind = pd.Series(oviductepithelial.obs.Patient).isin(menopausal_dict[i])\n",
    "    oviductepithelial.obs.loc[ind,'menstrual_status'] = i\n",
    "\n",
    "oviductepithelial.obs['menstrual_status']= oviductepithelial.obs['menstrual_status'].astype('category')\n",
    "oviductepithelial.obs['menstrual_status']"
   ]
  },
  {
   "cell_type": "code",
   "execution_count": null,
   "id": "b49e9eb2-bffb-4e79-a7e0-4cdb2a7bc15f",
   "metadata": {},
   "outputs": [],
   "source": [
    "age_dict = { 47:['patient 1','patient 3'], 41:['patient 4'], 33:['patient 5'],\n",
    "            31:['patient 6'],\n",
    "            46:['patient 7','patient 9'],\n",
    "            62:['patient 8'],\n",
    "            52:['patient 10'],\n",
    "            50:['patient 11'],\n",
    "            45:['patient 12'],\n",
    "            64:['patient 13'],\n",
    "            55:['patient 15'],}\n",
    "\n",
    "oviductepithelial.obs['Age'] = np.nan\n",
    "for i in age_dict.keys():\n",
    "    ind = pd.Series(oviductepithelial.obs.Patient).isin(age_dict[i])\n",
    "    oviductepithelial.obs.loc[ind,'Age'] = i\n",
    "\n",
    "oviductepithelial.obs['Age']= oviductepithelial.obs['Age'].astype('category')\n",
    "oviductepithelial.obs['Age']"
   ]
  },
  {
   "cell_type": "code",
   "execution_count": null,
   "id": "cf3f4503-516f-4172-aa0e-535f7b88d9df",
   "metadata": {},
   "outputs": [],
   "source": [
    "cycleday_dict = {'day 3':['patient 1'],\n",
    "            'day 17':['patient 3'],\n",
    "            'day 7':['patient 4'],\n",
    "            'day 31':['patient 5'],\n",
    "            'day 13':['patient 6'],\n",
    "            'day 23':['patient 7'],\n",
    "            'day 28':['patient 9'],\n",
    "            'day 37':['patient 10'], \n",
    "            'unknown':['patient 11','patient 12'],\n",
    "            'post-menopausal':['patient 8','patient 13','patient 15']}\n",
    "\n",
    "oviductepithelial.obs['cycle_day'] = np.nan\n",
    "for i in cycleday_dict.keys():\n",
    "    ind = pd.Series(oviductepithelial.obs.Patient).isin(cycleday_dict[i])\n",
    "    oviductepithelial.obs.loc[ind,'cycle_day'] = i\n",
    "\n",
    "oviductepithelial.obs['cycle_day']= oviductepithelial.obs['cycle_day'].astype('category')\n",
    "oviductepithelial.obs['cycle_day']"
   ]
  },
  {
   "cell_type": "code",
   "execution_count": null,
   "id": "52d504da-7708-4f32-9232-02a4b93c793b",
   "metadata": {},
   "outputs": [],
   "source": [
    "tissue_dict ={'Fallopian tube - Ampulla':['Fallopian tube Ampulla cells','Fallopian tube (Ampulla)'],\n",
    "              'Fallopian tube - Fimbriae':['Fallopian tube Fimbria cells','Fallopian tube (Fimbria)'],\n",
    "              'Fallopian tube - Isthmus':['Fallopian tube Isthmus cells','Fallopian tube (Isthmus)'],\n",
    "              'Fallopian tube - Infundibulum':['normal fallopian tube cells','Fallopian tube (Infundibulum)'],\n",
    "              'Fallopian tube - Unspecified':['Fallopian tube','Left fallopian tube','Right fallopian tube']}\n",
    "\n",
    "oviductepithelial.obs['Tissuelocation'] = np.nan\n",
    "for i in tissue_dict.keys():\n",
    "    ind = pd.Series(oviductepithelial.obs.Tissue).isin(tissue_dict[i])\n",
    "    oviductepithelial.obs.loc[ind,'Tissuelocation'] = i\n",
    "\n",
    "oviductepithelial.obs['Tissuelocation']= oviductepithelial.obs['Tissuelocation'].astype('category')\n",
    "oviductepithelial.obs['Tissuelocation']\n",
    "\n",
    "oviductepithelial"
   ]
  },
  {
   "cell_type": "code",
   "execution_count": null,
   "id": "93da86d4-bad4-4812-9685-db7e0b5d784f",
   "metadata": {},
   "outputs": [],
   "source": [
    "sc.pp.combat(oviductepithelial, key='Patient')\n",
    "sc.tl.pca(oviductepithelial, svd_solver='arpack', n_comps=150)\n",
    "sc.pl.pca_variance_ratio(oviductepithelial)"
   ]
  },
  {
   "cell_type": "markdown",
   "id": "610850b6-6879-4a53-bbcc-965e8fd0ebfa",
   "metadata": {},
   "source": [
    "Plot UMAPS"
   ]
  },
  {
   "cell_type": "code",
   "execution_count": null,
   "id": "7e6df420-6c84-49d2-a100-37f077c8dde5",
   "metadata": {},
   "outputs": [],
   "source": [
    "sc.pp.neighbors(oviductepithelial, n_neighbors=90,n_pcs=7)\n",
    "sc.tl.leiden(oviductepithelial,resolution=0.8)\n",
    "sc.tl.umap(oviductepithelial)\n",
    "sc.pl.umap(oviductepithelial, color=['Author','leiden','Cell_Types','OVGP1','PAX8','LGR5','SOX9','PAEP'])\n",
    "scv.pp.moments(oviductepithelial)\n",
    "scv.tl.velocity(oviductepithelial, fit_offset2=True)\n",
    "scv.tl.velocity_graph(oviductepithelial)\n",
    "scv.pl.velocity_embedding_stream(oviductepithelial, basis='umap', color='leiden',\n",
    "                                 legend_fontsize='6', legend_loc='right margin')\n",
    "scv.pl.velocity_embedding_stream(oviductepithelial, basis='umap', color='LGR5',\n",
    "                                 legend_fontsize='6', legend_loc='right margin')"
   ]
  },
  {
   "cell_type": "code",
   "execution_count": null,
   "id": "5bacedc3-9daf-433e-815a-5a95cdd0e9ff",
   "metadata": {},
   "outputs": [],
   "source": [
    "results_file = '/home/j87832lw/mounting/oviduct/data/oviductepitheliumforconcat.h5ad'\n",
    "oviductepithelial.write(results_file)"
   ]
  },
  {
   "cell_type": "code",
   "execution_count": null,
   "id": "986e37b0-f291-43e5-8bda-25db6523ea20",
   "metadata": {},
   "outputs": [],
   "source": [
    "oviductepithelial=sc.read_h5ad('/home/j87832lw/mounting/oviduct/data/oviductepitheliumforconcat.h5ad')"
   ]
  },
  {
   "cell_type": "markdown",
   "id": "4c630c1e-d182-44b5-824f-adc291ad7a72",
   "metadata": {},
   "source": [
    "Label Leiden clusters"
   ]
  },
  {
   "cell_type": "code",
   "execution_count": null,
   "id": "9b433704-cbe4-4821-b5e6-015fcb2545de",
   "metadata": {},
   "outputs": [],
   "source": [
    "epithelial_celltypes = {'Pre-ciliated-2':['1'],\n",
    "                        'Progenitor':['2'],\n",
    "                        'Mature secretory':['3','9','5'],\n",
    "                        'Mature multiciliated':['4','7','0'],\n",
    "                        'Pre-ciliated-1':['6'],\n",
    "                        'OVGP1+ ciliated':['8'],\n",
    "                       'LGR5+ secretory':['10'],\n",
    "                        'Mature secretory (Primary cilia)':['11']}\n",
    "\n",
    "oviductepithelial.obs['epithelial_celltypes'] = np.nan\n",
    "\n",
    "for i in epithelial_celltypes.keys():\n",
    "    ind = pd.Series(oviductepithelial.obs.leiden).isin(epithelial_celltypes[i])\n",
    "    oviductepithelial.obs.loc[ind,'epithelial_celltypes'] = i\n",
    "\n",
    "oviductepithelial.obs['epithelial_celltypes']= oviductepithelial.obs['epithelial_celltypes'].astype('category')\n",
    "oviductepithelial.obs['epithelial_celltypes']\n",
    "\n",
    "sc.pl.umap(oviductepithelial, color=['epithelial_celltypes']"
   ]
  },
  {
   "cell_type": "code",
   "execution_count": null,
   "id": "2c864c7f-c96f-4def-a1f7-1d831ce51388",
   "metadata": {},
   "outputs": [],
   "source": [
    "sc.pl.umap(oviductepithelial, color=['LGR5','OVGP1','FOXJ1'])"
   ]
  },
  {
   "cell_type": "code",
   "execution_count": null,
   "id": "1a0d4673-7ce3-4914-a4c9-a4ae1d7e8827",
   "metadata": {},
   "outputs": [],
   "source": [
    "marker_genes= ['TPPP3','FOXJ1','PIFO','CFAP157','C9orf24','SPAG6','OVGP1',\n",
    "               'CRISP3','PGR','CXCL2','NOTCH2','ATP2B4','C3','LGR5','BCAM',\n",
    "               'MSLN','VPS4A','PAX8']\n",
    "\n",
    "sc.tl.dendrogram(oviductepithelial, groupby='epithelial_celltypes')\n",
    "\n",
    "sc.pl.dotplot(oviductepithelial, marker_genes, groupby='epithelial_celltypes', dendrogram=True, var_group_rotation=[90],swap_axes=True)\n"
   ]
  },
  {
   "cell_type": "markdown",
   "id": "ae3114b4-398b-476c-b186-e39ffaa38e65",
   "metadata": {},
   "source": [
    "Marker gene heatmaps "
   ]
  },
  {
   "cell_type": "code",
   "execution_count": null,
   "id": "12890c07-acf3-4cec-8320-837852aef2b3",
   "metadata": {},
   "outputs": [],
   "source": [
    "sc.pp.log1p(oviductepithelial)\n",
    "sc.tl.rank_genes_groups(oviductepithelial,'epithelial_celltypes', method='wilcoxon')\n",
    "sc.tl.dendrogram(oviductepithelial, groupby='epithelial_celltypes')\n",
    "sc.pl.rank_genes_groups_heatmap(oviductepithelial, n_genes=25, swap_axes=True, show_gene_labels=False,\n",
    "                                vmin=-3, vmax=3)"
   ]
  },
  {
   "cell_type": "markdown",
   "id": "605c30ca-6585-44cc-a8b9-21ba6c764631",
   "metadata": {},
   "source": [
    "Further velocity analysis "
   ]
  },
  {
   "cell_type": "code",
   "execution_count": null,
   "id": "30072c8d-22c8-41e8-9b18-bacfbb2d5c06",
   "metadata": {},
   "outputs": [],
   "source": [
    "scv.tl.velocity_confidence(oviductepithelial)\n",
    "keys = 'velocity_length','velocity_confidence'\n",
    "scv.pl.scatter(oviductepithelial, c=keys, cmap='coolwarm', perc=[5,95], size=4) "
   ]
  },
  {
   "cell_type": "code",
   "execution_count": null,
   "id": "dd7ee375-3d2a-4a0c-8602-a55a7b795d09",
   "metadata": {},
   "outputs": [],
   "source": [
    "df = oviductepithelial.obs.groupby('epithelial_celltypes')[keys].mean().T\n",
    "styled_df= df.style.background_gradient(cmap='coolwarm', axis=1)\n",
    "styled_df=styled_df.format('{:.2f}')\n",
    "\n",
    "styled_df"
   ]
  }
 ],
 "metadata": {
  "kernelspec": {
   "display_name": "Python 3 (ipykernel)",
   "language": "python",
   "name": "python3"
  },
  "language_info": {
   "codemirror_mode": {
    "name": "ipython",
    "version": 3
   },
   "file_extension": ".py",
   "mimetype": "text/x-python",
   "name": "python",
   "nbconvert_exporter": "python",
   "pygments_lexer": "ipython3",
   "version": "3.12.4"
  }
 },
 "nbformat": 4,
 "nbformat_minor": 5
}
